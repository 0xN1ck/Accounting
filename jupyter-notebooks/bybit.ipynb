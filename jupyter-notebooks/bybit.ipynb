{
 "cells": [
  {
   "cell_type": "code",
   "execution_count": 124,
   "outputs": [],
   "source": [
    "import pandas as pd\n",
    "from IPython.display import display"
   ],
   "metadata": {
    "collapsed": false,
    "ExecuteTime": {
     "end_time": "2023-09-26T20:59:37.084804100Z",
     "start_time": "2023-09-26T20:59:37.049805400Z"
    }
   },
   "id": "initial_id"
  },
  {
   "cell_type": "code",
   "execution_count": 125,
   "outputs": [],
   "source": [
    "bybit_history_p2p = pd.read_excel('../docs/bybit/bybit история p2p сделок.xlsx')"
   ],
   "metadata": {
    "collapsed": false,
    "ExecuteTime": {
     "end_time": "2023-09-26T20:59:37.117804800Z",
     "start_time": "2023-09-26T20:59:37.060805300Z"
    }
   },
   "id": "9e58cc59dd42053c"
  },
  {
   "cell_type": "code",
   "execution_count": 126,
   "outputs": [],
   "source": [
    "bybit_history_p2p['Time'] = pd.to_datetime(bybit_history_p2p['Time'])\n",
    "# display(bybit_history_p2p)"
   ],
   "metadata": {
    "collapsed": false,
    "ExecuteTime": {
     "end_time": "2023-09-26T20:59:37.131804500Z",
     "start_time": "2023-09-26T20:59:37.107805800Z"
    }
   },
   "id": "c5044e31ae8449aa"
  },
  {
   "cell_type": "code",
   "execution_count": 127,
   "outputs": [
    {
     "data": {
      "text/plain": "                          Order No. p2p-convert Type  Fiat Amount Currency  \\\nCryptocurrency                                                               \nBTC             1701409856965210112          no  BUY     12159.68      RUB   \nBTC             1701393455533682688          no  BUY      9600.99      RUB   \nUSDT            1701390893358874624          no  BUY     71140.00      RUB   \nBTC             1701379365331107840          no  BUY     18020.06      RUB   \nUSDT            1701374303568576512          no  BUY     50076.00      RUB   \nUSDT            1701324813467021312          no  BUY    190000.00      RUB   \n\n                     Price Currency.1  Coin Amount  Transaction Fees  \\\nCryptocurrency                                                         \nBTC             2402781.37        RUB     0.005061                 0   \nBTC             2412309.61        RUB     0.003980                 0   \nUSDT                 96.07        RUB   740.501700                 0   \nBTC             2410511.43        RUB     0.007476                 0   \nUSDT                 96.30        RUB   520.000000                 0   \nUSDT                 96.58        RUB  1967.281000                 0   \n\n               Cryptocurrency.1    Counterparty     Status                Time  \nCryptocurrency                                                                  \nBTC                         BTC  User0836l8j5bd  Completed 2023-09-12 01:38:16  \nBTC                         BTC  User4023GiqCp3  Completed 2023-09-12 00:33:05  \nUSDT                       USDT         iprahka  Completed 2023-09-12 00:22:54  \nBTC                         BTC  User8308zJdxrt  Completed 2023-09-11 23:37:06  \nUSDT                       USDT        Ecu.chan  Completed 2023-09-11 23:16:59  \nUSDT                       USDT  User7693NOT8ha  Completed 2023-09-11 20:00:20  ",
      "text/html": "<div>\n<style scoped>\n    .dataframe tbody tr th:only-of-type {\n        vertical-align: middle;\n    }\n\n    .dataframe tbody tr th {\n        vertical-align: top;\n    }\n\n    .dataframe thead th {\n        text-align: right;\n    }\n</style>\n<table border=\"1\" class=\"dataframe\">\n  <thead>\n    <tr style=\"text-align: right;\">\n      <th></th>\n      <th>Order No.</th>\n      <th>p2p-convert</th>\n      <th>Type</th>\n      <th>Fiat Amount</th>\n      <th>Currency</th>\n      <th>Price</th>\n      <th>Currency.1</th>\n      <th>Coin Amount</th>\n      <th>Transaction Fees</th>\n      <th>Cryptocurrency.1</th>\n      <th>Counterparty</th>\n      <th>Status</th>\n      <th>Time</th>\n    </tr>\n    <tr>\n      <th>Cryptocurrency</th>\n      <th></th>\n      <th></th>\n      <th></th>\n      <th></th>\n      <th></th>\n      <th></th>\n      <th></th>\n      <th></th>\n      <th></th>\n      <th></th>\n      <th></th>\n      <th></th>\n      <th></th>\n    </tr>\n  </thead>\n  <tbody>\n    <tr>\n      <th>BTC</th>\n      <td>1701409856965210112</td>\n      <td>no</td>\n      <td>BUY</td>\n      <td>12159.68</td>\n      <td>RUB</td>\n      <td>2402781.37</td>\n      <td>RUB</td>\n      <td>0.005061</td>\n      <td>0</td>\n      <td>BTC</td>\n      <td>User0836l8j5bd</td>\n      <td>Completed</td>\n      <td>2023-09-12 01:38:16</td>\n    </tr>\n    <tr>\n      <th>BTC</th>\n      <td>1701393455533682688</td>\n      <td>no</td>\n      <td>BUY</td>\n      <td>9600.99</td>\n      <td>RUB</td>\n      <td>2412309.61</td>\n      <td>RUB</td>\n      <td>0.003980</td>\n      <td>0</td>\n      <td>BTC</td>\n      <td>User4023GiqCp3</td>\n      <td>Completed</td>\n      <td>2023-09-12 00:33:05</td>\n    </tr>\n    <tr>\n      <th>USDT</th>\n      <td>1701390893358874624</td>\n      <td>no</td>\n      <td>BUY</td>\n      <td>71140.00</td>\n      <td>RUB</td>\n      <td>96.07</td>\n      <td>RUB</td>\n      <td>740.501700</td>\n      <td>0</td>\n      <td>USDT</td>\n      <td>iprahka</td>\n      <td>Completed</td>\n      <td>2023-09-12 00:22:54</td>\n    </tr>\n    <tr>\n      <th>BTC</th>\n      <td>1701379365331107840</td>\n      <td>no</td>\n      <td>BUY</td>\n      <td>18020.06</td>\n      <td>RUB</td>\n      <td>2410511.43</td>\n      <td>RUB</td>\n      <td>0.007476</td>\n      <td>0</td>\n      <td>BTC</td>\n      <td>User8308zJdxrt</td>\n      <td>Completed</td>\n      <td>2023-09-11 23:37:06</td>\n    </tr>\n    <tr>\n      <th>USDT</th>\n      <td>1701374303568576512</td>\n      <td>no</td>\n      <td>BUY</td>\n      <td>50076.00</td>\n      <td>RUB</td>\n      <td>96.30</td>\n      <td>RUB</td>\n      <td>520.000000</td>\n      <td>0</td>\n      <td>USDT</td>\n      <td>Ecu.chan</td>\n      <td>Completed</td>\n      <td>2023-09-11 23:16:59</td>\n    </tr>\n    <tr>\n      <th>USDT</th>\n      <td>1701324813467021312</td>\n      <td>no</td>\n      <td>BUY</td>\n      <td>190000.00</td>\n      <td>RUB</td>\n      <td>96.58</td>\n      <td>RUB</td>\n      <td>1967.281000</td>\n      <td>0</td>\n      <td>USDT</td>\n      <td>User7693NOT8ha</td>\n      <td>Completed</td>\n      <td>2023-09-11 20:00:20</td>\n    </tr>\n  </tbody>\n</table>\n</div>"
     },
     "metadata": {},
     "output_type": "display_data"
    }
   ],
   "source": [
    "filtered_data_bybit_history_p2p = bybit_history_p2p[(bybit_history_p2p['Time'] >= '2023-09-11 19:00:00') & (bybit_history_p2p['Time'] <= '2023-09-12 07:00:00')]\n",
    "\n",
    "filtered_data_bybit_history_p2p_buy = filtered_data_bybit_history_p2p[filtered_data_bybit_history_p2p['Type'] == 'BUY']\n",
    "filtered_data_bybit_history_p2p_buy.set_index('Cryptocurrency', inplace=True)\n",
    "display(filtered_data_bybit_history_p2p_buy)"
   ],
   "metadata": {
    "collapsed": false,
    "ExecuteTime": {
     "end_time": "2023-09-26T20:59:37.142804200Z",
     "start_time": "2023-09-26T20:59:37.121805400Z"
    }
   },
   "id": "21708152910cd055"
  },
  {
   "cell_type": "code",
   "execution_count": 128,
   "outputs": [
    {
     "data": {
      "text/plain": "                Fiat Amount         Price  Coin Amount\nCryptocurrency                                        \nBTC                39780.73  2.408534e+06     0.016516\nUSDT              311216.00  9.631667e+01  3227.782700",
      "text/html": "<div>\n<style scoped>\n    .dataframe tbody tr th:only-of-type {\n        vertical-align: middle;\n    }\n\n    .dataframe tbody tr th {\n        vertical-align: top;\n    }\n\n    .dataframe thead th {\n        text-align: right;\n    }\n</style>\n<table border=\"1\" class=\"dataframe\">\n  <thead>\n    <tr style=\"text-align: right;\">\n      <th></th>\n      <th>Fiat Amount</th>\n      <th>Price</th>\n      <th>Coin Amount</th>\n    </tr>\n    <tr>\n      <th>Cryptocurrency</th>\n      <th></th>\n      <th></th>\n      <th></th>\n    </tr>\n  </thead>\n  <tbody>\n    <tr>\n      <th>BTC</th>\n      <td>39780.73</td>\n      <td>2.408534e+06</td>\n      <td>0.016516</td>\n    </tr>\n    <tr>\n      <th>USDT</th>\n      <td>311216.00</td>\n      <td>9.631667e+01</td>\n      <td>3227.782700</td>\n    </tr>\n  </tbody>\n</table>\n</div>"
     },
     "metadata": {},
     "output_type": "display_data"
    }
   ],
   "source": [
    "filtered_data_bybit_history_p2p_buy_sum = filtered_data_bybit_history_p2p_buy.groupby('Cryptocurrency').agg({'Fiat Amount': 'sum', 'Price': 'mean', 'Coin Amount': 'sum'})\n",
    "display(filtered_data_bybit_history_p2p_buy_sum)"
   ],
   "metadata": {
    "collapsed": false,
    "ExecuteTime": {
     "end_time": "2023-09-26T20:59:37.169804100Z",
     "start_time": "2023-09-26T20:59:37.138805700Z"
    }
   },
   "id": "f80353135825fa51"
  },
  {
   "cell_type": "code",
   "execution_count": 129,
   "outputs": [],
   "source": [
    "bybit_history_spot = pd.read_excel('../docs/bybit/bybit история спотовой торговли.xlsx')"
   ],
   "metadata": {
    "collapsed": false,
    "ExecuteTime": {
     "end_time": "2023-09-26T20:59:37.271351300Z",
     "start_time": "2023-09-26T20:59:37.153805200Z"
    }
   },
   "id": "6cf7e08776ef9ae6"
  },
  {
   "cell_type": "code",
   "execution_count": 130,
   "outputs": [
    {
     "data": {
      "text/plain": "   Timestamp (Local Time)                Spot Pairs              Order Type  \\\n0     2023-09-13 20:21:36                  BTC/USDT                  MARKET   \n1                     NaT  Filled Time (Local Time)            Filled Value   \n2                     NaT       2023-09-13 20:21:36   55.0490251500000 USDT   \n3     2023-09-13 19:50:26                  BTC/USDT                  MARKET   \n4                     NaT  Filled Time (Local Time)            Filled Value   \n..                    ...                       ...                     ...   \n57                    NaT  Filled Time (Local Time)            Filled Value   \n58                    NaT       2023-09-12 06:17:37  231.2144435900000 USDT   \n59    2023-09-12 02:40:52                  BTC/USDT                  MARKET   \n60                    NaT  Filled Time (Local Time)            Filled Value   \n61                    NaT       2023-09-12 02:40:52  188.0408010000000 USDT   \n\n                        Direction              Filled Value  \\\n0                            SELL     55.0490251500000 USDT   \n1                    Filled Price           Filled Quantity   \n2   26326.650000000000000000 USDT  0.002091000000000000 BTC   \n3                            SELL     82.4955846400000 USDT   \n4                    Filled Price           Filled Quantity   \n..                            ...                       ...   \n57                   Filled Price           Filled Quantity   \n58  25573.990000000000000000 USDT  0.009041000000000000 BTC   \n59                           SELL    188.0408010000000 USDT   \n60                   Filled Price           Filled Quantity   \n61  25155.960000000000000000 USDT  0.007475000000000000 BTC   \n\n                Avg. Filled Price           Filled Quantity  \\\n0   26326.650000000000000000 USDT  0.002091000000000000 BTC   \n1                            Fees            Transaction ID   \n2            0.0550490251500 USDT                  73484800   \n3   26305.990000000000000000 USDT  0.003136000000000000 BTC   \n4                            Fees            Transaction ID   \n..                            ...                       ...   \n57                           Fees            Transaction ID   \n58           0.2312144435900 USDT                  93056256   \n59  25155.960000000000000000 USDT  0.007475000000000000 BTC   \n60                           Fees            Transaction ID   \n61           0.1880408010000 USDT                  13233920   \n\n            Order Price            Order Quantity Order Value Order Status  \\\n0                MARKET  0.002091000000000000 BTC          --       FILLED   \n1       Timestamp (UTC)                       NaN         NaN          NaN   \n2   2023-09-13 17:21:36                       NaN         NaN          NaN   \n3                MARKET  0.003136000000000000 BTC          --       FILLED   \n4       Timestamp (UTC)                       NaN         NaN          NaN   \n..                  ...                       ...         ...          ...   \n57      Timestamp (UTC)                       NaN         NaN          NaN   \n58  2023-09-12 03:17:37                       NaN         NaN          NaN   \n59               MARKET  0.007475000000000000 BTC          --       FILLED   \n60      Timestamp (UTC)                       NaN         NaN          NaN   \n61  2023-09-11 23:40:52                       NaN         NaN          NaN   \n\n     Order No.      Timestamp (UTC)  \n0   97936128.0  2023-09-13 17:21:36  \n1          NaN                  NaN  \n2          NaN                  NaN  \n3   87886592.0  2023-09-13 16:50:26  \n4          NaN                  NaN  \n..         ...                  ...  \n57         NaN                  NaN  \n58         NaN                  NaN  \n59  20851968.0  2023-09-11 23:40:52  \n60         NaN                  NaN  \n61         NaN                  NaN  \n\n[62 rows x 13 columns]",
      "text/html": "<div>\n<style scoped>\n    .dataframe tbody tr th:only-of-type {\n        vertical-align: middle;\n    }\n\n    .dataframe tbody tr th {\n        vertical-align: top;\n    }\n\n    .dataframe thead th {\n        text-align: right;\n    }\n</style>\n<table border=\"1\" class=\"dataframe\">\n  <thead>\n    <tr style=\"text-align: right;\">\n      <th></th>\n      <th>Timestamp (Local Time)</th>\n      <th>Spot Pairs</th>\n      <th>Order Type</th>\n      <th>Direction</th>\n      <th>Filled Value</th>\n      <th>Avg. Filled Price</th>\n      <th>Filled Quantity</th>\n      <th>Order Price</th>\n      <th>Order Quantity</th>\n      <th>Order Value</th>\n      <th>Order Status</th>\n      <th>Order No.</th>\n      <th>Timestamp (UTC)</th>\n    </tr>\n  </thead>\n  <tbody>\n    <tr>\n      <th>0</th>\n      <td>2023-09-13 20:21:36</td>\n      <td>BTC/USDT</td>\n      <td>MARKET</td>\n      <td>SELL</td>\n      <td>55.0490251500000 USDT</td>\n      <td>26326.650000000000000000 USDT</td>\n      <td>0.002091000000000000 BTC</td>\n      <td>MARKET</td>\n      <td>0.002091000000000000 BTC</td>\n      <td>--</td>\n      <td>FILLED</td>\n      <td>97936128.0</td>\n      <td>2023-09-13 17:21:36</td>\n    </tr>\n    <tr>\n      <th>1</th>\n      <td>NaT</td>\n      <td>Filled Time (Local Time)</td>\n      <td>Filled Value</td>\n      <td>Filled Price</td>\n      <td>Filled Quantity</td>\n      <td>Fees</td>\n      <td>Transaction ID</td>\n      <td>Timestamp (UTC)</td>\n      <td>NaN</td>\n      <td>NaN</td>\n      <td>NaN</td>\n      <td>NaN</td>\n      <td>NaN</td>\n    </tr>\n    <tr>\n      <th>2</th>\n      <td>NaT</td>\n      <td>2023-09-13 20:21:36</td>\n      <td>55.0490251500000 USDT</td>\n      <td>26326.650000000000000000 USDT</td>\n      <td>0.002091000000000000 BTC</td>\n      <td>0.0550490251500 USDT</td>\n      <td>73484800</td>\n      <td>2023-09-13 17:21:36</td>\n      <td>NaN</td>\n      <td>NaN</td>\n      <td>NaN</td>\n      <td>NaN</td>\n      <td>NaN</td>\n    </tr>\n    <tr>\n      <th>3</th>\n      <td>2023-09-13 19:50:26</td>\n      <td>BTC/USDT</td>\n      <td>MARKET</td>\n      <td>SELL</td>\n      <td>82.4955846400000 USDT</td>\n      <td>26305.990000000000000000 USDT</td>\n      <td>0.003136000000000000 BTC</td>\n      <td>MARKET</td>\n      <td>0.003136000000000000 BTC</td>\n      <td>--</td>\n      <td>FILLED</td>\n      <td>87886592.0</td>\n      <td>2023-09-13 16:50:26</td>\n    </tr>\n    <tr>\n      <th>4</th>\n      <td>NaT</td>\n      <td>Filled Time (Local Time)</td>\n      <td>Filled Value</td>\n      <td>Filled Price</td>\n      <td>Filled Quantity</td>\n      <td>Fees</td>\n      <td>Transaction ID</td>\n      <td>Timestamp (UTC)</td>\n      <td>NaN</td>\n      <td>NaN</td>\n      <td>NaN</td>\n      <td>NaN</td>\n      <td>NaN</td>\n    </tr>\n    <tr>\n      <th>...</th>\n      <td>...</td>\n      <td>...</td>\n      <td>...</td>\n      <td>...</td>\n      <td>...</td>\n      <td>...</td>\n      <td>...</td>\n      <td>...</td>\n      <td>...</td>\n      <td>...</td>\n      <td>...</td>\n      <td>...</td>\n      <td>...</td>\n    </tr>\n    <tr>\n      <th>57</th>\n      <td>NaT</td>\n      <td>Filled Time (Local Time)</td>\n      <td>Filled Value</td>\n      <td>Filled Price</td>\n      <td>Filled Quantity</td>\n      <td>Fees</td>\n      <td>Transaction ID</td>\n      <td>Timestamp (UTC)</td>\n      <td>NaN</td>\n      <td>NaN</td>\n      <td>NaN</td>\n      <td>NaN</td>\n      <td>NaN</td>\n    </tr>\n    <tr>\n      <th>58</th>\n      <td>NaT</td>\n      <td>2023-09-12 06:17:37</td>\n      <td>231.2144435900000 USDT</td>\n      <td>25573.990000000000000000 USDT</td>\n      <td>0.009041000000000000 BTC</td>\n      <td>0.2312144435900 USDT</td>\n      <td>93056256</td>\n      <td>2023-09-12 03:17:37</td>\n      <td>NaN</td>\n      <td>NaN</td>\n      <td>NaN</td>\n      <td>NaN</td>\n      <td>NaN</td>\n    </tr>\n    <tr>\n      <th>59</th>\n      <td>2023-09-12 02:40:52</td>\n      <td>BTC/USDT</td>\n      <td>MARKET</td>\n      <td>SELL</td>\n      <td>188.0408010000000 USDT</td>\n      <td>25155.960000000000000000 USDT</td>\n      <td>0.007475000000000000 BTC</td>\n      <td>MARKET</td>\n      <td>0.007475000000000000 BTC</td>\n      <td>--</td>\n      <td>FILLED</td>\n      <td>20851968.0</td>\n      <td>2023-09-11 23:40:52</td>\n    </tr>\n    <tr>\n      <th>60</th>\n      <td>NaT</td>\n      <td>Filled Time (Local Time)</td>\n      <td>Filled Value</td>\n      <td>Filled Price</td>\n      <td>Filled Quantity</td>\n      <td>Fees</td>\n      <td>Transaction ID</td>\n      <td>Timestamp (UTC)</td>\n      <td>NaN</td>\n      <td>NaN</td>\n      <td>NaN</td>\n      <td>NaN</td>\n      <td>NaN</td>\n    </tr>\n    <tr>\n      <th>61</th>\n      <td>NaT</td>\n      <td>2023-09-12 02:40:52</td>\n      <td>188.0408010000000 USDT</td>\n      <td>25155.960000000000000000 USDT</td>\n      <td>0.007475000000000000 BTC</td>\n      <td>0.1880408010000 USDT</td>\n      <td>13233920</td>\n      <td>2023-09-11 23:40:52</td>\n      <td>NaN</td>\n      <td>NaN</td>\n      <td>NaN</td>\n      <td>NaN</td>\n      <td>NaN</td>\n    </tr>\n  </tbody>\n</table>\n<p>62 rows × 13 columns</p>\n</div>"
     },
     "metadata": {},
     "output_type": "display_data"
    }
   ],
   "source": [
    "bybit_history_spot['Timestamp (Local Time)'] = pd.to_datetime(bybit_history_spot['Timestamp (Local Time)'])\n",
    "display(bybit_history_spot)"
   ],
   "metadata": {
    "collapsed": false,
    "ExecuteTime": {
     "end_time": "2023-09-26T20:59:37.271351300Z",
     "start_time": "2023-09-26T20:59:37.183805500Z"
    }
   },
   "id": "f6524c3ca7b908ea"
  },
  {
   "cell_type": "code",
   "execution_count": 131,
   "outputs": [
    {
     "data": {
      "text/plain": "   Timestamp (Local Time) Spot Pairs Order Type Direction  \\\n56    2023-09-12 06:17:37   BTC/USDT     MARKET      SELL   \n59    2023-09-12 02:40:52   BTC/USDT     MARKET      SELL   \n\n              Filled Value              Avg. Filled Price  \\\n56  231.2144435900000 USDT  25573.990000000000000000 USDT   \n59  188.0408010000000 USDT  25155.960000000000000000 USDT   \n\n             Filled Quantity Order Price            Order Quantity  \\\n56  0.009041000000000000 BTC      MARKET  0.009041000000000000 BTC   \n59  0.007475000000000000 BTC      MARKET  0.007475000000000000 BTC   \n\n   Order Value Order Status   Order No.      Timestamp (UTC)  \n56          --       FILLED   9200128.0  2023-09-12 03:17:37  \n59          --       FILLED  20851968.0  2023-09-11 23:40:52  ",
      "text/html": "<div>\n<style scoped>\n    .dataframe tbody tr th:only-of-type {\n        vertical-align: middle;\n    }\n\n    .dataframe tbody tr th {\n        vertical-align: top;\n    }\n\n    .dataframe thead th {\n        text-align: right;\n    }\n</style>\n<table border=\"1\" class=\"dataframe\">\n  <thead>\n    <tr style=\"text-align: right;\">\n      <th></th>\n      <th>Timestamp (Local Time)</th>\n      <th>Spot Pairs</th>\n      <th>Order Type</th>\n      <th>Direction</th>\n      <th>Filled Value</th>\n      <th>Avg. Filled Price</th>\n      <th>Filled Quantity</th>\n      <th>Order Price</th>\n      <th>Order Quantity</th>\n      <th>Order Value</th>\n      <th>Order Status</th>\n      <th>Order No.</th>\n      <th>Timestamp (UTC)</th>\n    </tr>\n  </thead>\n  <tbody>\n    <tr>\n      <th>56</th>\n      <td>2023-09-12 06:17:37</td>\n      <td>BTC/USDT</td>\n      <td>MARKET</td>\n      <td>SELL</td>\n      <td>231.2144435900000 USDT</td>\n      <td>25573.990000000000000000 USDT</td>\n      <td>0.009041000000000000 BTC</td>\n      <td>MARKET</td>\n      <td>0.009041000000000000 BTC</td>\n      <td>--</td>\n      <td>FILLED</td>\n      <td>9200128.0</td>\n      <td>2023-09-12 03:17:37</td>\n    </tr>\n    <tr>\n      <th>59</th>\n      <td>2023-09-12 02:40:52</td>\n      <td>BTC/USDT</td>\n      <td>MARKET</td>\n      <td>SELL</td>\n      <td>188.0408010000000 USDT</td>\n      <td>25155.960000000000000000 USDT</td>\n      <td>0.007475000000000000 BTC</td>\n      <td>MARKET</td>\n      <td>0.007475000000000000 BTC</td>\n      <td>--</td>\n      <td>FILLED</td>\n      <td>20851968.0</td>\n      <td>2023-09-11 23:40:52</td>\n    </tr>\n  </tbody>\n</table>\n</div>"
     },
     "metadata": {},
     "output_type": "display_data"
    }
   ],
   "source": [
    "filtered_data_bybit_history_spot = bybit_history_spot[(bybit_history_spot['Timestamp (Local Time)'] >= '2023-09-11 19:00:00') & (bybit_history_spot['Timestamp (Local Time)'] <= '2023-09-12 07:00:00')]\n",
    "\n",
    "display(filtered_data_bybit_history_spot)"
   ],
   "metadata": {
    "collapsed": false,
    "ExecuteTime": {
     "end_time": "2023-09-26T20:59:37.272352500Z",
     "start_time": "2023-09-26T20:59:37.199351500Z"
    }
   },
   "id": "aa3e4c4ca074ac9a"
  },
  {
   "cell_type": "code",
   "execution_count": 132,
   "outputs": [
    {
     "data": {
      "text/plain": "                Fiat Amount      Price  Coin Amount\nCryptocurrency                                     \nBTC                39780.73  94.884275   419.255245\nUSDT              311216.00  96.316667  3227.782700",
      "text/html": "<div>\n<style scoped>\n    .dataframe tbody tr th:only-of-type {\n        vertical-align: middle;\n    }\n\n    .dataframe tbody tr th {\n        vertical-align: top;\n    }\n\n    .dataframe thead th {\n        text-align: right;\n    }\n</style>\n<table border=\"1\" class=\"dataframe\">\n  <thead>\n    <tr style=\"text-align: right;\">\n      <th></th>\n      <th>Fiat Amount</th>\n      <th>Price</th>\n      <th>Coin Amount</th>\n    </tr>\n    <tr>\n      <th>Cryptocurrency</th>\n      <th></th>\n      <th></th>\n      <th></th>\n    </tr>\n  </thead>\n  <tbody>\n    <tr>\n      <th>BTC</th>\n      <td>39780.73</td>\n      <td>94.884275</td>\n      <td>419.255245</td>\n    </tr>\n    <tr>\n      <th>USDT</th>\n      <td>311216.00</td>\n      <td>96.316667</td>\n      <td>3227.782700</td>\n    </tr>\n  </tbody>\n</table>\n</div>"
     },
     "metadata": {},
     "output_type": "display_data"
    }
   ],
   "source": [
    "for index in filtered_data_bybit_history_p2p_buy_sum.index:\n",
    "    if not index == 'USDT':\n",
    "        matching_values = filtered_data_bybit_history_spot[filtered_data_bybit_history_spot['Spot Pairs'].str.contains(index)]['Filled Value'].apply(lambda x: re.findall(r'\\d+\\.\\d+', x)[0]).astype(float).sum()\n",
    "        filtered_data_bybit_history_p2p_buy_sum.loc[index]['Coin Amount'] = matching_values\n",
    "        filtered_data_bybit_history_p2p_buy_sum.loc[index]['Price'] = filtered_data_bybit_history_p2p_buy_sum.loc[index]['Fiat Amount'] / matching_values \n",
    "        matching_values = 0\n",
    "display(filtered_data_bybit_history_p2p_buy_sum)"
   ],
   "metadata": {
    "collapsed": false,
    "ExecuteTime": {
     "end_time": "2023-09-26T20:59:37.272352500Z",
     "start_time": "2023-09-26T20:59:37.220352300Z"
    }
   },
   "id": "6651d9a81eb317a2"
  },
  {
   "cell_type": "code",
   "execution_count": 133,
   "outputs": [],
   "source": [
    "from openpyxl import load_workbook\n",
    "from openpyxl.styles import Font, Alignment\n",
    "from openpyxl.utils import coordinate_to_tuple\n",
    "import re"
   ],
   "metadata": {
    "collapsed": false,
    "ExecuteTime": {
     "end_time": "2023-09-26T20:59:37.272352500Z",
     "start_time": "2023-09-26T20:59:37.232352800Z"
    }
   },
   "id": "626ac3666165d15e"
  },
  {
   "cell_type": "code",
   "execution_count": 134,
   "outputs": [],
   "source": [
    "def find_empty_cell_top(column_index, sheet):\n",
    "    # Поиск первой пустой ячейки сверху вниз\n",
    "    empty_cell = None\n",
    "    row_index = 3\n",
    "    \n",
    "    while empty_cell is None:\n",
    "        cell_value = sheet.cell(row=row_index, column=column_index).value\n",
    "        if cell_value is None:\n",
    "            empty_cell = sheet.cell(row=row_index, column=column_index).coordinate\n",
    "        else:\n",
    "            row_index += 1\n",
    "            \n",
    "    return coordinate_to_tuple(empty_cell)"
   ],
   "metadata": {
    "collapsed": false,
    "ExecuteTime": {
     "end_time": "2023-09-26T20:59:37.336354400Z",
     "start_time": "2023-09-26T20:59:37.248351300Z"
    }
   },
   "id": "8ce8223efd71da1d"
  },
  {
   "cell_type": "code",
   "execution_count": 135,
   "outputs": [],
   "source": [
    "def find_empty_cell_bottom(column_index, sheet):\n",
    "    # Поиск первой пустой ячейки сверху вниз\n",
    "    empty_cell = None\n",
    "    row_index = 194\n",
    "    \n",
    "    while empty_cell is None:\n",
    "        cell_value = sheet.cell(row=row_index, column=column_index).value\n",
    "        if cell_value is None:\n",
    "            empty_cell = sheet.cell(row=row_index, column=column_index).coordinate\n",
    "        else:\n",
    "            row_index -= 1\n",
    "            \n",
    "    return coordinate_to_tuple(empty_cell)"
   ],
   "metadata": {
    "collapsed": false,
    "ExecuteTime": {
     "end_time": "2023-09-26T20:59:37.364352300Z",
     "start_time": "2023-09-26T20:59:37.263352300Z"
    }
   },
   "id": "2ecb774d3f3936fd"
  },
  {
   "cell_type": "code",
   "execution_count": 136,
   "outputs": [],
   "source": [
    "# Путь к существующему файлу Excel\n",
    "excel_file = '../docs/мой отчет p2p.xlsx'\n",
    "\n",
    "# Загрузка существующего файла Excel\n",
    "book = load_workbook(excel_file)\n",
    "\n",
    "# Выбор листа для записи данных\n",
    "sheet = book['11.09 ночная смена GarantexByBi']\n",
    "\n",
    "# Установка шрифта текста\n",
    "font = Font(name='Arial', size=12, bold=False, italic=False)\n",
    "\n",
    "# Установка выравнивания по центру\n",
    "alignment = Alignment(horizontal='center')\n",
    "\n",
    "# Координаты ячейки для начала записи данных\n",
    "cell_bybit_buy_usdt = find_empty_cell_top(7, sheet)\n",
    "cell_bybit_buy_mean = find_empty_cell_top(6, sheet)\n",
    "cell_bybit_buy_rub = find_empty_cell_top(5, sheet)\n",
    "cell_bybit_buy_market = find_empty_cell_top(4, sheet)\n",
    "\n",
    "for index, name_coin in enumerate(filtered_data_bybit_history_p2p_buy_sum.index):\n",
    "    value_rub = filtered_data_bybit_history_p2p_buy_sum.loc[name_coin]['Fiat Amount']\n",
    "    value_usdt = filtered_data_bybit_history_p2p_buy_sum.loc[name_coin]['Coin Amount']\n",
    "    value_mean = filtered_data_bybit_history_p2p_buy_sum.loc[name_coin]['Price']\n",
    "    if not name_coin == 'USDT':\n",
    "        cell_bybit_buy_coin = (cell_bybit_buy_market[0], 3)\n",
    "        cell_coin = sheet.cell(row=cell_bybit_buy_coin[0] + index, column=cell_bybit_buy_coin[1])\n",
    "        cell_coin.value = name_coin\n",
    "        cell_coin.font = font\n",
    "        cell_coin.alignment = alignment\n",
    "        \n",
    "    cell_usdt = sheet.cell(row=cell_bybit_buy_usdt[0] + index, column=cell_bybit_buy_usdt[1])\n",
    "    cell_usdt.value = value_usdt\n",
    "    cell_usdt.font = font\n",
    "    cell_usdt.alignment = alignment\n",
    "    \n",
    "    cell_rub = sheet.cell(row=cell_bybit_buy_rub[0] + index, column=cell_bybit_buy_rub[1])\n",
    "    cell_rub.value = value_rub\n",
    "    cell_rub.font = font\n",
    "    cell_rub.alignment = alignment\n",
    "    \n",
    "    cell_mean = sheet.cell(row=cell_bybit_buy_mean[0] + index, column=cell_bybit_buy_mean[1])\n",
    "    cell_mean.value = value_mean\n",
    "    cell_mean.font = font\n",
    "    cell_mean.alignment = alignment\n",
    "    \n",
    "    cell_market = sheet.cell(row=cell_bybit_buy_market[0] + index, column=cell_bybit_buy_market[1])\n",
    "    cell_market.value = \"ByBit\"\n",
    "    cell_market.font = font\n",
    "    cell_market.alignment = alignment\n",
    "\n",
    "# cell_rub = sheet.cell(row=cell_bybit_buy_rub[0], column=cell_bybit_buy_rub[1])\n",
    "# cell_rub.value = filtered_data_bybit_history_p2p[\n",
    "#             (filtered_data_bybit_history_p2p['Type'] == 'BUY') & \n",
    "#             (filtered_data_bybit_history_p2p['Cryptocurrency'] == 'BTC') &\n",
    "#             (filtered_data_bybit_history_p2p['Type'] == 'BUY')\n",
    "#             ]['Fiat Amount'].sum()\n",
    "# cell_rub.font = font\n",
    "# cell_rub.alignment = alignment\n",
    "# \n",
    "# cell_usdt = sheet.cell(row=cell_bybit_buy_usdt[0], column=cell_bybit_buy_usdt[1])\n",
    "# cell_usdt.value = filtered_data_bybit_history_spot[\n",
    "#             (filtered_data_bybit_history_spot['Timestamp (Local Time)'] != 'nan')\n",
    "#             ]['Filled Value'].apply(lambda x: re.findall(r'\\d+\\.\\d+', x)[0]).astype(float).sum()\n",
    "# cell_usdt.font = font\n",
    "# cell_usdt.alignment = alignment\n",
    "# \n",
    "# cell_mean = sheet.cell(row=cell_bybit_buy_mean[0], column=cell_bybit_buy_mean[1])\n",
    "# value_mean = (cell_rub.value / cell_usdt.value)\n",
    "# cell_mean.value = value_mean\n",
    "# cell_mean.font = font\n",
    "# cell_mean.alignment = alignment\n",
    "# \n",
    "# cell_mean = sheet.cell(row=cell_bybit_buy_market[0], column=cell_bybit_buy_market[1])\n",
    "# cell_mean.value = 'ByBit'\n",
    "# cell_mean.font = font\n",
    "# cell_mean.alignment = alignment\n",
    "# \n",
    "# \n",
    "# \n",
    "# # Сохранение изменений в файле Excel\n",
    "book.save(excel_file)"
   ],
   "metadata": {
    "collapsed": false,
    "ExecuteTime": {
     "end_time": "2023-09-26T20:59:38.179600700Z",
     "start_time": "2023-09-26T20:59:37.278352200Z"
    }
   },
   "id": "a4db4a009ff20634"
  },
  {
   "cell_type": "code",
   "execution_count": 137,
   "outputs": [
    {
     "data": {
      "text/plain": "   Timestamp (Local Time)                Spot Pairs              Order Type  \\\n56    2023-09-12 06:17:37                  BTC/USDT                  MARKET   \n57                    NaT  Filled Time (Local Time)            Filled Value   \n58                    NaT       2023-09-12 06:17:37  231.2144435900000 USDT   \n59    2023-09-12 02:40:52                  BTC/USDT                  MARKET   \n60                    NaT  Filled Time (Local Time)            Filled Value   \n61                    NaT       2023-09-12 02:40:52  188.0408010000000 USDT   \n\n                        Direction              Filled Value  \\\n56                           SELL    231.2144435900000 USDT   \n57                   Filled Price           Filled Quantity   \n58  25573.990000000000000000 USDT  0.009041000000000000 BTC   \n59                           SELL    188.0408010000000 USDT   \n60                   Filled Price           Filled Quantity   \n61  25155.960000000000000000 USDT  0.007475000000000000 BTC   \n\n                Avg. Filled Price           Filled Quantity  \\\n56  25573.990000000000000000 USDT  0.009041000000000000 BTC   \n57                           Fees            Transaction ID   \n58           0.2312144435900 USDT                  93056256   \n59  25155.960000000000000000 USDT  0.007475000000000000 BTC   \n60                           Fees            Transaction ID   \n61           0.1880408010000 USDT                  13233920   \n\n            Order Price            Order Quantity Order Value Order Status  \\\n56               MARKET  0.009041000000000000 BTC          --       FILLED   \n57      Timestamp (UTC)                       NaN         NaN          NaN   \n58  2023-09-12 03:17:37                       NaN         NaN          NaN   \n59               MARKET  0.007475000000000000 BTC          --       FILLED   \n60      Timestamp (UTC)                       NaN         NaN          NaN   \n61  2023-09-11 23:40:52                       NaN         NaN          NaN   \n\n     Order No.      Timestamp (UTC)  \n56   9200128.0  2023-09-12 03:17:37  \n57         NaN                  NaN  \n58         NaN                  NaN  \n59  20851968.0  2023-09-11 23:40:52  \n60         NaN                  NaN  \n61         NaN                  NaN  ",
      "text/html": "<div>\n<style scoped>\n    .dataframe tbody tr th:only-of-type {\n        vertical-align: middle;\n    }\n\n    .dataframe tbody tr th {\n        vertical-align: top;\n    }\n\n    .dataframe thead th {\n        text-align: right;\n    }\n</style>\n<table border=\"1\" class=\"dataframe\">\n  <thead>\n    <tr style=\"text-align: right;\">\n      <th></th>\n      <th>Timestamp (Local Time)</th>\n      <th>Spot Pairs</th>\n      <th>Order Type</th>\n      <th>Direction</th>\n      <th>Filled Value</th>\n      <th>Avg. Filled Price</th>\n      <th>Filled Quantity</th>\n      <th>Order Price</th>\n      <th>Order Quantity</th>\n      <th>Order Value</th>\n      <th>Order Status</th>\n      <th>Order No.</th>\n      <th>Timestamp (UTC)</th>\n    </tr>\n  </thead>\n  <tbody>\n    <tr>\n      <th>56</th>\n      <td>2023-09-12 06:17:37</td>\n      <td>BTC/USDT</td>\n      <td>MARKET</td>\n      <td>SELL</td>\n      <td>231.2144435900000 USDT</td>\n      <td>25573.990000000000000000 USDT</td>\n      <td>0.009041000000000000 BTC</td>\n      <td>MARKET</td>\n      <td>0.009041000000000000 BTC</td>\n      <td>--</td>\n      <td>FILLED</td>\n      <td>9200128.0</td>\n      <td>2023-09-12 03:17:37</td>\n    </tr>\n    <tr>\n      <th>57</th>\n      <td>NaT</td>\n      <td>Filled Time (Local Time)</td>\n      <td>Filled Value</td>\n      <td>Filled Price</td>\n      <td>Filled Quantity</td>\n      <td>Fees</td>\n      <td>Transaction ID</td>\n      <td>Timestamp (UTC)</td>\n      <td>NaN</td>\n      <td>NaN</td>\n      <td>NaN</td>\n      <td>NaN</td>\n      <td>NaN</td>\n    </tr>\n    <tr>\n      <th>58</th>\n      <td>NaT</td>\n      <td>2023-09-12 06:17:37</td>\n      <td>231.2144435900000 USDT</td>\n      <td>25573.990000000000000000 USDT</td>\n      <td>0.009041000000000000 BTC</td>\n      <td>0.2312144435900 USDT</td>\n      <td>93056256</td>\n      <td>2023-09-12 03:17:37</td>\n      <td>NaN</td>\n      <td>NaN</td>\n      <td>NaN</td>\n      <td>NaN</td>\n      <td>NaN</td>\n    </tr>\n    <tr>\n      <th>59</th>\n      <td>2023-09-12 02:40:52</td>\n      <td>BTC/USDT</td>\n      <td>MARKET</td>\n      <td>SELL</td>\n      <td>188.0408010000000 USDT</td>\n      <td>25155.960000000000000000 USDT</td>\n      <td>0.007475000000000000 BTC</td>\n      <td>MARKET</td>\n      <td>0.007475000000000000 BTC</td>\n      <td>--</td>\n      <td>FILLED</td>\n      <td>20851968.0</td>\n      <td>2023-09-11 23:40:52</td>\n    </tr>\n    <tr>\n      <th>60</th>\n      <td>NaT</td>\n      <td>Filled Time (Local Time)</td>\n      <td>Filled Value</td>\n      <td>Filled Price</td>\n      <td>Filled Quantity</td>\n      <td>Fees</td>\n      <td>Transaction ID</td>\n      <td>Timestamp (UTC)</td>\n      <td>NaN</td>\n      <td>NaN</td>\n      <td>NaN</td>\n      <td>NaN</td>\n      <td>NaN</td>\n    </tr>\n    <tr>\n      <th>61</th>\n      <td>NaT</td>\n      <td>2023-09-12 02:40:52</td>\n      <td>188.0408010000000 USDT</td>\n      <td>25155.960000000000000000 USDT</td>\n      <td>0.007475000000000000 BTC</td>\n      <td>0.1880408010000 USDT</td>\n      <td>13233920</td>\n      <td>2023-09-11 23:40:52</td>\n      <td>NaN</td>\n      <td>NaN</td>\n      <td>NaN</td>\n      <td>NaN</td>\n      <td>NaN</td>\n    </tr>\n  </tbody>\n</table>\n</div>"
     },
     "metadata": {},
     "output_type": "display_data"
    }
   ],
   "source": [
    "start_index = filtered_data_bybit_history_spot.index.values[0]\n",
    "end_index = filtered_data_bybit_history_spot.index.values[-1] + 3\n",
    "\n",
    "filtered_data_bybit_history_spot = bybit_history_spot.iloc[start_index:end_index]\n",
    "\n",
    "display(filtered_data_bybit_history_spot)"
   ],
   "metadata": {
    "collapsed": false,
    "ExecuteTime": {
     "end_time": "2023-09-26T20:59:38.197600600Z",
     "start_time": "2023-09-26T20:59:38.181601100Z"
    }
   },
   "id": "7d0861808e3ed8cb"
  },
  {
   "cell_type": "code",
   "execution_count": 138,
   "outputs": [
    {
     "data": {
      "text/plain": "   Timestamp (Local Time)          Spot Pairs              Order Type  \\\n58                    NaT 2023-09-12 06:17:37  231.2144435900000 USDT   \n61                    NaT 2023-09-12 02:40:52  188.0408010000000 USDT   \n\n                        Direction              Filled Value  \\\n58  25573.990000000000000000 USDT  0.009041000000000000 BTC   \n61  25155.960000000000000000 USDT  0.007475000000000000 BTC   \n\n       Avg. Filled Price Filled Quantity          Order Price Order Quantity  \\\n58  0.2312144435900 USDT        93056256  2023-09-12 03:17:37            NaN   \n61  0.1880408010000 USDT        13233920  2023-09-11 23:40:52            NaN   \n\n   Order Value Order Status  Order No. Timestamp (UTC)  \n58         NaN          NaN        NaN             NaN  \n61         NaN          NaN        NaN             NaN  ",
      "text/html": "<div>\n<style scoped>\n    .dataframe tbody tr th:only-of-type {\n        vertical-align: middle;\n    }\n\n    .dataframe tbody tr th {\n        vertical-align: top;\n    }\n\n    .dataframe thead th {\n        text-align: right;\n    }\n</style>\n<table border=\"1\" class=\"dataframe\">\n  <thead>\n    <tr style=\"text-align: right;\">\n      <th></th>\n      <th>Timestamp (Local Time)</th>\n      <th>Spot Pairs</th>\n      <th>Order Type</th>\n      <th>Direction</th>\n      <th>Filled Value</th>\n      <th>Avg. Filled Price</th>\n      <th>Filled Quantity</th>\n      <th>Order Price</th>\n      <th>Order Quantity</th>\n      <th>Order Value</th>\n      <th>Order Status</th>\n      <th>Order No.</th>\n      <th>Timestamp (UTC)</th>\n    </tr>\n  </thead>\n  <tbody>\n    <tr>\n      <th>58</th>\n      <td>NaT</td>\n      <td>2023-09-12 06:17:37</td>\n      <td>231.2144435900000 USDT</td>\n      <td>25573.990000000000000000 USDT</td>\n      <td>0.009041000000000000 BTC</td>\n      <td>0.2312144435900 USDT</td>\n      <td>93056256</td>\n      <td>2023-09-12 03:17:37</td>\n      <td>NaN</td>\n      <td>NaN</td>\n      <td>NaN</td>\n      <td>NaN</td>\n      <td>NaN</td>\n    </tr>\n    <tr>\n      <th>61</th>\n      <td>NaT</td>\n      <td>2023-09-12 02:40:52</td>\n      <td>188.0408010000000 USDT</td>\n      <td>25155.960000000000000000 USDT</td>\n      <td>0.007475000000000000 BTC</td>\n      <td>0.1880408010000 USDT</td>\n      <td>13233920</td>\n      <td>2023-09-11 23:40:52</td>\n      <td>NaN</td>\n      <td>NaN</td>\n      <td>NaN</td>\n      <td>NaN</td>\n      <td>NaN</td>\n    </tr>\n  </tbody>\n</table>\n</div>"
     },
     "metadata": {},
     "output_type": "display_data"
    }
   ],
   "source": [
    "filtered_data_bybit_history_spot_copy = filtered_data_bybit_history_spot.copy()\n",
    "\n",
    "filtered_data_bybit_history_spot_copy.loc[:, 'Spot Pairs'] = pd.to_datetime(filtered_data_bybit_history_spot_copy['Spot Pairs'], errors='coerce')\n",
    "\n",
    "filtered_data_bybit_for_komsa = filtered_data_bybit_history_spot_copy[pd.notnull(filtered_data_bybit_history_spot_copy['Spot Pairs'])]\n",
    "display(filtered_data_bybit_for_komsa)"
   ],
   "metadata": {
    "collapsed": false,
    "ExecuteTime": {
     "end_time": "2023-09-26T20:59:38.251142600Z",
     "start_time": "2023-09-26T20:59:38.196600700Z"
    }
   },
   "id": "f00e9eba25b85892"
  },
  {
   "cell_type": "code",
   "execution_count": 139,
   "outputs": [],
   "source": [
    "# Путь к существующему файлу Excel\n",
    "excel_file = '../docs/мой отчет p2p.xlsx'\n",
    "\n",
    "# Загрузка существующего файла Excel\n",
    "book = load_workbook(excel_file)\n",
    "\n",
    "# Выбор листа для записи данных\n",
    "sheet = book['11.09 ночная смена GarantexByBi']\n",
    "\n",
    "# Установка шрифта текста\n",
    "font = Font(name='Arial', size=12, bold=False, italic=False)\n",
    "\n",
    "# Установка выравнивания по центру\n",
    "alignment = Alignment(horizontal='center')\n",
    "\n",
    "# Координаты ячейки для начала записи данных\n",
    "cell_bybit_comm = find_empty_cell_bottom(7, sheet)\n",
    "cell_bybit_mean_price = find_empty_cell_bottom(6, sheet)\n",
    "cell_bybit_mean_multi = find_empty_cell_bottom(5, sheet)\n",
    "cell_bybit_komsa_market = find_empty_cell_bottom(4, sheet)\n",
    "cell_bybit_komsa = find_empty_cell_bottom(3, sheet)\n",
    "\n",
    "cell_comm = sheet.cell(row=cell_bybit_comm[0], column=cell_bybit_comm[1])\n",
    "cell_comm.value = filtered_data_bybit_for_komsa['Avg. Filled Price'].apply(lambda x: re.findall(r'\\d+\\.\\d+', x)[0]).astype(float).sum() * -1\n",
    "cell_comm.font = font\n",
    "cell_comm.alignment = alignment\n",
    "\n",
    "\n",
    "cell_mean_price = sheet.cell(row=cell_bybit_mean_price[0], column=cell_bybit_mean_price[1])\n",
    "cell_mean_price.value = filtered_data_bybit_history_p2p_buy_sum[filtered_data_bybit_history_p2p_buy_sum.index != 'USDT']['Price'].sum()\n",
    "cell_mean_price.font = font\n",
    "cell_mean_price.alignment = alignment\n",
    "\n",
    "cell_mean_multi = sheet.cell(row=cell_bybit_mean_multi[0], column=cell_bybit_mean_multi[1])\n",
    "cell_mean_multi.value = cell_mean_price.value * cell_comm.value\n",
    "cell_mean_multi.font = font\n",
    "cell_mean_multi.alignment = alignment\n",
    "\n",
    "cell_komsa_market = sheet.cell(row=cell_bybit_komsa_market[0], column=cell_bybit_komsa_market[1])\n",
    "cell_komsa_market.value = 'ByBit'\n",
    "cell_komsa_market.font = font\n",
    "cell_komsa_market.alignment = alignment\n",
    "\n",
    "cell_komsa = sheet.cell(row=cell_bybit_komsa[0], column=cell_bybit_komsa[1])\n",
    "cell_komsa.value = 'komsa spot'\n",
    "cell_komsa.font = font\n",
    "cell_komsa.alignment = alignment\n",
    "\n",
    "# Сохранение изменений в файле Excel\n",
    "book.save(excel_file)"
   ],
   "metadata": {
    "collapsed": false,
    "ExecuteTime": {
     "end_time": "2023-09-26T20:59:39.112439200Z",
     "start_time": "2023-09-26T20:59:38.211143400Z"
    }
   },
   "id": "46a22a906859f077"
  }
 ],
 "metadata": {
  "kernelspec": {
   "display_name": "Python 3",
   "language": "python",
   "name": "python3"
  },
  "language_info": {
   "codemirror_mode": {
    "name": "ipython",
    "version": 2
   },
   "file_extension": ".py",
   "mimetype": "text/x-python",
   "name": "python",
   "nbconvert_exporter": "python",
   "pygments_lexer": "ipython2",
   "version": "2.7.6"
  }
 },
 "nbformat": 4,
 "nbformat_minor": 5
}
