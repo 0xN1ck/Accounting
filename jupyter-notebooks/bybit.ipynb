{
 "cells": [
  {
   "cell_type": "code",
   "execution_count": 1,
   "id": "initial_id",
   "metadata": {
    "collapsed": true,
    "ExecuteTime": {
     "end_time": "2023-09-23T23:21:07.691034100Z",
     "start_time": "2023-09-23T23:21:07.313717300Z"
    }
   },
   "outputs": [],
   "source": [
    "import pandas as pd\n",
    "from IPython.display import display"
   ]
  },
  {
   "cell_type": "code",
   "execution_count": 4,
   "outputs": [],
   "source": [
    "bybit_history_p2p = pd.read_excel('../docs/bybit/bybit история p2p сделок.xlsx')"
   ],
   "metadata": {
    "collapsed": false,
    "ExecuteTime": {
     "end_time": "2023-09-23T23:22:47.525811Z",
     "start_time": "2023-09-23T23:22:47.468244300Z"
    }
   },
   "id": "9e58cc59dd42053c"
  },
  {
   "cell_type": "code",
   "execution_count": 5,
   "outputs": [
    {
     "data": {
      "text/plain": "               Order No. p2p-convert  Type  Fiat Amount Currency       Price  \\\n0    1702055534989983744          no  SELL     92826.79      RUB       97.56   \n1    1702055386207899648          no  SELL    200000.00      RUB       97.56   \n2    1702054198558597120          no   BUY    120000.00      RUB  2539703.95   \n3    1702053593210048512          no   BUY    157271.08      RUB  2539760.52   \n4    1702050209474142208          no   BUY      6341.00      RUB  2536403.37   \n..                   ...         ...   ...          ...      ...         ...   \n273  1701122287093633024          no  SELL     64000.00      RUB       98.64   \n274  1701117787629580288          no  SELL     45500.00      RUB       98.79   \n275  1701117702379061248          no  SELL     70000.00      RUB       98.79   \n276  1701117665751494656          no  SELL    100000.00      RUB       98.79   \n277  1701117487581331456          no  SELL     40000.00      RUB       98.79   \n\n    Currency.1  Coin Amount Cryptocurrency  Transaction Fees Cryptocurrency.1  \\\n0          RUB   951.484100           USDT                 0             USDT   \n1          RUB  2050.020500           USDT                 0             USDT   \n2          RUB     0.047250            BTC                 0              BTC   \n3          RUB     0.061924            BTC                 0              BTC   \n4          RUB     0.002500            BTC                 0              BTC   \n..         ...          ...            ...               ...              ...   \n273        RUB   648.824000           USDT                 0             USDT   \n274        RUB   460.572900           USDT                 0             USDT   \n275        RUB   708.573700           USDT                 0             USDT   \n276        RUB  1012.248200           USDT                 0             USDT   \n277        RUB   404.899200           USDT                 0             USDT   \n\n       Counterparty     Status                Time  \n0    User64035q97fG  Completed 2023-09-13 20:23:58  \n1          Diamaond  Completed 2023-09-13 20:23:22  \n2    User2749HPY1LD  Completed 2023-09-13 20:18:39  \n3    User8308zJdxrt  Completed 2023-09-13 20:16:14  \n4        papahihapa  Completed 2023-09-13 20:02:48  \n..              ...        ...                 ...  \n273  User1992hrRU1x  Completed 2023-09-11 06:35:34  \n274  User9625FeLD7Y  Completed 2023-09-11 06:17:41  \n275         Lasiase  Completed 2023-09-11 06:17:21  \n276  User1261p0OSTB  Completed 2023-09-11 06:17:12  \n277     Spectre_Cat  Completed 2023-09-11 06:16:30  \n\n[278 rows x 14 columns]",
      "text/html": "<div>\n<style scoped>\n    .dataframe tbody tr th:only-of-type {\n        vertical-align: middle;\n    }\n\n    .dataframe tbody tr th {\n        vertical-align: top;\n    }\n\n    .dataframe thead th {\n        text-align: right;\n    }\n</style>\n<table border=\"1\" class=\"dataframe\">\n  <thead>\n    <tr style=\"text-align: right;\">\n      <th></th>\n      <th>Order No.</th>\n      <th>p2p-convert</th>\n      <th>Type</th>\n      <th>Fiat Amount</th>\n      <th>Currency</th>\n      <th>Price</th>\n      <th>Currency.1</th>\n      <th>Coin Amount</th>\n      <th>Cryptocurrency</th>\n      <th>Transaction Fees</th>\n      <th>Cryptocurrency.1</th>\n      <th>Counterparty</th>\n      <th>Status</th>\n      <th>Time</th>\n    </tr>\n  </thead>\n  <tbody>\n    <tr>\n      <th>0</th>\n      <td>1702055534989983744</td>\n      <td>no</td>\n      <td>SELL</td>\n      <td>92826.79</td>\n      <td>RUB</td>\n      <td>97.56</td>\n      <td>RUB</td>\n      <td>951.484100</td>\n      <td>USDT</td>\n      <td>0</td>\n      <td>USDT</td>\n      <td>User64035q97fG</td>\n      <td>Completed</td>\n      <td>2023-09-13 20:23:58</td>\n    </tr>\n    <tr>\n      <th>1</th>\n      <td>1702055386207899648</td>\n      <td>no</td>\n      <td>SELL</td>\n      <td>200000.00</td>\n      <td>RUB</td>\n      <td>97.56</td>\n      <td>RUB</td>\n      <td>2050.020500</td>\n      <td>USDT</td>\n      <td>0</td>\n      <td>USDT</td>\n      <td>Diamaond</td>\n      <td>Completed</td>\n      <td>2023-09-13 20:23:22</td>\n    </tr>\n    <tr>\n      <th>2</th>\n      <td>1702054198558597120</td>\n      <td>no</td>\n      <td>BUY</td>\n      <td>120000.00</td>\n      <td>RUB</td>\n      <td>2539703.95</td>\n      <td>RUB</td>\n      <td>0.047250</td>\n      <td>BTC</td>\n      <td>0</td>\n      <td>BTC</td>\n      <td>User2749HPY1LD</td>\n      <td>Completed</td>\n      <td>2023-09-13 20:18:39</td>\n    </tr>\n    <tr>\n      <th>3</th>\n      <td>1702053593210048512</td>\n      <td>no</td>\n      <td>BUY</td>\n      <td>157271.08</td>\n      <td>RUB</td>\n      <td>2539760.52</td>\n      <td>RUB</td>\n      <td>0.061924</td>\n      <td>BTC</td>\n      <td>0</td>\n      <td>BTC</td>\n      <td>User8308zJdxrt</td>\n      <td>Completed</td>\n      <td>2023-09-13 20:16:14</td>\n    </tr>\n    <tr>\n      <th>4</th>\n      <td>1702050209474142208</td>\n      <td>no</td>\n      <td>BUY</td>\n      <td>6341.00</td>\n      <td>RUB</td>\n      <td>2536403.37</td>\n      <td>RUB</td>\n      <td>0.002500</td>\n      <td>BTC</td>\n      <td>0</td>\n      <td>BTC</td>\n      <td>papahihapa</td>\n      <td>Completed</td>\n      <td>2023-09-13 20:02:48</td>\n    </tr>\n    <tr>\n      <th>...</th>\n      <td>...</td>\n      <td>...</td>\n      <td>...</td>\n      <td>...</td>\n      <td>...</td>\n      <td>...</td>\n      <td>...</td>\n      <td>...</td>\n      <td>...</td>\n      <td>...</td>\n      <td>...</td>\n      <td>...</td>\n      <td>...</td>\n      <td>...</td>\n    </tr>\n    <tr>\n      <th>273</th>\n      <td>1701122287093633024</td>\n      <td>no</td>\n      <td>SELL</td>\n      <td>64000.00</td>\n      <td>RUB</td>\n      <td>98.64</td>\n      <td>RUB</td>\n      <td>648.824000</td>\n      <td>USDT</td>\n      <td>0</td>\n      <td>USDT</td>\n      <td>User1992hrRU1x</td>\n      <td>Completed</td>\n      <td>2023-09-11 06:35:34</td>\n    </tr>\n    <tr>\n      <th>274</th>\n      <td>1701117787629580288</td>\n      <td>no</td>\n      <td>SELL</td>\n      <td>45500.00</td>\n      <td>RUB</td>\n      <td>98.79</td>\n      <td>RUB</td>\n      <td>460.572900</td>\n      <td>USDT</td>\n      <td>0</td>\n      <td>USDT</td>\n      <td>User9625FeLD7Y</td>\n      <td>Completed</td>\n      <td>2023-09-11 06:17:41</td>\n    </tr>\n    <tr>\n      <th>275</th>\n      <td>1701117702379061248</td>\n      <td>no</td>\n      <td>SELL</td>\n      <td>70000.00</td>\n      <td>RUB</td>\n      <td>98.79</td>\n      <td>RUB</td>\n      <td>708.573700</td>\n      <td>USDT</td>\n      <td>0</td>\n      <td>USDT</td>\n      <td>Lasiase</td>\n      <td>Completed</td>\n      <td>2023-09-11 06:17:21</td>\n    </tr>\n    <tr>\n      <th>276</th>\n      <td>1701117665751494656</td>\n      <td>no</td>\n      <td>SELL</td>\n      <td>100000.00</td>\n      <td>RUB</td>\n      <td>98.79</td>\n      <td>RUB</td>\n      <td>1012.248200</td>\n      <td>USDT</td>\n      <td>0</td>\n      <td>USDT</td>\n      <td>User1261p0OSTB</td>\n      <td>Completed</td>\n      <td>2023-09-11 06:17:12</td>\n    </tr>\n    <tr>\n      <th>277</th>\n      <td>1701117487581331456</td>\n      <td>no</td>\n      <td>SELL</td>\n      <td>40000.00</td>\n      <td>RUB</td>\n      <td>98.79</td>\n      <td>RUB</td>\n      <td>404.899200</td>\n      <td>USDT</td>\n      <td>0</td>\n      <td>USDT</td>\n      <td>Spectre_Cat</td>\n      <td>Completed</td>\n      <td>2023-09-11 06:16:30</td>\n    </tr>\n  </tbody>\n</table>\n<p>278 rows × 14 columns</p>\n</div>"
     },
     "metadata": {},
     "output_type": "display_data"
    }
   ],
   "source": [
    "bybit_history_p2p['Time'] = pd.to_datetime(bybit_history_p2p['Time'])\n",
    "display(bybit_history_p2p)"
   ],
   "metadata": {
    "collapsed": false,
    "ExecuteTime": {
     "end_time": "2023-09-23T23:22:49.236164300Z",
     "start_time": "2023-09-23T23:22:49.204603400Z"
    }
   },
   "id": "c5044e31ae8449aa"
  },
  {
   "cell_type": "code",
   "execution_count": 9,
   "outputs": [
    {
     "data": {
      "text/plain": "               Order No. p2p-convert Type  Fiat Amount Currency       Price  \\\n165  1701409856965210112          no  BUY     12159.68      RUB  2402781.37   \n173  1701393455533682688          no  BUY      9600.99      RUB  2412309.61   \n175  1701379365331107840          no  BUY     18020.06      RUB  2410511.43   \n\n    Currency.1  Coin Amount Cryptocurrency  Transaction Fees Cryptocurrency.1  \\\n165        RUB     0.005061            BTC                 0              BTC   \n173        RUB     0.003980            BTC                 0              BTC   \n175        RUB     0.007476            BTC                 0              BTC   \n\n       Counterparty     Status                Time  \n165  User0836l8j5bd  Completed 2023-09-12 01:38:16  \n173  User4023GiqCp3  Completed 2023-09-12 00:33:05  \n175  User8308zJdxrt  Completed 2023-09-11 23:37:06  ",
      "text/html": "<div>\n<style scoped>\n    .dataframe tbody tr th:only-of-type {\n        vertical-align: middle;\n    }\n\n    .dataframe tbody tr th {\n        vertical-align: top;\n    }\n\n    .dataframe thead th {\n        text-align: right;\n    }\n</style>\n<table border=\"1\" class=\"dataframe\">\n  <thead>\n    <tr style=\"text-align: right;\">\n      <th></th>\n      <th>Order No.</th>\n      <th>p2p-convert</th>\n      <th>Type</th>\n      <th>Fiat Amount</th>\n      <th>Currency</th>\n      <th>Price</th>\n      <th>Currency.1</th>\n      <th>Coin Amount</th>\n      <th>Cryptocurrency</th>\n      <th>Transaction Fees</th>\n      <th>Cryptocurrency.1</th>\n      <th>Counterparty</th>\n      <th>Status</th>\n      <th>Time</th>\n    </tr>\n  </thead>\n  <tbody>\n    <tr>\n      <th>165</th>\n      <td>1701409856965210112</td>\n      <td>no</td>\n      <td>BUY</td>\n      <td>12159.68</td>\n      <td>RUB</td>\n      <td>2402781.37</td>\n      <td>RUB</td>\n      <td>0.005061</td>\n      <td>BTC</td>\n      <td>0</td>\n      <td>BTC</td>\n      <td>User0836l8j5bd</td>\n      <td>Completed</td>\n      <td>2023-09-12 01:38:16</td>\n    </tr>\n    <tr>\n      <th>173</th>\n      <td>1701393455533682688</td>\n      <td>no</td>\n      <td>BUY</td>\n      <td>9600.99</td>\n      <td>RUB</td>\n      <td>2412309.61</td>\n      <td>RUB</td>\n      <td>0.003980</td>\n      <td>BTC</td>\n      <td>0</td>\n      <td>BTC</td>\n      <td>User4023GiqCp3</td>\n      <td>Completed</td>\n      <td>2023-09-12 00:33:05</td>\n    </tr>\n    <tr>\n      <th>175</th>\n      <td>1701379365331107840</td>\n      <td>no</td>\n      <td>BUY</td>\n      <td>18020.06</td>\n      <td>RUB</td>\n      <td>2410511.43</td>\n      <td>RUB</td>\n      <td>0.007476</td>\n      <td>BTC</td>\n      <td>0</td>\n      <td>BTC</td>\n      <td>User8308zJdxrt</td>\n      <td>Completed</td>\n      <td>2023-09-11 23:37:06</td>\n    </tr>\n  </tbody>\n</table>\n</div>"
     },
     "metadata": {},
     "output_type": "display_data"
    }
   ],
   "source": [
    "filtered_data_bybit_history_p2p = bybit_history_p2p[(bybit_history_p2p['Time'] >= '2023-09-11 19:00:00') & (bybit_history_p2p['Time'] <= '2023-09-12 07:00:00')]\n",
    "\n",
    "display(filtered_data_bybit_history_p2p[\n",
    "            (filtered_data_bybit_history_p2p['Type'] == 'BUY') & \n",
    "            (filtered_data_bybit_history_p2p['Cryptocurrency'] == 'BTC') &\n",
    "            (filtered_data_bybit_history_p2p['Type'] == 'BUY')\n",
    "            ])"
   ],
   "metadata": {
    "collapsed": false,
    "ExecuteTime": {
     "end_time": "2023-09-23T23:26:06.353659200Z",
     "start_time": "2023-09-23T23:26:06.331178900Z"
    }
   },
   "id": "21708152910cd055"
  },
  {
   "cell_type": "code",
   "execution_count": 7,
   "outputs": [],
   "source": [
    "bybit_history_spot = pd.read_excel('../docs/bybit/bybit история спотовой торговли 1109-1309.xlsx')"
   ],
   "metadata": {
    "collapsed": false,
    "ExecuteTime": {
     "end_time": "2023-09-23T23:23:17.042782100Z",
     "start_time": "2023-09-23T23:23:17.011204200Z"
    }
   },
   "id": "6cf7e08776ef9ae6"
  },
  {
   "cell_type": "code",
   "execution_count": 8,
   "outputs": [
    {
     "data": {
      "text/plain": "   Timestamp (Local Time)                Spot Pairs              Order Type  \\\n0     2023-09-13 20:21:36                  BTC/USDT                  MARKET   \n1                     NaT  Filled Time (Local Time)            Filled Value   \n2                     NaT       2023-09-13 20:21:36   55.0490251500000 USDT   \n3     2023-09-13 19:50:26                  BTC/USDT                  MARKET   \n4                     NaT  Filled Time (Local Time)            Filled Value   \n..                    ...                       ...                     ...   \n57                    NaT  Filled Time (Local Time)            Filled Value   \n58                    NaT       2023-09-12 06:17:37  231.2144435900000 USDT   \n59    2023-09-12 02:40:52                  BTC/USDT                  MARKET   \n60                    NaT  Filled Time (Local Time)            Filled Value   \n61                    NaT       2023-09-12 02:40:52  188.0408010000000 USDT   \n\n                        Direction              Filled Value  \\\n0                            SELL     55.0490251500000 USDT   \n1                    Filled Price           Filled Quantity   \n2   26326.650000000000000000 USDT  0.002091000000000000 BTC   \n3                            SELL     82.4955846400000 USDT   \n4                    Filled Price           Filled Quantity   \n..                            ...                       ...   \n57                   Filled Price           Filled Quantity   \n58  25573.990000000000000000 USDT  0.009041000000000000 BTC   \n59                           SELL    188.0408010000000 USDT   \n60                   Filled Price           Filled Quantity   \n61  25155.960000000000000000 USDT  0.007475000000000000 BTC   \n\n                Avg. Filled Price           Filled Quantity  \\\n0   26326.650000000000000000 USDT  0.002091000000000000 BTC   \n1                            Fees            Transaction ID   \n2            0.0550490251500 USDT                  73484800   \n3   26305.990000000000000000 USDT  0.003136000000000000 BTC   \n4                            Fees            Transaction ID   \n..                            ...                       ...   \n57                           Fees            Transaction ID   \n58           0.2312144435900 USDT                  93056256   \n59  25155.960000000000000000 USDT  0.007475000000000000 BTC   \n60                           Fees            Transaction ID   \n61           0.1880408010000 USDT                  13233920   \n\n            Order Price            Order Quantity Order Value Order Status  \\\n0                MARKET  0.002091000000000000 BTC          --       FILLED   \n1       Timestamp (UTC)                       NaN         NaN          NaN   \n2   2023-09-13 17:21:36                       NaN         NaN          NaN   \n3                MARKET  0.003136000000000000 BTC          --       FILLED   \n4       Timestamp (UTC)                       NaN         NaN          NaN   \n..                  ...                       ...         ...          ...   \n57      Timestamp (UTC)                       NaN         NaN          NaN   \n58  2023-09-12 03:17:37                       NaN         NaN          NaN   \n59               MARKET  0.007475000000000000 BTC          --       FILLED   \n60      Timestamp (UTC)                       NaN         NaN          NaN   \n61  2023-09-11 23:40:52                       NaN         NaN          NaN   \n\n     Order No.      Timestamp (UTC)  \n0   97936128.0  2023-09-13 17:21:36  \n1          NaN                  NaN  \n2          NaN                  NaN  \n3   87886592.0  2023-09-13 16:50:26  \n4          NaN                  NaN  \n..         ...                  ...  \n57         NaN                  NaN  \n58         NaN                  NaN  \n59  20851968.0  2023-09-11 23:40:52  \n60         NaN                  NaN  \n61         NaN                  NaN  \n\n[62 rows x 13 columns]",
      "text/html": "<div>\n<style scoped>\n    .dataframe tbody tr th:only-of-type {\n        vertical-align: middle;\n    }\n\n    .dataframe tbody tr th {\n        vertical-align: top;\n    }\n\n    .dataframe thead th {\n        text-align: right;\n    }\n</style>\n<table border=\"1\" class=\"dataframe\">\n  <thead>\n    <tr style=\"text-align: right;\">\n      <th></th>\n      <th>Timestamp (Local Time)</th>\n      <th>Spot Pairs</th>\n      <th>Order Type</th>\n      <th>Direction</th>\n      <th>Filled Value</th>\n      <th>Avg. Filled Price</th>\n      <th>Filled Quantity</th>\n      <th>Order Price</th>\n      <th>Order Quantity</th>\n      <th>Order Value</th>\n      <th>Order Status</th>\n      <th>Order No.</th>\n      <th>Timestamp (UTC)</th>\n    </tr>\n  </thead>\n  <tbody>\n    <tr>\n      <th>0</th>\n      <td>2023-09-13 20:21:36</td>\n      <td>BTC/USDT</td>\n      <td>MARKET</td>\n      <td>SELL</td>\n      <td>55.0490251500000 USDT</td>\n      <td>26326.650000000000000000 USDT</td>\n      <td>0.002091000000000000 BTC</td>\n      <td>MARKET</td>\n      <td>0.002091000000000000 BTC</td>\n      <td>--</td>\n      <td>FILLED</td>\n      <td>97936128.0</td>\n      <td>2023-09-13 17:21:36</td>\n    </tr>\n    <tr>\n      <th>1</th>\n      <td>NaT</td>\n      <td>Filled Time (Local Time)</td>\n      <td>Filled Value</td>\n      <td>Filled Price</td>\n      <td>Filled Quantity</td>\n      <td>Fees</td>\n      <td>Transaction ID</td>\n      <td>Timestamp (UTC)</td>\n      <td>NaN</td>\n      <td>NaN</td>\n      <td>NaN</td>\n      <td>NaN</td>\n      <td>NaN</td>\n    </tr>\n    <tr>\n      <th>2</th>\n      <td>NaT</td>\n      <td>2023-09-13 20:21:36</td>\n      <td>55.0490251500000 USDT</td>\n      <td>26326.650000000000000000 USDT</td>\n      <td>0.002091000000000000 BTC</td>\n      <td>0.0550490251500 USDT</td>\n      <td>73484800</td>\n      <td>2023-09-13 17:21:36</td>\n      <td>NaN</td>\n      <td>NaN</td>\n      <td>NaN</td>\n      <td>NaN</td>\n      <td>NaN</td>\n    </tr>\n    <tr>\n      <th>3</th>\n      <td>2023-09-13 19:50:26</td>\n      <td>BTC/USDT</td>\n      <td>MARKET</td>\n      <td>SELL</td>\n      <td>82.4955846400000 USDT</td>\n      <td>26305.990000000000000000 USDT</td>\n      <td>0.003136000000000000 BTC</td>\n      <td>MARKET</td>\n      <td>0.003136000000000000 BTC</td>\n      <td>--</td>\n      <td>FILLED</td>\n      <td>87886592.0</td>\n      <td>2023-09-13 16:50:26</td>\n    </tr>\n    <tr>\n      <th>4</th>\n      <td>NaT</td>\n      <td>Filled Time (Local Time)</td>\n      <td>Filled Value</td>\n      <td>Filled Price</td>\n      <td>Filled Quantity</td>\n      <td>Fees</td>\n      <td>Transaction ID</td>\n      <td>Timestamp (UTC)</td>\n      <td>NaN</td>\n      <td>NaN</td>\n      <td>NaN</td>\n      <td>NaN</td>\n      <td>NaN</td>\n    </tr>\n    <tr>\n      <th>...</th>\n      <td>...</td>\n      <td>...</td>\n      <td>...</td>\n      <td>...</td>\n      <td>...</td>\n      <td>...</td>\n      <td>...</td>\n      <td>...</td>\n      <td>...</td>\n      <td>...</td>\n      <td>...</td>\n      <td>...</td>\n      <td>...</td>\n    </tr>\n    <tr>\n      <th>57</th>\n      <td>NaT</td>\n      <td>Filled Time (Local Time)</td>\n      <td>Filled Value</td>\n      <td>Filled Price</td>\n      <td>Filled Quantity</td>\n      <td>Fees</td>\n      <td>Transaction ID</td>\n      <td>Timestamp (UTC)</td>\n      <td>NaN</td>\n      <td>NaN</td>\n      <td>NaN</td>\n      <td>NaN</td>\n      <td>NaN</td>\n    </tr>\n    <tr>\n      <th>58</th>\n      <td>NaT</td>\n      <td>2023-09-12 06:17:37</td>\n      <td>231.2144435900000 USDT</td>\n      <td>25573.990000000000000000 USDT</td>\n      <td>0.009041000000000000 BTC</td>\n      <td>0.2312144435900 USDT</td>\n      <td>93056256</td>\n      <td>2023-09-12 03:17:37</td>\n      <td>NaN</td>\n      <td>NaN</td>\n      <td>NaN</td>\n      <td>NaN</td>\n      <td>NaN</td>\n    </tr>\n    <tr>\n      <th>59</th>\n      <td>2023-09-12 02:40:52</td>\n      <td>BTC/USDT</td>\n      <td>MARKET</td>\n      <td>SELL</td>\n      <td>188.0408010000000 USDT</td>\n      <td>25155.960000000000000000 USDT</td>\n      <td>0.007475000000000000 BTC</td>\n      <td>MARKET</td>\n      <td>0.007475000000000000 BTC</td>\n      <td>--</td>\n      <td>FILLED</td>\n      <td>20851968.0</td>\n      <td>2023-09-11 23:40:52</td>\n    </tr>\n    <tr>\n      <th>60</th>\n      <td>NaT</td>\n      <td>Filled Time (Local Time)</td>\n      <td>Filled Value</td>\n      <td>Filled Price</td>\n      <td>Filled Quantity</td>\n      <td>Fees</td>\n      <td>Transaction ID</td>\n      <td>Timestamp (UTC)</td>\n      <td>NaN</td>\n      <td>NaN</td>\n      <td>NaN</td>\n      <td>NaN</td>\n      <td>NaN</td>\n    </tr>\n    <tr>\n      <th>61</th>\n      <td>NaT</td>\n      <td>2023-09-12 02:40:52</td>\n      <td>188.0408010000000 USDT</td>\n      <td>25155.960000000000000000 USDT</td>\n      <td>0.007475000000000000 BTC</td>\n      <td>0.1880408010000 USDT</td>\n      <td>13233920</td>\n      <td>2023-09-11 23:40:52</td>\n      <td>NaN</td>\n      <td>NaN</td>\n      <td>NaN</td>\n      <td>NaN</td>\n      <td>NaN</td>\n    </tr>\n  </tbody>\n</table>\n<p>62 rows × 13 columns</p>\n</div>"
     },
     "metadata": {},
     "output_type": "display_data"
    }
   ],
   "source": [
    "bybit_history_spot['Timestamp (Local Time)'] = pd.to_datetime(bybit_history_spot['Timestamp (Local Time)'])\n",
    "display(bybit_history_spot)"
   ],
   "metadata": {
    "collapsed": false,
    "ExecuteTime": {
     "end_time": "2023-09-23T23:23:20.408672900Z",
     "start_time": "2023-09-23T23:23:20.373109300Z"
    }
   },
   "id": "f6524c3ca7b908ea"
  },
  {
   "cell_type": "code",
   "execution_count": 279,
   "outputs": [
    {
     "data": {
      "text/plain": "   Timestamp (Local Time) Spot Pairs Order Type Direction  \\\n56    2023-09-12 06:17:37   BTC/USDT     MARKET      SELL   \n59    2023-09-12 02:40:52   BTC/USDT     MARKET      SELL   \n\n              Filled Value              Avg. Filled Price  \\\n56  231.2144435900000 USDT  25573.990000000000000000 USDT   \n59  188.0408010000000 USDT  25155.960000000000000000 USDT   \n\n             Filled Quantity Order Price            Order Quantity  \\\n56  0.009041000000000000 BTC      MARKET  0.009041000000000000 BTC   \n59  0.007475000000000000 BTC      MARKET  0.007475000000000000 BTC   \n\n   Order Value Order Status   Order No.      Timestamp (UTC)  \n56          --       FILLED   9200128.0  2023-09-12 03:17:37  \n59          --       FILLED  20851968.0  2023-09-11 23:40:52  ",
      "text/html": "<div>\n<style scoped>\n    .dataframe tbody tr th:only-of-type {\n        vertical-align: middle;\n    }\n\n    .dataframe tbody tr th {\n        vertical-align: top;\n    }\n\n    .dataframe thead th {\n        text-align: right;\n    }\n</style>\n<table border=\"1\" class=\"dataframe\">\n  <thead>\n    <tr style=\"text-align: right;\">\n      <th></th>\n      <th>Timestamp (Local Time)</th>\n      <th>Spot Pairs</th>\n      <th>Order Type</th>\n      <th>Direction</th>\n      <th>Filled Value</th>\n      <th>Avg. Filled Price</th>\n      <th>Filled Quantity</th>\n      <th>Order Price</th>\n      <th>Order Quantity</th>\n      <th>Order Value</th>\n      <th>Order Status</th>\n      <th>Order No.</th>\n      <th>Timestamp (UTC)</th>\n    </tr>\n  </thead>\n  <tbody>\n    <tr>\n      <th>56</th>\n      <td>2023-09-12 06:17:37</td>\n      <td>BTC/USDT</td>\n      <td>MARKET</td>\n      <td>SELL</td>\n      <td>231.2144435900000 USDT</td>\n      <td>25573.990000000000000000 USDT</td>\n      <td>0.009041000000000000 BTC</td>\n      <td>MARKET</td>\n      <td>0.009041000000000000 BTC</td>\n      <td>--</td>\n      <td>FILLED</td>\n      <td>9200128.0</td>\n      <td>2023-09-12 03:17:37</td>\n    </tr>\n    <tr>\n      <th>59</th>\n      <td>2023-09-12 02:40:52</td>\n      <td>BTC/USDT</td>\n      <td>MARKET</td>\n      <td>SELL</td>\n      <td>188.0408010000000 USDT</td>\n      <td>25155.960000000000000000 USDT</td>\n      <td>0.007475000000000000 BTC</td>\n      <td>MARKET</td>\n      <td>0.007475000000000000 BTC</td>\n      <td>--</td>\n      <td>FILLED</td>\n      <td>20851968.0</td>\n      <td>2023-09-11 23:40:52</td>\n    </tr>\n  </tbody>\n</table>\n</div>"
     },
     "metadata": {},
     "output_type": "display_data"
    }
   ],
   "source": [
    "filtered_data_bybit_history_spot = bybit_history_spot[(bybit_history_spot['Timestamp (Local Time)'] >= '2023-09-11 19:00:00') & (bybit_history_spot['Timestamp (Local Time)'] <= '2023-09-12 07:00:00')]\n",
    "\n",
    "display(filtered_data_bybit_history_spot)"
   ],
   "metadata": {
    "collapsed": false,
    "ExecuteTime": {
     "end_time": "2023-09-18T22:22:40.032108200Z",
     "start_time": "2023-09-18T22:22:39.952217400Z"
    }
   },
   "id": "aa3e4c4ca074ac9a"
  },
  {
   "cell_type": "code",
   "execution_count": 280,
   "outputs": [],
   "source": [
    "from openpyxl import load_workbook\n",
    "from openpyxl.styles import Font, Alignment\n",
    "from openpyxl.utils import coordinate_to_tuple\n",
    "import re"
   ],
   "metadata": {
    "collapsed": false,
    "ExecuteTime": {
     "end_time": "2023-09-18T22:22:40.032108200Z",
     "start_time": "2023-09-18T22:22:39.969217500Z"
    }
   },
   "id": "626ac3666165d15e"
  },
  {
   "cell_type": "code",
   "execution_count": 281,
   "outputs": [],
   "source": [
    "def find_empty_cell_top(column_index, sheet):\n",
    "    # Поиск первой пустой ячейки сверху вниз\n",
    "    empty_cell = None\n",
    "    row_index = 3\n",
    "    \n",
    "    while empty_cell is None:\n",
    "        cell_value = sheet.cell(row=row_index, column=column_index).value\n",
    "        if cell_value is None:\n",
    "            empty_cell = sheet.cell(row=row_index, column=column_index).coordinate\n",
    "        else:\n",
    "            row_index += 1\n",
    "            \n",
    "    return coordinate_to_tuple(empty_cell)"
   ],
   "metadata": {
    "collapsed": false,
    "ExecuteTime": {
     "end_time": "2023-09-18T22:22:40.043035100Z",
     "start_time": "2023-09-18T22:22:39.986108400Z"
    }
   },
   "id": "8ce8223efd71da1d"
  },
  {
   "cell_type": "code",
   "execution_count": 282,
   "outputs": [],
   "source": [
    "def find_empty_cell_bottom(column_index, sheet):\n",
    "    # Поиск первой пустой ячейки сверху вниз\n",
    "    empty_cell = None\n",
    "    row_index = 194\n",
    "    \n",
    "    while empty_cell is None:\n",
    "        cell_value = sheet.cell(row=row_index, column=column_index).value\n",
    "        if cell_value is None:\n",
    "            empty_cell = sheet.cell(row=row_index, column=column_index).coordinate\n",
    "        else:\n",
    "            row_index -= 1\n",
    "            \n",
    "    return coordinate_to_tuple(empty_cell)"
   ],
   "metadata": {
    "collapsed": false,
    "ExecuteTime": {
     "end_time": "2023-09-18T22:22:40.062040700Z",
     "start_time": "2023-09-18T22:22:40.001108900Z"
    }
   },
   "id": "2ecb774d3f3936fd"
  },
  {
   "cell_type": "code",
   "execution_count": 283,
   "outputs": [],
   "source": [
    "# Путь к существующему файлу Excel\n",
    "excel_file = '../docs/мой отчет p2p.xlsx'\n",
    "\n",
    "# Загрузка существующего файла Excel\n",
    "book = load_workbook(excel_file)\n",
    "\n",
    "# Выбор листа для записи данных\n",
    "sheet = book['11.09 ночная смена GarantexByBi']\n",
    "\n",
    "# Установка шрифта текста\n",
    "font = Font(name='Arial', size=12, bold=False, italic=False)\n",
    "\n",
    "# Установка выравнивания по центру\n",
    "alignment = Alignment(horizontal='center')\n",
    "\n",
    "# Координаты ячейки для начала записи данных\n",
    "cell_bybit_buy_usdt = find_empty_cell_top(7, sheet)\n",
    "cell_bybit_buy_mean = find_empty_cell_top(6, sheet)\n",
    "cell_bybit_buy_rub = find_empty_cell_top(5, sheet)\n",
    "cell_bybit_buy_market = find_empty_cell_top(4, sheet)\n",
    "\n",
    "cell_rub = sheet.cell(row=cell_bybit_buy_rub[0], column=cell_bybit_buy_rub[1])\n",
    "cell_rub.value = filtered_data_bybit_history_p2p[\n",
    "            (filtered_data_bybit_history_p2p['Type'] == 'BUY') & \n",
    "            (filtered_data_bybit_history_p2p['Cryptocurrency'] == 'BTC') &\n",
    "            (filtered_data_bybit_history_p2p['Type'] == 'BUY')\n",
    "            ]['Fiat Amount'].sum()\n",
    "cell_rub.font = font\n",
    "cell_rub.alignment = alignment\n",
    "\n",
    "cell_usdt = sheet.cell(row=cell_bybit_buy_usdt[0], column=cell_bybit_buy_usdt[1])\n",
    "cell_usdt.value = filtered_data_bybit_history_spot[\n",
    "            (filtered_data_bybit_history_spot['Timestamp (Local Time)'] != 'nan')\n",
    "            ]['Filled Value'].apply(lambda x: re.findall(r'\\d+\\.\\d+', x)[0]).astype(float).sum()\n",
    "cell_usdt.font = font\n",
    "cell_usdt.alignment = alignment\n",
    "\n",
    "cell_mean = sheet.cell(row=cell_bybit_buy_mean[0], column=cell_bybit_buy_mean[1])\n",
    "value_mean = (cell_rub.value / cell_usdt.value)\n",
    "cell_mean.value = value_mean\n",
    "cell_mean.font = font\n",
    "cell_mean.alignment = alignment\n",
    "\n",
    "cell_mean = sheet.cell(row=cell_bybit_buy_market[0], column=cell_bybit_buy_market[1])\n",
    "cell_mean.value = 'ByBit'\n",
    "cell_mean.font = font\n",
    "cell_mean.alignment = alignment\n",
    "\n",
    "\n",
    "\n",
    "# Сохранение изменений в файле Excel\n",
    "book.save(excel_file)"
   ],
   "metadata": {
    "collapsed": false,
    "ExecuteTime": {
     "end_time": "2023-09-18T22:22:40.424597100Z",
     "start_time": "2023-09-18T22:22:40.019107100Z"
    }
   },
   "id": "a4db4a009ff20634"
  },
  {
   "cell_type": "code",
   "execution_count": 284,
   "outputs": [
    {
     "data": {
      "text/plain": "   Timestamp (Local Time)                Spot Pairs              Order Type  \\\n56    2023-09-12 06:17:37                  BTC/USDT                  MARKET   \n57                    NaT  Filled Time (Local Time)            Filled Value   \n58                    NaT       2023-09-12 06:17:37  231.2144435900000 USDT   \n59    2023-09-12 02:40:52                  BTC/USDT                  MARKET   \n60                    NaT  Filled Time (Local Time)            Filled Value   \n61                    NaT       2023-09-12 02:40:52  188.0408010000000 USDT   \n\n                        Direction              Filled Value  \\\n56                           SELL    231.2144435900000 USDT   \n57                   Filled Price           Filled Quantity   \n58  25573.990000000000000000 USDT  0.009041000000000000 BTC   \n59                           SELL    188.0408010000000 USDT   \n60                   Filled Price           Filled Quantity   \n61  25155.960000000000000000 USDT  0.007475000000000000 BTC   \n\n                Avg. Filled Price           Filled Quantity  \\\n56  25573.990000000000000000 USDT  0.009041000000000000 BTC   \n57                           Fees            Transaction ID   \n58           0.2312144435900 USDT                  93056256   \n59  25155.960000000000000000 USDT  0.007475000000000000 BTC   \n60                           Fees            Transaction ID   \n61           0.1880408010000 USDT                  13233920   \n\n            Order Price            Order Quantity Order Value Order Status  \\\n56               MARKET  0.009041000000000000 BTC          --       FILLED   \n57      Timestamp (UTC)                       NaN         NaN          NaN   \n58  2023-09-12 03:17:37                       NaN         NaN          NaN   \n59               MARKET  0.007475000000000000 BTC          --       FILLED   \n60      Timestamp (UTC)                       NaN         NaN          NaN   \n61  2023-09-11 23:40:52                       NaN         NaN          NaN   \n\n     Order No.      Timestamp (UTC)  \n56   9200128.0  2023-09-12 03:17:37  \n57         NaN                  NaN  \n58         NaN                  NaN  \n59  20851968.0  2023-09-11 23:40:52  \n60         NaN                  NaN  \n61         NaN                  NaN  ",
      "text/html": "<div>\n<style scoped>\n    .dataframe tbody tr th:only-of-type {\n        vertical-align: middle;\n    }\n\n    .dataframe tbody tr th {\n        vertical-align: top;\n    }\n\n    .dataframe thead th {\n        text-align: right;\n    }\n</style>\n<table border=\"1\" class=\"dataframe\">\n  <thead>\n    <tr style=\"text-align: right;\">\n      <th></th>\n      <th>Timestamp (Local Time)</th>\n      <th>Spot Pairs</th>\n      <th>Order Type</th>\n      <th>Direction</th>\n      <th>Filled Value</th>\n      <th>Avg. Filled Price</th>\n      <th>Filled Quantity</th>\n      <th>Order Price</th>\n      <th>Order Quantity</th>\n      <th>Order Value</th>\n      <th>Order Status</th>\n      <th>Order No.</th>\n      <th>Timestamp (UTC)</th>\n    </tr>\n  </thead>\n  <tbody>\n    <tr>\n      <th>56</th>\n      <td>2023-09-12 06:17:37</td>\n      <td>BTC/USDT</td>\n      <td>MARKET</td>\n      <td>SELL</td>\n      <td>231.2144435900000 USDT</td>\n      <td>25573.990000000000000000 USDT</td>\n      <td>0.009041000000000000 BTC</td>\n      <td>MARKET</td>\n      <td>0.009041000000000000 BTC</td>\n      <td>--</td>\n      <td>FILLED</td>\n      <td>9200128.0</td>\n      <td>2023-09-12 03:17:37</td>\n    </tr>\n    <tr>\n      <th>57</th>\n      <td>NaT</td>\n      <td>Filled Time (Local Time)</td>\n      <td>Filled Value</td>\n      <td>Filled Price</td>\n      <td>Filled Quantity</td>\n      <td>Fees</td>\n      <td>Transaction ID</td>\n      <td>Timestamp (UTC)</td>\n      <td>NaN</td>\n      <td>NaN</td>\n      <td>NaN</td>\n      <td>NaN</td>\n      <td>NaN</td>\n    </tr>\n    <tr>\n      <th>58</th>\n      <td>NaT</td>\n      <td>2023-09-12 06:17:37</td>\n      <td>231.2144435900000 USDT</td>\n      <td>25573.990000000000000000 USDT</td>\n      <td>0.009041000000000000 BTC</td>\n      <td>0.2312144435900 USDT</td>\n      <td>93056256</td>\n      <td>2023-09-12 03:17:37</td>\n      <td>NaN</td>\n      <td>NaN</td>\n      <td>NaN</td>\n      <td>NaN</td>\n      <td>NaN</td>\n    </tr>\n    <tr>\n      <th>59</th>\n      <td>2023-09-12 02:40:52</td>\n      <td>BTC/USDT</td>\n      <td>MARKET</td>\n      <td>SELL</td>\n      <td>188.0408010000000 USDT</td>\n      <td>25155.960000000000000000 USDT</td>\n      <td>0.007475000000000000 BTC</td>\n      <td>MARKET</td>\n      <td>0.007475000000000000 BTC</td>\n      <td>--</td>\n      <td>FILLED</td>\n      <td>20851968.0</td>\n      <td>2023-09-11 23:40:52</td>\n    </tr>\n    <tr>\n      <th>60</th>\n      <td>NaT</td>\n      <td>Filled Time (Local Time)</td>\n      <td>Filled Value</td>\n      <td>Filled Price</td>\n      <td>Filled Quantity</td>\n      <td>Fees</td>\n      <td>Transaction ID</td>\n      <td>Timestamp (UTC)</td>\n      <td>NaN</td>\n      <td>NaN</td>\n      <td>NaN</td>\n      <td>NaN</td>\n      <td>NaN</td>\n    </tr>\n    <tr>\n      <th>61</th>\n      <td>NaT</td>\n      <td>2023-09-12 02:40:52</td>\n      <td>188.0408010000000 USDT</td>\n      <td>25155.960000000000000000 USDT</td>\n      <td>0.007475000000000000 BTC</td>\n      <td>0.1880408010000 USDT</td>\n      <td>13233920</td>\n      <td>2023-09-11 23:40:52</td>\n      <td>NaN</td>\n      <td>NaN</td>\n      <td>NaN</td>\n      <td>NaN</td>\n      <td>NaN</td>\n    </tr>\n  </tbody>\n</table>\n</div>"
     },
     "metadata": {},
     "output_type": "display_data"
    }
   ],
   "source": [
    "start_index = filtered_data_bybit_history_spot.index.values[0]\n",
    "end_index = filtered_data_bybit_history_spot.index.values[-1] + 3\n",
    "\n",
    "filtered_data_bybit_history_spot = bybit_history_spot.iloc[start_index:end_index]\n",
    "\n",
    "display(filtered_data_bybit_history_spot)"
   ],
   "metadata": {
    "collapsed": false,
    "ExecuteTime": {
     "end_time": "2023-09-18T22:22:40.442612500Z",
     "start_time": "2023-09-18T22:22:40.425597800Z"
    }
   },
   "id": "7d0861808e3ed8cb"
  },
  {
   "cell_type": "code",
   "execution_count": 285,
   "outputs": [
    {
     "data": {
      "text/plain": "   Timestamp (Local Time)          Spot Pairs              Order Type  \\\n58                    NaT 2023-09-12 06:17:37  231.2144435900000 USDT   \n61                    NaT 2023-09-12 02:40:52  188.0408010000000 USDT   \n\n                        Direction              Filled Value  \\\n58  25573.990000000000000000 USDT  0.009041000000000000 BTC   \n61  25155.960000000000000000 USDT  0.007475000000000000 BTC   \n\n       Avg. Filled Price Filled Quantity          Order Price Order Quantity  \\\n58  0.2312144435900 USDT        93056256  2023-09-12 03:17:37            NaN   \n61  0.1880408010000 USDT        13233920  2023-09-11 23:40:52            NaN   \n\n   Order Value Order Status  Order No. Timestamp (UTC)  \n58         NaN          NaN        NaN             NaN  \n61         NaN          NaN        NaN             NaN  ",
      "text/html": "<div>\n<style scoped>\n    .dataframe tbody tr th:only-of-type {\n        vertical-align: middle;\n    }\n\n    .dataframe tbody tr th {\n        vertical-align: top;\n    }\n\n    .dataframe thead th {\n        text-align: right;\n    }\n</style>\n<table border=\"1\" class=\"dataframe\">\n  <thead>\n    <tr style=\"text-align: right;\">\n      <th></th>\n      <th>Timestamp (Local Time)</th>\n      <th>Spot Pairs</th>\n      <th>Order Type</th>\n      <th>Direction</th>\n      <th>Filled Value</th>\n      <th>Avg. Filled Price</th>\n      <th>Filled Quantity</th>\n      <th>Order Price</th>\n      <th>Order Quantity</th>\n      <th>Order Value</th>\n      <th>Order Status</th>\n      <th>Order No.</th>\n      <th>Timestamp (UTC)</th>\n    </tr>\n  </thead>\n  <tbody>\n    <tr>\n      <th>58</th>\n      <td>NaT</td>\n      <td>2023-09-12 06:17:37</td>\n      <td>231.2144435900000 USDT</td>\n      <td>25573.990000000000000000 USDT</td>\n      <td>0.009041000000000000 BTC</td>\n      <td>0.2312144435900 USDT</td>\n      <td>93056256</td>\n      <td>2023-09-12 03:17:37</td>\n      <td>NaN</td>\n      <td>NaN</td>\n      <td>NaN</td>\n      <td>NaN</td>\n      <td>NaN</td>\n    </tr>\n    <tr>\n      <th>61</th>\n      <td>NaT</td>\n      <td>2023-09-12 02:40:52</td>\n      <td>188.0408010000000 USDT</td>\n      <td>25155.960000000000000000 USDT</td>\n      <td>0.007475000000000000 BTC</td>\n      <td>0.1880408010000 USDT</td>\n      <td>13233920</td>\n      <td>2023-09-11 23:40:52</td>\n      <td>NaN</td>\n      <td>NaN</td>\n      <td>NaN</td>\n      <td>NaN</td>\n      <td>NaN</td>\n    </tr>\n  </tbody>\n</table>\n</div>"
     },
     "metadata": {},
     "output_type": "display_data"
    }
   ],
   "source": [
    "filtered_data_bybit_history_spot_copy = filtered_data_bybit_history_spot.copy()\n",
    "\n",
    "filtered_data_bybit_history_spot_copy.loc[:, 'Spot Pairs'] = pd.to_datetime(filtered_data_bybit_history_spot_copy['Spot Pairs'], errors='coerce')\n",
    "\n",
    "filtered_data_bybit_for_komsa = filtered_data_bybit_history_spot_copy[pd.notnull(filtered_data_bybit_history_spot_copy['Spot Pairs'])]\n",
    "display(filtered_data_bybit_for_komsa)"
   ],
   "metadata": {
    "collapsed": false,
    "ExecuteTime": {
     "end_time": "2023-09-18T22:22:40.484608400Z",
     "start_time": "2023-09-18T22:22:40.441609200Z"
    }
   },
   "id": "f00e9eba25b85892"
  },
  {
   "cell_type": "code",
   "execution_count": 286,
   "outputs": [],
   "source": [
    "# Путь к существующему файлу Excel\n",
    "excel_file = '../docs/мой отчет p2p.xlsx'\n",
    "\n",
    "# Загрузка существующего файла Excel\n",
    "book = load_workbook(excel_file)\n",
    "\n",
    "# Выбор листа для записи данных\n",
    "sheet = book['11.09 ночная смена GarantexByBi']\n",
    "\n",
    "# Установка шрифта текста\n",
    "font = Font(name='Arial', size=12, bold=False, italic=False)\n",
    "\n",
    "# Установка выравнивания по центру\n",
    "alignment = Alignment(horizontal='center')\n",
    "\n",
    "# Координаты ячейки для начала записи данных\n",
    "cell_bybit_comm = find_empty_cell_bottom(7, sheet)\n",
    "cell_bybit_mean_price = find_empty_cell_bottom(6, sheet)\n",
    "cell_bybit_mean_multi = find_empty_cell_bottom(5, sheet)\n",
    "cell_bybit_komsa_market = find_empty_cell_bottom(4, sheet)\n",
    "cell_bybit_komsa = find_empty_cell_bottom(3, sheet)\n",
    "\n",
    "cell_comm = sheet.cell(row=cell_bybit_comm[0], column=cell_bybit_comm[1])\n",
    "cell_comm.value = filtered_data_bybit_for_komsa['Avg. Filled Price'].apply(lambda x: re.findall(r'\\d+\\.\\d+', x)[0]).astype(float).sum()\n",
    "cell_comm.font = font\n",
    "cell_comm.alignment = alignment\n",
    "\n",
    "cell_mean_price = sheet.cell(row=cell_bybit_mean_price[0], column=cell_bybit_mean_price[1])\n",
    "cell_mean_price.value = value_mean\n",
    "cell_mean_price.font = font\n",
    "cell_mean_price.alignment = alignment\n",
    "\n",
    "cell_mean_multi = sheet.cell(row=cell_bybit_mean_multi[0], column=cell_bybit_mean_multi[1])\n",
    "cell_mean_multi.value = cell_mean_price.value * cell_comm.value\n",
    "cell_mean_multi.font = font\n",
    "cell_mean_multi.alignment = alignment\n",
    "\n",
    "cell_komsa_market = sheet.cell(row=cell_bybit_komsa_market[0], column=cell_bybit_komsa_market[1])\n",
    "cell_komsa_market.value = 'ByBit'\n",
    "cell_komsa_market.font = font\n",
    "cell_komsa_market.alignment = alignment\n",
    "\n",
    "cell_komsa = sheet.cell(row=cell_bybit_komsa[0], column=cell_bybit_komsa[1])\n",
    "cell_komsa.value = 'komsa spot'\n",
    "cell_komsa.font = font\n",
    "cell_komsa.alignment = alignment\n",
    "\n",
    "# Сохранение изменений в файле Excel\n",
    "book.save(excel_file)"
   ],
   "metadata": {
    "collapsed": false,
    "ExecuteTime": {
     "end_time": "2023-09-18T22:22:40.867254400Z",
     "start_time": "2023-09-18T22:22:40.461611200Z"
    }
   },
   "id": "46a22a906859f077"
  }
 ],
 "metadata": {
  "kernelspec": {
   "display_name": "Python 3",
   "language": "python",
   "name": "python3"
  },
  "language_info": {
   "codemirror_mode": {
    "name": "ipython",
    "version": 2
   },
   "file_extension": ".py",
   "mimetype": "text/x-python",
   "name": "python",
   "nbconvert_exporter": "python",
   "pygments_lexer": "ipython2",
   "version": "2.7.6"
  }
 },
 "nbformat": 4,
 "nbformat_minor": 5
}
