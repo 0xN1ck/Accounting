{
 "cells": [
  {
   "cell_type": "code",
   "execution_count": 64,
   "id": "initial_id",
   "metadata": {
    "collapsed": true,
    "ExecuteTime": {
     "end_time": "2023-09-26T21:03:43.557537900Z",
     "start_time": "2023-09-26T21:03:43.508808800Z"
    }
   },
   "outputs": [],
   "source": [
    "import pandas as pd\n",
    "from IPython.display import display"
   ]
  },
  {
   "cell_type": "code",
   "execution_count": 65,
   "outputs": [],
   "source": [
    "# Working with file garantex история p2p сделок"
   ],
   "metadata": {
    "collapsed": false,
    "ExecuteTime": {
     "end_time": "2023-09-26T21:03:43.595538200Z",
     "start_time": "2023-09-26T21:03:43.525809400Z"
    }
   },
   "id": "95ae142698eb1d0d"
  },
  {
   "cell_type": "code",
   "execution_count": 66,
   "outputs": [],
   "source": [
    "gara_history_p2p = pd.read_excel('../docs/garantex/garantex история p2p сделок.xlsx')"
   ],
   "metadata": {
    "collapsed": false,
    "ExecuteTime": {
     "end_time": "2023-09-26T21:03:43.596537700Z",
     "start_time": "2023-09-26T21:03:43.540538100Z"
    }
   },
   "id": "a0a29998e53f9eb6"
  },
  {
   "cell_type": "code",
   "execution_count": 67,
   "outputs": [
    {
     "data": {
      "text/plain": "           Дата и время Направление    Контрагент  Цена      Сумма  Комиссия  \\\n0   2023-09-13 01:56:00     Покупка  Albion Trade -0.27  373007.12    373.01   \n1   2023-09-13 01:53:00     Покупка        ch1000 -0.17  220374.64    220.37   \n2   2023-09-13 01:51:00     Покупка   crypto_mate -1.68    5085.44      5.09   \n3   2023-09-13 01:50:00     Покупка      CashCoin -0.17  100176.30    100.18   \n4   2023-09-13 01:49:00     Покупка      jitendra -0.39   14255.60     14.26   \n..                  ...         ...           ...   ...        ...       ...   \n104 2023-11-09 11:22:00     Покупка       alnaz02 -0.07   60040.03     60.04   \n105 2023-11-09 11:16:00     Покупка     Daler.777 -0.01  334996.00    335.00   \n106 2023-11-09 10:22:00     Покупка  LionThePower -0.68  275000.00    275.00   \n107 2023-11-09 10:08:00     Покупка    Roza.obmen -0.11  500550.61    500.55   \n108 2023-11-09 09:35:00     Покупка        CatBit -0.12   33990.79     33.99   \n\n         Итого      Fiat Валюта  \n0    372634.11  372000.0    RUB  \n1    220154.27  220000.0    RUB  \n2      5080.35    5000.0    RUB  \n3    100076.12  100006.0    RUB  \n4     14241.34   14200.0    RUB  \n..         ...       ...    ...  \n104   59979.99   59998.0    RUB  \n105  334661.00  334962.5    RUB  \n106  274725.00  273130.0    RUB  \n107  500050.06  500000.0    RUB  \n108   33956.80   33950.0    RUB  \n\n[109 rows x 9 columns]",
      "text/html": "<div>\n<style scoped>\n    .dataframe tbody tr th:only-of-type {\n        vertical-align: middle;\n    }\n\n    .dataframe tbody tr th {\n        vertical-align: top;\n    }\n\n    .dataframe thead th {\n        text-align: right;\n    }\n</style>\n<table border=\"1\" class=\"dataframe\">\n  <thead>\n    <tr style=\"text-align: right;\">\n      <th></th>\n      <th>Дата и время</th>\n      <th>Направление</th>\n      <th>Контрагент</th>\n      <th>Цена</th>\n      <th>Сумма</th>\n      <th>Комиссия</th>\n      <th>Итого</th>\n      <th>Fiat</th>\n      <th>Валюта</th>\n    </tr>\n  </thead>\n  <tbody>\n    <tr>\n      <th>0</th>\n      <td>2023-09-13 01:56:00</td>\n      <td>Покупка</td>\n      <td>Albion Trade</td>\n      <td>-0.27</td>\n      <td>373007.12</td>\n      <td>373.01</td>\n      <td>372634.11</td>\n      <td>372000.0</td>\n      <td>RUB</td>\n    </tr>\n    <tr>\n      <th>1</th>\n      <td>2023-09-13 01:53:00</td>\n      <td>Покупка</td>\n      <td>ch1000</td>\n      <td>-0.17</td>\n      <td>220374.64</td>\n      <td>220.37</td>\n      <td>220154.27</td>\n      <td>220000.0</td>\n      <td>RUB</td>\n    </tr>\n    <tr>\n      <th>2</th>\n      <td>2023-09-13 01:51:00</td>\n      <td>Покупка</td>\n      <td>crypto_mate</td>\n      <td>-1.68</td>\n      <td>5085.44</td>\n      <td>5.09</td>\n      <td>5080.35</td>\n      <td>5000.0</td>\n      <td>RUB</td>\n    </tr>\n    <tr>\n      <th>3</th>\n      <td>2023-09-13 01:50:00</td>\n      <td>Покупка</td>\n      <td>CashCoin</td>\n      <td>-0.17</td>\n      <td>100176.30</td>\n      <td>100.18</td>\n      <td>100076.12</td>\n      <td>100006.0</td>\n      <td>RUB</td>\n    </tr>\n    <tr>\n      <th>4</th>\n      <td>2023-09-13 01:49:00</td>\n      <td>Покупка</td>\n      <td>jitendra</td>\n      <td>-0.39</td>\n      <td>14255.60</td>\n      <td>14.26</td>\n      <td>14241.34</td>\n      <td>14200.0</td>\n      <td>RUB</td>\n    </tr>\n    <tr>\n      <th>...</th>\n      <td>...</td>\n      <td>...</td>\n      <td>...</td>\n      <td>...</td>\n      <td>...</td>\n      <td>...</td>\n      <td>...</td>\n      <td>...</td>\n      <td>...</td>\n    </tr>\n    <tr>\n      <th>104</th>\n      <td>2023-11-09 11:22:00</td>\n      <td>Покупка</td>\n      <td>alnaz02</td>\n      <td>-0.07</td>\n      <td>60040.03</td>\n      <td>60.04</td>\n      <td>59979.99</td>\n      <td>59998.0</td>\n      <td>RUB</td>\n    </tr>\n    <tr>\n      <th>105</th>\n      <td>2023-11-09 11:16:00</td>\n      <td>Покупка</td>\n      <td>Daler.777</td>\n      <td>-0.01</td>\n      <td>334996.00</td>\n      <td>335.00</td>\n      <td>334661.00</td>\n      <td>334962.5</td>\n      <td>RUB</td>\n    </tr>\n    <tr>\n      <th>106</th>\n      <td>2023-11-09 10:22:00</td>\n      <td>Покупка</td>\n      <td>LionThePower</td>\n      <td>-0.68</td>\n      <td>275000.00</td>\n      <td>275.00</td>\n      <td>274725.00</td>\n      <td>273130.0</td>\n      <td>RUB</td>\n    </tr>\n    <tr>\n      <th>107</th>\n      <td>2023-11-09 10:08:00</td>\n      <td>Покупка</td>\n      <td>Roza.obmen</td>\n      <td>-0.11</td>\n      <td>500550.61</td>\n      <td>500.55</td>\n      <td>500050.06</td>\n      <td>500000.0</td>\n      <td>RUB</td>\n    </tr>\n    <tr>\n      <th>108</th>\n      <td>2023-11-09 09:35:00</td>\n      <td>Покупка</td>\n      <td>CatBit</td>\n      <td>-0.12</td>\n      <td>33990.79</td>\n      <td>33.99</td>\n      <td>33956.80</td>\n      <td>33950.0</td>\n      <td>RUB</td>\n    </tr>\n  </tbody>\n</table>\n<p>109 rows × 9 columns</p>\n</div>"
     },
     "metadata": {},
     "output_type": "display_data"
    }
   ],
   "source": [
    "gara_history_p2p['Дата и время'] = pd.to_datetime(gara_history_p2p['Дата и время'])\n",
    "display(gara_history_p2p)"
   ],
   "metadata": {
    "collapsed": false,
    "ExecuteTime": {
     "end_time": "2023-09-26T21:03:43.609537400Z",
     "start_time": "2023-09-26T21:03:43.572538500Z"
    }
   },
   "id": "278f72a9148ba46"
  },
  {
   "cell_type": "code",
   "execution_count": 68,
   "outputs": [],
   "source": [
    "filtered_data_gara_history_p2p = gara_history_p2p[(gara_history_p2p['Дата и время'] >= '2023-11-09 19:00:00') & (gara_history_p2p['Дата и время'] <= '2023-12-09 07:00:00')]"
   ],
   "metadata": {
    "collapsed": false,
    "ExecuteTime": {
     "end_time": "2023-09-26T21:03:43.626537500Z",
     "start_time": "2023-09-26T21:03:43.603537500Z"
    }
   },
   "id": "190f8c5f00cc8a37"
  },
  {
   "cell_type": "code",
   "execution_count": 69,
   "outputs": [
    {
     "data": {
      "text/plain": "          Дата и время Направление          Контрагент  Цена      Сумма  \\\n32 2023-12-09 03:58:00     Покупка         Grandm4ster -0.05  170085.04   \n33 2023-12-09 03:55:00     Покупка         ChebObmen21 -0.05  959000.00   \n34 2023-12-09 03:25:00     Покупка           QtradeBit -0.29   88095.48   \n35 2023-12-09 02:25:00     Покупка            jitendra  0.18   65881.41   \n36 2023-12-09 02:24:00     Покупка         ooooooooooo  0.18  100000.00   \n37 2023-12-09 02:23:00     Покупка         CryptoUnion  0.18  179676.58   \n38 2023-12-09 01:30:00     Продажа           crpt.boss  0.89   59470.71   \n39 2023-12-09 01:27:00     Покупка         crypto_mate  0.32   84544.46   \n40 2023-12-09 01:25:00     Покупка         crypto_mate  0.32   99681.02   \n41 2023-12-09 01:22:00     Покупка         crypto_mate  0.32  269138.76   \n42 2023-12-09 01:16:00     Покупка          PrygDm1992 -1.65  431113.37   \n43 2023-12-09 00:36:00     Покупка            CashCoin  0.11   40043.95   \n44 2023-11-09 23:58:00     Покупка             alnaz02  0.29   69797.59   \n45 2023-11-09 23:45:00     Покупка            CashCoin  0.37   51352.00   \n46 2023-11-09 23:24:00     Продажа           XXL-Obmen  1.10   98615.23   \n47 2023-11-09 23:24:00     Продажа           XXL-Obmen  1.10   98615.23   \n48 2023-11-09 23:23:00     Продажа           XXL-Obmen  1.10   98615.23   \n49 2023-11-09 23:20:00     Продажа            CashCoin  1.10  108803.17   \n50 2023-11-09 23:10:00     Покупка         gerasimmumu  0.41  185838.06   \n51 2023-11-09 23:02:00     Покупка              CatBit  0.41   59755.00   \n52 2023-11-09 22:53:00     Покупка          BanchPikei  0.41   41828.50   \n53 2023-11-09 22:46:00     Продажа            CashCoin  1.29  506367.85   \n54 2023-11-09 22:20:00     Продажа         crypto_mate  1.39   88766.15   \n55 2023-11-09 22:05:00     Покупка          BanchPikei  0.36   49723.00   \n56 2023-11-09 22:01:00     Покупка            CashCoin  0.40   94708.17   \n57 2023-11-09 21:55:00     Покупка         crypto_mate  0.40   37848.61   \n58 2023-11-09 21:28:00     Продажа  mdk _production2.0  0.83  123375.98   \n59 2023-11-09 21:13:00     Покупка              CatBit  0.18   56897.58   \n60 2023-11-09 21:13:00     Покупка            jitendra  0.29   32904.58   \n61 2023-11-09 21:01:00     Покупка          BanchPikei  0.27   34905.75   \n62 2023-11-09 20:47:00     Покупка          glavmoscow  0.31  249227.40   \n63 2023-11-09 20:47:00     Покупка          glavmoscow  0.25  263341.65   \n64 2023-11-09 19:57:00     Покупка            SiMaster  0.24  398044.69   \n65 2023-11-09 19:56:00     Покупка            CashCoin  0.24  253094.57   \n66 2023-11-09 19:56:00     Покупка             alnaz02  0.24   70430.97   \n67 2023-11-09 19:54:00     Покупка            jitendra  0.24   57462.09   \n68 2023-11-09 19:53:00     Покупка      Top_serviceBTC  0.24   33148.00   \n69 2023-11-09 19:53:00     Покупка          BanchPikei  0.26   99241.97   \n70 2023-11-09 19:49:00     Покупка           Daler.777  0.22  352588.00   \n\n    Комиссия      Итого       Fiat Валюта  \n32    170.09  169914.95  170000.00    RUB  \n33    959.00  958041.00  958520.50    RUB  \n34     88.10   88007.38   87840.00    RUB  \n35     65.88   65815.53   66000.00    RUB  \n36    100.00   99900.00  100180.00    RUB  \n37    179.68  179496.90  180000.00    RUB  \n38     59.47  -59530.18   60000.00    RUB  \n39     84.54   84459.92   84815.00    RUB  \n40     99.68   99581.34  100000.00    RUB  \n41    269.14  268869.62  270000.00    RUB  \n42    431.11  430682.26  424000.00    RUB  \n43     40.04   40003.91   40088.00    RUB  \n44     69.80   69727.79   70000.00    RUB  \n45     51.35   51300.65   51542.00    RUB  \n46     98.62  -98713.85   99700.00    RUB  \n47     98.62  -98713.85   99700.00    RUB  \n48     98.62  -98713.85   99700.00    RUB  \n49    108.80 -108911.97  110000.00    RUB  \n50    185.84  185652.22  186600.00    RUB  \n51     59.76   59695.24   60000.00    RUB  \n52     41.83   41786.67   42000.00    RUB  \n53    506.37 -506874.22  512900.00    RUB  \n54     88.77  -88854.92   90000.00    RUB  \n55     49.72   49673.28   49902.00    RUB  \n56     94.71   94613.46   95087.00    RUB  \n57     37.85   37810.76   38000.00    RUB  \n58    123.38 -123499.36  124400.00    RUB  \n59     56.90   56840.68   57000.00    RUB  \n60     32.90   32871.68   33000.00    RUB  \n61     34.91   34870.84   35000.00    RUB  \n62    249.23  248978.17  250000.00    RUB  \n63    263.34  263078.31  264000.00    RUB  \n64    398.04  397646.65  399000.00    RUB  \n65    253.09  252841.48  253702.00    RUB  \n66     70.43   70360.54   70600.00    RUB  \n67     57.46   57404.63   57600.00    RUB  \n68     33.15   33114.85   33227.56    RUB  \n69     99.24   99142.73   99500.00    RUB  \n70    352.59  352235.41  353363.69    RUB  ",
      "text/html": "<div>\n<style scoped>\n    .dataframe tbody tr th:only-of-type {\n        vertical-align: middle;\n    }\n\n    .dataframe tbody tr th {\n        vertical-align: top;\n    }\n\n    .dataframe thead th {\n        text-align: right;\n    }\n</style>\n<table border=\"1\" class=\"dataframe\">\n  <thead>\n    <tr style=\"text-align: right;\">\n      <th></th>\n      <th>Дата и время</th>\n      <th>Направление</th>\n      <th>Контрагент</th>\n      <th>Цена</th>\n      <th>Сумма</th>\n      <th>Комиссия</th>\n      <th>Итого</th>\n      <th>Fiat</th>\n      <th>Валюта</th>\n    </tr>\n  </thead>\n  <tbody>\n    <tr>\n      <th>32</th>\n      <td>2023-12-09 03:58:00</td>\n      <td>Покупка</td>\n      <td>Grandm4ster</td>\n      <td>-0.05</td>\n      <td>170085.04</td>\n      <td>170.09</td>\n      <td>169914.95</td>\n      <td>170000.00</td>\n      <td>RUB</td>\n    </tr>\n    <tr>\n      <th>33</th>\n      <td>2023-12-09 03:55:00</td>\n      <td>Покупка</td>\n      <td>ChebObmen21</td>\n      <td>-0.05</td>\n      <td>959000.00</td>\n      <td>959.00</td>\n      <td>958041.00</td>\n      <td>958520.50</td>\n      <td>RUB</td>\n    </tr>\n    <tr>\n      <th>34</th>\n      <td>2023-12-09 03:25:00</td>\n      <td>Покупка</td>\n      <td>QtradeBit</td>\n      <td>-0.29</td>\n      <td>88095.48</td>\n      <td>88.10</td>\n      <td>88007.38</td>\n      <td>87840.00</td>\n      <td>RUB</td>\n    </tr>\n    <tr>\n      <th>35</th>\n      <td>2023-12-09 02:25:00</td>\n      <td>Покупка</td>\n      <td>jitendra</td>\n      <td>0.18</td>\n      <td>65881.41</td>\n      <td>65.88</td>\n      <td>65815.53</td>\n      <td>66000.00</td>\n      <td>RUB</td>\n    </tr>\n    <tr>\n      <th>36</th>\n      <td>2023-12-09 02:24:00</td>\n      <td>Покупка</td>\n      <td>ooooooooooo</td>\n      <td>0.18</td>\n      <td>100000.00</td>\n      <td>100.00</td>\n      <td>99900.00</td>\n      <td>100180.00</td>\n      <td>RUB</td>\n    </tr>\n    <tr>\n      <th>37</th>\n      <td>2023-12-09 02:23:00</td>\n      <td>Покупка</td>\n      <td>CryptoUnion</td>\n      <td>0.18</td>\n      <td>179676.58</td>\n      <td>179.68</td>\n      <td>179496.90</td>\n      <td>180000.00</td>\n      <td>RUB</td>\n    </tr>\n    <tr>\n      <th>38</th>\n      <td>2023-12-09 01:30:00</td>\n      <td>Продажа</td>\n      <td>crpt.boss</td>\n      <td>0.89</td>\n      <td>59470.71</td>\n      <td>59.47</td>\n      <td>-59530.18</td>\n      <td>60000.00</td>\n      <td>RUB</td>\n    </tr>\n    <tr>\n      <th>39</th>\n      <td>2023-12-09 01:27:00</td>\n      <td>Покупка</td>\n      <td>crypto_mate</td>\n      <td>0.32</td>\n      <td>84544.46</td>\n      <td>84.54</td>\n      <td>84459.92</td>\n      <td>84815.00</td>\n      <td>RUB</td>\n    </tr>\n    <tr>\n      <th>40</th>\n      <td>2023-12-09 01:25:00</td>\n      <td>Покупка</td>\n      <td>crypto_mate</td>\n      <td>0.32</td>\n      <td>99681.02</td>\n      <td>99.68</td>\n      <td>99581.34</td>\n      <td>100000.00</td>\n      <td>RUB</td>\n    </tr>\n    <tr>\n      <th>41</th>\n      <td>2023-12-09 01:22:00</td>\n      <td>Покупка</td>\n      <td>crypto_mate</td>\n      <td>0.32</td>\n      <td>269138.76</td>\n      <td>269.14</td>\n      <td>268869.62</td>\n      <td>270000.00</td>\n      <td>RUB</td>\n    </tr>\n    <tr>\n      <th>42</th>\n      <td>2023-12-09 01:16:00</td>\n      <td>Покупка</td>\n      <td>PrygDm1992</td>\n      <td>-1.65</td>\n      <td>431113.37</td>\n      <td>431.11</td>\n      <td>430682.26</td>\n      <td>424000.00</td>\n      <td>RUB</td>\n    </tr>\n    <tr>\n      <th>43</th>\n      <td>2023-12-09 00:36:00</td>\n      <td>Покупка</td>\n      <td>CashCoin</td>\n      <td>0.11</td>\n      <td>40043.95</td>\n      <td>40.04</td>\n      <td>40003.91</td>\n      <td>40088.00</td>\n      <td>RUB</td>\n    </tr>\n    <tr>\n      <th>44</th>\n      <td>2023-11-09 23:58:00</td>\n      <td>Покупка</td>\n      <td>alnaz02</td>\n      <td>0.29</td>\n      <td>69797.59</td>\n      <td>69.80</td>\n      <td>69727.79</td>\n      <td>70000.00</td>\n      <td>RUB</td>\n    </tr>\n    <tr>\n      <th>45</th>\n      <td>2023-11-09 23:45:00</td>\n      <td>Покупка</td>\n      <td>CashCoin</td>\n      <td>0.37</td>\n      <td>51352.00</td>\n      <td>51.35</td>\n      <td>51300.65</td>\n      <td>51542.00</td>\n      <td>RUB</td>\n    </tr>\n    <tr>\n      <th>46</th>\n      <td>2023-11-09 23:24:00</td>\n      <td>Продажа</td>\n      <td>XXL-Obmen</td>\n      <td>1.10</td>\n      <td>98615.23</td>\n      <td>98.62</td>\n      <td>-98713.85</td>\n      <td>99700.00</td>\n      <td>RUB</td>\n    </tr>\n    <tr>\n      <th>47</th>\n      <td>2023-11-09 23:24:00</td>\n      <td>Продажа</td>\n      <td>XXL-Obmen</td>\n      <td>1.10</td>\n      <td>98615.23</td>\n      <td>98.62</td>\n      <td>-98713.85</td>\n      <td>99700.00</td>\n      <td>RUB</td>\n    </tr>\n    <tr>\n      <th>48</th>\n      <td>2023-11-09 23:23:00</td>\n      <td>Продажа</td>\n      <td>XXL-Obmen</td>\n      <td>1.10</td>\n      <td>98615.23</td>\n      <td>98.62</td>\n      <td>-98713.85</td>\n      <td>99700.00</td>\n      <td>RUB</td>\n    </tr>\n    <tr>\n      <th>49</th>\n      <td>2023-11-09 23:20:00</td>\n      <td>Продажа</td>\n      <td>CashCoin</td>\n      <td>1.10</td>\n      <td>108803.17</td>\n      <td>108.80</td>\n      <td>-108911.97</td>\n      <td>110000.00</td>\n      <td>RUB</td>\n    </tr>\n    <tr>\n      <th>50</th>\n      <td>2023-11-09 23:10:00</td>\n      <td>Покупка</td>\n      <td>gerasimmumu</td>\n      <td>0.41</td>\n      <td>185838.06</td>\n      <td>185.84</td>\n      <td>185652.22</td>\n      <td>186600.00</td>\n      <td>RUB</td>\n    </tr>\n    <tr>\n      <th>51</th>\n      <td>2023-11-09 23:02:00</td>\n      <td>Покупка</td>\n      <td>CatBit</td>\n      <td>0.41</td>\n      <td>59755.00</td>\n      <td>59.76</td>\n      <td>59695.24</td>\n      <td>60000.00</td>\n      <td>RUB</td>\n    </tr>\n    <tr>\n      <th>52</th>\n      <td>2023-11-09 22:53:00</td>\n      <td>Покупка</td>\n      <td>BanchPikei</td>\n      <td>0.41</td>\n      <td>41828.50</td>\n      <td>41.83</td>\n      <td>41786.67</td>\n      <td>42000.00</td>\n      <td>RUB</td>\n    </tr>\n    <tr>\n      <th>53</th>\n      <td>2023-11-09 22:46:00</td>\n      <td>Продажа</td>\n      <td>CashCoin</td>\n      <td>1.29</td>\n      <td>506367.85</td>\n      <td>506.37</td>\n      <td>-506874.22</td>\n      <td>512900.00</td>\n      <td>RUB</td>\n    </tr>\n    <tr>\n      <th>54</th>\n      <td>2023-11-09 22:20:00</td>\n      <td>Продажа</td>\n      <td>crypto_mate</td>\n      <td>1.39</td>\n      <td>88766.15</td>\n      <td>88.77</td>\n      <td>-88854.92</td>\n      <td>90000.00</td>\n      <td>RUB</td>\n    </tr>\n    <tr>\n      <th>55</th>\n      <td>2023-11-09 22:05:00</td>\n      <td>Покупка</td>\n      <td>BanchPikei</td>\n      <td>0.36</td>\n      <td>49723.00</td>\n      <td>49.72</td>\n      <td>49673.28</td>\n      <td>49902.00</td>\n      <td>RUB</td>\n    </tr>\n    <tr>\n      <th>56</th>\n      <td>2023-11-09 22:01:00</td>\n      <td>Покупка</td>\n      <td>CashCoin</td>\n      <td>0.40</td>\n      <td>94708.17</td>\n      <td>94.71</td>\n      <td>94613.46</td>\n      <td>95087.00</td>\n      <td>RUB</td>\n    </tr>\n    <tr>\n      <th>57</th>\n      <td>2023-11-09 21:55:00</td>\n      <td>Покупка</td>\n      <td>crypto_mate</td>\n      <td>0.40</td>\n      <td>37848.61</td>\n      <td>37.85</td>\n      <td>37810.76</td>\n      <td>38000.00</td>\n      <td>RUB</td>\n    </tr>\n    <tr>\n      <th>58</th>\n      <td>2023-11-09 21:28:00</td>\n      <td>Продажа</td>\n      <td>mdk _production2.0</td>\n      <td>0.83</td>\n      <td>123375.98</td>\n      <td>123.38</td>\n      <td>-123499.36</td>\n      <td>124400.00</td>\n      <td>RUB</td>\n    </tr>\n    <tr>\n      <th>59</th>\n      <td>2023-11-09 21:13:00</td>\n      <td>Покупка</td>\n      <td>CatBit</td>\n      <td>0.18</td>\n      <td>56897.58</td>\n      <td>56.90</td>\n      <td>56840.68</td>\n      <td>57000.00</td>\n      <td>RUB</td>\n    </tr>\n    <tr>\n      <th>60</th>\n      <td>2023-11-09 21:13:00</td>\n      <td>Покупка</td>\n      <td>jitendra</td>\n      <td>0.29</td>\n      <td>32904.58</td>\n      <td>32.90</td>\n      <td>32871.68</td>\n      <td>33000.00</td>\n      <td>RUB</td>\n    </tr>\n    <tr>\n      <th>61</th>\n      <td>2023-11-09 21:01:00</td>\n      <td>Покупка</td>\n      <td>BanchPikei</td>\n      <td>0.27</td>\n      <td>34905.75</td>\n      <td>34.91</td>\n      <td>34870.84</td>\n      <td>35000.00</td>\n      <td>RUB</td>\n    </tr>\n    <tr>\n      <th>62</th>\n      <td>2023-11-09 20:47:00</td>\n      <td>Покупка</td>\n      <td>glavmoscow</td>\n      <td>0.31</td>\n      <td>249227.40</td>\n      <td>249.23</td>\n      <td>248978.17</td>\n      <td>250000.00</td>\n      <td>RUB</td>\n    </tr>\n    <tr>\n      <th>63</th>\n      <td>2023-11-09 20:47:00</td>\n      <td>Покупка</td>\n      <td>glavmoscow</td>\n      <td>0.25</td>\n      <td>263341.65</td>\n      <td>263.34</td>\n      <td>263078.31</td>\n      <td>264000.00</td>\n      <td>RUB</td>\n    </tr>\n    <tr>\n      <th>64</th>\n      <td>2023-11-09 19:57:00</td>\n      <td>Покупка</td>\n      <td>SiMaster</td>\n      <td>0.24</td>\n      <td>398044.69</td>\n      <td>398.04</td>\n      <td>397646.65</td>\n      <td>399000.00</td>\n      <td>RUB</td>\n    </tr>\n    <tr>\n      <th>65</th>\n      <td>2023-11-09 19:56:00</td>\n      <td>Покупка</td>\n      <td>CashCoin</td>\n      <td>0.24</td>\n      <td>253094.57</td>\n      <td>253.09</td>\n      <td>252841.48</td>\n      <td>253702.00</td>\n      <td>RUB</td>\n    </tr>\n    <tr>\n      <th>66</th>\n      <td>2023-11-09 19:56:00</td>\n      <td>Покупка</td>\n      <td>alnaz02</td>\n      <td>0.24</td>\n      <td>70430.97</td>\n      <td>70.43</td>\n      <td>70360.54</td>\n      <td>70600.00</td>\n      <td>RUB</td>\n    </tr>\n    <tr>\n      <th>67</th>\n      <td>2023-11-09 19:54:00</td>\n      <td>Покупка</td>\n      <td>jitendra</td>\n      <td>0.24</td>\n      <td>57462.09</td>\n      <td>57.46</td>\n      <td>57404.63</td>\n      <td>57600.00</td>\n      <td>RUB</td>\n    </tr>\n    <tr>\n      <th>68</th>\n      <td>2023-11-09 19:53:00</td>\n      <td>Покупка</td>\n      <td>Top_serviceBTC</td>\n      <td>0.24</td>\n      <td>33148.00</td>\n      <td>33.15</td>\n      <td>33114.85</td>\n      <td>33227.56</td>\n      <td>RUB</td>\n    </tr>\n    <tr>\n      <th>69</th>\n      <td>2023-11-09 19:53:00</td>\n      <td>Покупка</td>\n      <td>BanchPikei</td>\n      <td>0.26</td>\n      <td>99241.97</td>\n      <td>99.24</td>\n      <td>99142.73</td>\n      <td>99500.00</td>\n      <td>RUB</td>\n    </tr>\n    <tr>\n      <th>70</th>\n      <td>2023-11-09 19:49:00</td>\n      <td>Покупка</td>\n      <td>Daler.777</td>\n      <td>0.22</td>\n      <td>352588.00</td>\n      <td>352.59</td>\n      <td>352235.41</td>\n      <td>353363.69</td>\n      <td>RUB</td>\n    </tr>\n  </tbody>\n</table>\n</div>"
     },
     "execution_count": 69,
     "metadata": {},
     "output_type": "execute_result"
    }
   ],
   "source": [
    "filtered_data_gara_history_p2p"
   ],
   "metadata": {
    "collapsed": false,
    "ExecuteTime": {
     "end_time": "2023-09-26T21:03:43.676538800Z",
     "start_time": "2023-09-26T21:03:43.618537500Z"
    }
   },
   "id": "e7f2828d410a795b"
  },
  {
   "cell_type": "code",
   "execution_count": 70,
   "outputs": [],
   "source": [
    "pd.options.mode.chained_assignment = None\n",
    "\n",
    "filtered_data_gara_history_p2p.loc[filtered_data_gara_history_p2p['Направление'] == 'Покупка', 'Результат'] = filtered_data_gara_history_p2p['Итого'] - filtered_data_gara_history_p2p['Fiat']\n",
    "filtered_data_gara_history_p2p.loc[filtered_data_gara_history_p2p['Направление'] == 'Продажа', 'Результат'] = filtered_data_gara_history_p2p['Итого'] + filtered_data_gara_history_p2p['Fiat']"
   ],
   "metadata": {
    "collapsed": false,
    "ExecuteTime": {
     "end_time": "2023-09-26T21:03:43.707538300Z",
     "start_time": "2023-09-26T21:03:43.636537400Z"
    }
   },
   "id": "171da9eb4f1ef38d"
  },
  {
   "cell_type": "code",
   "execution_count": 71,
   "outputs": [
    {
     "data": {
      "text/plain": "          Дата и время Направление          Контрагент  Цена      Сумма  \\\n32 2023-12-09 03:58:00     Покупка         Grandm4ster -0.05  170085.04   \n33 2023-12-09 03:55:00     Покупка         ChebObmen21 -0.05  959000.00   \n34 2023-12-09 03:25:00     Покупка           QtradeBit -0.29   88095.48   \n35 2023-12-09 02:25:00     Покупка            jitendra  0.18   65881.41   \n36 2023-12-09 02:24:00     Покупка         ooooooooooo  0.18  100000.00   \n37 2023-12-09 02:23:00     Покупка         CryptoUnion  0.18  179676.58   \n38 2023-12-09 01:30:00     Продажа           crpt.boss  0.89   59470.71   \n39 2023-12-09 01:27:00     Покупка         crypto_mate  0.32   84544.46   \n40 2023-12-09 01:25:00     Покупка         crypto_mate  0.32   99681.02   \n41 2023-12-09 01:22:00     Покупка         crypto_mate  0.32  269138.76   \n42 2023-12-09 01:16:00     Покупка          PrygDm1992 -1.65  431113.37   \n43 2023-12-09 00:36:00     Покупка            CashCoin  0.11   40043.95   \n44 2023-11-09 23:58:00     Покупка             alnaz02  0.29   69797.59   \n45 2023-11-09 23:45:00     Покупка            CashCoin  0.37   51352.00   \n46 2023-11-09 23:24:00     Продажа           XXL-Obmen  1.10   98615.23   \n47 2023-11-09 23:24:00     Продажа           XXL-Obmen  1.10   98615.23   \n48 2023-11-09 23:23:00     Продажа           XXL-Obmen  1.10   98615.23   \n49 2023-11-09 23:20:00     Продажа            CashCoin  1.10  108803.17   \n50 2023-11-09 23:10:00     Покупка         gerasimmumu  0.41  185838.06   \n51 2023-11-09 23:02:00     Покупка              CatBit  0.41   59755.00   \n52 2023-11-09 22:53:00     Покупка          BanchPikei  0.41   41828.50   \n53 2023-11-09 22:46:00     Продажа            CashCoin  1.29  506367.85   \n54 2023-11-09 22:20:00     Продажа         crypto_mate  1.39   88766.15   \n55 2023-11-09 22:05:00     Покупка          BanchPikei  0.36   49723.00   \n56 2023-11-09 22:01:00     Покупка            CashCoin  0.40   94708.17   \n57 2023-11-09 21:55:00     Покупка         crypto_mate  0.40   37848.61   \n58 2023-11-09 21:28:00     Продажа  mdk _production2.0  0.83  123375.98   \n59 2023-11-09 21:13:00     Покупка              CatBit  0.18   56897.58   \n60 2023-11-09 21:13:00     Покупка            jitendra  0.29   32904.58   \n61 2023-11-09 21:01:00     Покупка          BanchPikei  0.27   34905.75   \n62 2023-11-09 20:47:00     Покупка          glavmoscow  0.31  249227.40   \n63 2023-11-09 20:47:00     Покупка          glavmoscow  0.25  263341.65   \n64 2023-11-09 19:57:00     Покупка            SiMaster  0.24  398044.69   \n65 2023-11-09 19:56:00     Покупка            CashCoin  0.24  253094.57   \n66 2023-11-09 19:56:00     Покупка             alnaz02  0.24   70430.97   \n67 2023-11-09 19:54:00     Покупка            jitendra  0.24   57462.09   \n68 2023-11-09 19:53:00     Покупка      Top_serviceBTC  0.24   33148.00   \n69 2023-11-09 19:53:00     Покупка          BanchPikei  0.26   99241.97   \n70 2023-11-09 19:49:00     Покупка           Daler.777  0.22  352588.00   \n\n    Комиссия      Итого       Fiat Валюта  Результат  \n32    170.09  169914.95  170000.00    RUB     -85.05  \n33    959.00  958041.00  958520.50    RUB    -479.50  \n34     88.10   88007.38   87840.00    RUB     167.38  \n35     65.88   65815.53   66000.00    RUB    -184.47  \n36    100.00   99900.00  100180.00    RUB    -280.00  \n37    179.68  179496.90  180000.00    RUB    -503.10  \n38     59.47  -59530.18   60000.00    RUB     469.82  \n39     84.54   84459.92   84815.00    RUB    -355.08  \n40     99.68   99581.34  100000.00    RUB    -418.66  \n41    269.14  268869.62  270000.00    RUB   -1130.38  \n42    431.11  430682.26  424000.00    RUB    6682.26  \n43     40.04   40003.91   40088.00    RUB     -84.09  \n44     69.80   69727.79   70000.00    RUB    -272.21  \n45     51.35   51300.65   51542.00    RUB    -241.35  \n46     98.62  -98713.85   99700.00    RUB     986.15  \n47     98.62  -98713.85   99700.00    RUB     986.15  \n48     98.62  -98713.85   99700.00    RUB     986.15  \n49    108.80 -108911.97  110000.00    RUB    1088.03  \n50    185.84  185652.22  186600.00    RUB    -947.78  \n51     59.76   59695.24   60000.00    RUB    -304.76  \n52     41.83   41786.67   42000.00    RUB    -213.33  \n53    506.37 -506874.22  512900.00    RUB    6025.78  \n54     88.77  -88854.92   90000.00    RUB    1145.08  \n55     49.72   49673.28   49902.00    RUB    -228.72  \n56     94.71   94613.46   95087.00    RUB    -473.54  \n57     37.85   37810.76   38000.00    RUB    -189.24  \n58    123.38 -123499.36  124400.00    RUB     900.64  \n59     56.90   56840.68   57000.00    RUB    -159.32  \n60     32.90   32871.68   33000.00    RUB    -128.32  \n61     34.91   34870.84   35000.00    RUB    -129.16  \n62    249.23  248978.17  250000.00    RUB   -1021.83  \n63    263.34  263078.31  264000.00    RUB    -921.69  \n64    398.04  397646.65  399000.00    RUB   -1353.35  \n65    253.09  252841.48  253702.00    RUB    -860.52  \n66     70.43   70360.54   70600.00    RUB    -239.46  \n67     57.46   57404.63   57600.00    RUB    -195.37  \n68     33.15   33114.85   33227.56    RUB    -112.71  \n69     99.24   99142.73   99500.00    RUB    -357.27  \n70    352.59  352235.41  353363.69    RUB   -1128.28  ",
      "text/html": "<div>\n<style scoped>\n    .dataframe tbody tr th:only-of-type {\n        vertical-align: middle;\n    }\n\n    .dataframe tbody tr th {\n        vertical-align: top;\n    }\n\n    .dataframe thead th {\n        text-align: right;\n    }\n</style>\n<table border=\"1\" class=\"dataframe\">\n  <thead>\n    <tr style=\"text-align: right;\">\n      <th></th>\n      <th>Дата и время</th>\n      <th>Направление</th>\n      <th>Контрагент</th>\n      <th>Цена</th>\n      <th>Сумма</th>\n      <th>Комиссия</th>\n      <th>Итого</th>\n      <th>Fiat</th>\n      <th>Валюта</th>\n      <th>Результат</th>\n    </tr>\n  </thead>\n  <tbody>\n    <tr>\n      <th>32</th>\n      <td>2023-12-09 03:58:00</td>\n      <td>Покупка</td>\n      <td>Grandm4ster</td>\n      <td>-0.05</td>\n      <td>170085.04</td>\n      <td>170.09</td>\n      <td>169914.95</td>\n      <td>170000.00</td>\n      <td>RUB</td>\n      <td>-85.05</td>\n    </tr>\n    <tr>\n      <th>33</th>\n      <td>2023-12-09 03:55:00</td>\n      <td>Покупка</td>\n      <td>ChebObmen21</td>\n      <td>-0.05</td>\n      <td>959000.00</td>\n      <td>959.00</td>\n      <td>958041.00</td>\n      <td>958520.50</td>\n      <td>RUB</td>\n      <td>-479.50</td>\n    </tr>\n    <tr>\n      <th>34</th>\n      <td>2023-12-09 03:25:00</td>\n      <td>Покупка</td>\n      <td>QtradeBit</td>\n      <td>-0.29</td>\n      <td>88095.48</td>\n      <td>88.10</td>\n      <td>88007.38</td>\n      <td>87840.00</td>\n      <td>RUB</td>\n      <td>167.38</td>\n    </tr>\n    <tr>\n      <th>35</th>\n      <td>2023-12-09 02:25:00</td>\n      <td>Покупка</td>\n      <td>jitendra</td>\n      <td>0.18</td>\n      <td>65881.41</td>\n      <td>65.88</td>\n      <td>65815.53</td>\n      <td>66000.00</td>\n      <td>RUB</td>\n      <td>-184.47</td>\n    </tr>\n    <tr>\n      <th>36</th>\n      <td>2023-12-09 02:24:00</td>\n      <td>Покупка</td>\n      <td>ooooooooooo</td>\n      <td>0.18</td>\n      <td>100000.00</td>\n      <td>100.00</td>\n      <td>99900.00</td>\n      <td>100180.00</td>\n      <td>RUB</td>\n      <td>-280.00</td>\n    </tr>\n    <tr>\n      <th>37</th>\n      <td>2023-12-09 02:23:00</td>\n      <td>Покупка</td>\n      <td>CryptoUnion</td>\n      <td>0.18</td>\n      <td>179676.58</td>\n      <td>179.68</td>\n      <td>179496.90</td>\n      <td>180000.00</td>\n      <td>RUB</td>\n      <td>-503.10</td>\n    </tr>\n    <tr>\n      <th>38</th>\n      <td>2023-12-09 01:30:00</td>\n      <td>Продажа</td>\n      <td>crpt.boss</td>\n      <td>0.89</td>\n      <td>59470.71</td>\n      <td>59.47</td>\n      <td>-59530.18</td>\n      <td>60000.00</td>\n      <td>RUB</td>\n      <td>469.82</td>\n    </tr>\n    <tr>\n      <th>39</th>\n      <td>2023-12-09 01:27:00</td>\n      <td>Покупка</td>\n      <td>crypto_mate</td>\n      <td>0.32</td>\n      <td>84544.46</td>\n      <td>84.54</td>\n      <td>84459.92</td>\n      <td>84815.00</td>\n      <td>RUB</td>\n      <td>-355.08</td>\n    </tr>\n    <tr>\n      <th>40</th>\n      <td>2023-12-09 01:25:00</td>\n      <td>Покупка</td>\n      <td>crypto_mate</td>\n      <td>0.32</td>\n      <td>99681.02</td>\n      <td>99.68</td>\n      <td>99581.34</td>\n      <td>100000.00</td>\n      <td>RUB</td>\n      <td>-418.66</td>\n    </tr>\n    <tr>\n      <th>41</th>\n      <td>2023-12-09 01:22:00</td>\n      <td>Покупка</td>\n      <td>crypto_mate</td>\n      <td>0.32</td>\n      <td>269138.76</td>\n      <td>269.14</td>\n      <td>268869.62</td>\n      <td>270000.00</td>\n      <td>RUB</td>\n      <td>-1130.38</td>\n    </tr>\n    <tr>\n      <th>42</th>\n      <td>2023-12-09 01:16:00</td>\n      <td>Покупка</td>\n      <td>PrygDm1992</td>\n      <td>-1.65</td>\n      <td>431113.37</td>\n      <td>431.11</td>\n      <td>430682.26</td>\n      <td>424000.00</td>\n      <td>RUB</td>\n      <td>6682.26</td>\n    </tr>\n    <tr>\n      <th>43</th>\n      <td>2023-12-09 00:36:00</td>\n      <td>Покупка</td>\n      <td>CashCoin</td>\n      <td>0.11</td>\n      <td>40043.95</td>\n      <td>40.04</td>\n      <td>40003.91</td>\n      <td>40088.00</td>\n      <td>RUB</td>\n      <td>-84.09</td>\n    </tr>\n    <tr>\n      <th>44</th>\n      <td>2023-11-09 23:58:00</td>\n      <td>Покупка</td>\n      <td>alnaz02</td>\n      <td>0.29</td>\n      <td>69797.59</td>\n      <td>69.80</td>\n      <td>69727.79</td>\n      <td>70000.00</td>\n      <td>RUB</td>\n      <td>-272.21</td>\n    </tr>\n    <tr>\n      <th>45</th>\n      <td>2023-11-09 23:45:00</td>\n      <td>Покупка</td>\n      <td>CashCoin</td>\n      <td>0.37</td>\n      <td>51352.00</td>\n      <td>51.35</td>\n      <td>51300.65</td>\n      <td>51542.00</td>\n      <td>RUB</td>\n      <td>-241.35</td>\n    </tr>\n    <tr>\n      <th>46</th>\n      <td>2023-11-09 23:24:00</td>\n      <td>Продажа</td>\n      <td>XXL-Obmen</td>\n      <td>1.10</td>\n      <td>98615.23</td>\n      <td>98.62</td>\n      <td>-98713.85</td>\n      <td>99700.00</td>\n      <td>RUB</td>\n      <td>986.15</td>\n    </tr>\n    <tr>\n      <th>47</th>\n      <td>2023-11-09 23:24:00</td>\n      <td>Продажа</td>\n      <td>XXL-Obmen</td>\n      <td>1.10</td>\n      <td>98615.23</td>\n      <td>98.62</td>\n      <td>-98713.85</td>\n      <td>99700.00</td>\n      <td>RUB</td>\n      <td>986.15</td>\n    </tr>\n    <tr>\n      <th>48</th>\n      <td>2023-11-09 23:23:00</td>\n      <td>Продажа</td>\n      <td>XXL-Obmen</td>\n      <td>1.10</td>\n      <td>98615.23</td>\n      <td>98.62</td>\n      <td>-98713.85</td>\n      <td>99700.00</td>\n      <td>RUB</td>\n      <td>986.15</td>\n    </tr>\n    <tr>\n      <th>49</th>\n      <td>2023-11-09 23:20:00</td>\n      <td>Продажа</td>\n      <td>CashCoin</td>\n      <td>1.10</td>\n      <td>108803.17</td>\n      <td>108.80</td>\n      <td>-108911.97</td>\n      <td>110000.00</td>\n      <td>RUB</td>\n      <td>1088.03</td>\n    </tr>\n    <tr>\n      <th>50</th>\n      <td>2023-11-09 23:10:00</td>\n      <td>Покупка</td>\n      <td>gerasimmumu</td>\n      <td>0.41</td>\n      <td>185838.06</td>\n      <td>185.84</td>\n      <td>185652.22</td>\n      <td>186600.00</td>\n      <td>RUB</td>\n      <td>-947.78</td>\n    </tr>\n    <tr>\n      <th>51</th>\n      <td>2023-11-09 23:02:00</td>\n      <td>Покупка</td>\n      <td>CatBit</td>\n      <td>0.41</td>\n      <td>59755.00</td>\n      <td>59.76</td>\n      <td>59695.24</td>\n      <td>60000.00</td>\n      <td>RUB</td>\n      <td>-304.76</td>\n    </tr>\n    <tr>\n      <th>52</th>\n      <td>2023-11-09 22:53:00</td>\n      <td>Покупка</td>\n      <td>BanchPikei</td>\n      <td>0.41</td>\n      <td>41828.50</td>\n      <td>41.83</td>\n      <td>41786.67</td>\n      <td>42000.00</td>\n      <td>RUB</td>\n      <td>-213.33</td>\n    </tr>\n    <tr>\n      <th>53</th>\n      <td>2023-11-09 22:46:00</td>\n      <td>Продажа</td>\n      <td>CashCoin</td>\n      <td>1.29</td>\n      <td>506367.85</td>\n      <td>506.37</td>\n      <td>-506874.22</td>\n      <td>512900.00</td>\n      <td>RUB</td>\n      <td>6025.78</td>\n    </tr>\n    <tr>\n      <th>54</th>\n      <td>2023-11-09 22:20:00</td>\n      <td>Продажа</td>\n      <td>crypto_mate</td>\n      <td>1.39</td>\n      <td>88766.15</td>\n      <td>88.77</td>\n      <td>-88854.92</td>\n      <td>90000.00</td>\n      <td>RUB</td>\n      <td>1145.08</td>\n    </tr>\n    <tr>\n      <th>55</th>\n      <td>2023-11-09 22:05:00</td>\n      <td>Покупка</td>\n      <td>BanchPikei</td>\n      <td>0.36</td>\n      <td>49723.00</td>\n      <td>49.72</td>\n      <td>49673.28</td>\n      <td>49902.00</td>\n      <td>RUB</td>\n      <td>-228.72</td>\n    </tr>\n    <tr>\n      <th>56</th>\n      <td>2023-11-09 22:01:00</td>\n      <td>Покупка</td>\n      <td>CashCoin</td>\n      <td>0.40</td>\n      <td>94708.17</td>\n      <td>94.71</td>\n      <td>94613.46</td>\n      <td>95087.00</td>\n      <td>RUB</td>\n      <td>-473.54</td>\n    </tr>\n    <tr>\n      <th>57</th>\n      <td>2023-11-09 21:55:00</td>\n      <td>Покупка</td>\n      <td>crypto_mate</td>\n      <td>0.40</td>\n      <td>37848.61</td>\n      <td>37.85</td>\n      <td>37810.76</td>\n      <td>38000.00</td>\n      <td>RUB</td>\n      <td>-189.24</td>\n    </tr>\n    <tr>\n      <th>58</th>\n      <td>2023-11-09 21:28:00</td>\n      <td>Продажа</td>\n      <td>mdk _production2.0</td>\n      <td>0.83</td>\n      <td>123375.98</td>\n      <td>123.38</td>\n      <td>-123499.36</td>\n      <td>124400.00</td>\n      <td>RUB</td>\n      <td>900.64</td>\n    </tr>\n    <tr>\n      <th>59</th>\n      <td>2023-11-09 21:13:00</td>\n      <td>Покупка</td>\n      <td>CatBit</td>\n      <td>0.18</td>\n      <td>56897.58</td>\n      <td>56.90</td>\n      <td>56840.68</td>\n      <td>57000.00</td>\n      <td>RUB</td>\n      <td>-159.32</td>\n    </tr>\n    <tr>\n      <th>60</th>\n      <td>2023-11-09 21:13:00</td>\n      <td>Покупка</td>\n      <td>jitendra</td>\n      <td>0.29</td>\n      <td>32904.58</td>\n      <td>32.90</td>\n      <td>32871.68</td>\n      <td>33000.00</td>\n      <td>RUB</td>\n      <td>-128.32</td>\n    </tr>\n    <tr>\n      <th>61</th>\n      <td>2023-11-09 21:01:00</td>\n      <td>Покупка</td>\n      <td>BanchPikei</td>\n      <td>0.27</td>\n      <td>34905.75</td>\n      <td>34.91</td>\n      <td>34870.84</td>\n      <td>35000.00</td>\n      <td>RUB</td>\n      <td>-129.16</td>\n    </tr>\n    <tr>\n      <th>62</th>\n      <td>2023-11-09 20:47:00</td>\n      <td>Покупка</td>\n      <td>glavmoscow</td>\n      <td>0.31</td>\n      <td>249227.40</td>\n      <td>249.23</td>\n      <td>248978.17</td>\n      <td>250000.00</td>\n      <td>RUB</td>\n      <td>-1021.83</td>\n    </tr>\n    <tr>\n      <th>63</th>\n      <td>2023-11-09 20:47:00</td>\n      <td>Покупка</td>\n      <td>glavmoscow</td>\n      <td>0.25</td>\n      <td>263341.65</td>\n      <td>263.34</td>\n      <td>263078.31</td>\n      <td>264000.00</td>\n      <td>RUB</td>\n      <td>-921.69</td>\n    </tr>\n    <tr>\n      <th>64</th>\n      <td>2023-11-09 19:57:00</td>\n      <td>Покупка</td>\n      <td>SiMaster</td>\n      <td>0.24</td>\n      <td>398044.69</td>\n      <td>398.04</td>\n      <td>397646.65</td>\n      <td>399000.00</td>\n      <td>RUB</td>\n      <td>-1353.35</td>\n    </tr>\n    <tr>\n      <th>65</th>\n      <td>2023-11-09 19:56:00</td>\n      <td>Покупка</td>\n      <td>CashCoin</td>\n      <td>0.24</td>\n      <td>253094.57</td>\n      <td>253.09</td>\n      <td>252841.48</td>\n      <td>253702.00</td>\n      <td>RUB</td>\n      <td>-860.52</td>\n    </tr>\n    <tr>\n      <th>66</th>\n      <td>2023-11-09 19:56:00</td>\n      <td>Покупка</td>\n      <td>alnaz02</td>\n      <td>0.24</td>\n      <td>70430.97</td>\n      <td>70.43</td>\n      <td>70360.54</td>\n      <td>70600.00</td>\n      <td>RUB</td>\n      <td>-239.46</td>\n    </tr>\n    <tr>\n      <th>67</th>\n      <td>2023-11-09 19:54:00</td>\n      <td>Покупка</td>\n      <td>jitendra</td>\n      <td>0.24</td>\n      <td>57462.09</td>\n      <td>57.46</td>\n      <td>57404.63</td>\n      <td>57600.00</td>\n      <td>RUB</td>\n      <td>-195.37</td>\n    </tr>\n    <tr>\n      <th>68</th>\n      <td>2023-11-09 19:53:00</td>\n      <td>Покупка</td>\n      <td>Top_serviceBTC</td>\n      <td>0.24</td>\n      <td>33148.00</td>\n      <td>33.15</td>\n      <td>33114.85</td>\n      <td>33227.56</td>\n      <td>RUB</td>\n      <td>-112.71</td>\n    </tr>\n    <tr>\n      <th>69</th>\n      <td>2023-11-09 19:53:00</td>\n      <td>Покупка</td>\n      <td>BanchPikei</td>\n      <td>0.26</td>\n      <td>99241.97</td>\n      <td>99.24</td>\n      <td>99142.73</td>\n      <td>99500.00</td>\n      <td>RUB</td>\n      <td>-357.27</td>\n    </tr>\n    <tr>\n      <th>70</th>\n      <td>2023-11-09 19:49:00</td>\n      <td>Покупка</td>\n      <td>Daler.777</td>\n      <td>0.22</td>\n      <td>352588.00</td>\n      <td>352.59</td>\n      <td>352235.41</td>\n      <td>353363.69</td>\n      <td>RUB</td>\n      <td>-1128.28</td>\n    </tr>\n  </tbody>\n</table>\n</div>"
     },
     "execution_count": 71,
     "metadata": {},
     "output_type": "execute_result"
    }
   ],
   "source": [
    "filtered_data_gara_history_p2p"
   ],
   "metadata": {
    "collapsed": false,
    "ExecuteTime": {
     "end_time": "2023-09-26T21:03:43.709537300Z",
     "start_time": "2023-09-26T21:03:43.650539900Z"
    }
   },
   "id": "bd8edacadf7214c4"
  },
  {
   "cell_type": "code",
   "execution_count": 72,
   "outputs": [],
   "source": [
    "from openpyxl import load_workbook\n",
    "from openpyxl.styles import Font, Alignment"
   ],
   "metadata": {
    "collapsed": false,
    "ExecuteTime": {
     "end_time": "2023-09-26T21:03:43.709537300Z",
     "start_time": "2023-09-26T21:03:43.681539200Z"
    }
   },
   "id": "330bbe78423d972d"
  },
  {
   "cell_type": "code",
   "execution_count": 73,
   "outputs": [],
   "source": [
    "# Путь к существующему файлу Excel\n",
    "excel_file = '../docs/мой отчет p2p.xlsx'\n",
    "\n",
    "# Загрузка существующего файла Excel\n",
    "book = load_workbook(excel_file)\n",
    "\n",
    "# Выбор листа для записи данных\n",
    "sheet = book['11.09 ночная смена GarantexByBi']\n",
    "\n",
    "# Установка шрифта текста\n",
    "font = Font(name='Arial', size=12, bold=False, italic=False)\n",
    "\n",
    "# Установка выравнивания по центру\n",
    "alignment = Alignment(horizontal='center')\n",
    "\n",
    "# Координаты ячейки для начала записи данных\n",
    "cell_otc_gar = (3, 2)\n",
    "cell_turnover = (3, 1)\n",
    "\n",
    "# Запись данных из DataFrame в Excel\n",
    "for index, (value_res, value_total) in enumerate(zip(filtered_data_gara_history_p2p['Результат'], filtered_data_gara_history_p2p['Итого'])):\n",
    "    cell_res = sheet.cell(row=cell_otc_gar[0]+index, column=cell_otc_gar[1])\n",
    "    cell_res.value = value_res\n",
    "    cell_res.font = font\n",
    "    cell_res.alignment = alignment\n",
    "    \n",
    "    cell_total = sheet.cell(row=cell_turnover[0]+index, column=cell_turnover[1])\n",
    "    cell_total.value = value_total\n",
    "    cell_total.font = font\n",
    "    cell_total.alignment = alignment\n",
    "\n",
    "# Сохранение изменений в файле Excel\n",
    "book.save(excel_file)"
   ],
   "metadata": {
    "collapsed": false,
    "ExecuteTime": {
     "end_time": "2023-09-26T21:03:44.551163700Z",
     "start_time": "2023-09-26T21:03:43.698537400Z"
    }
   },
   "id": "1c726a150888fffb"
  },
  {
   "cell_type": "code",
   "execution_count": 74,
   "outputs": [],
   "source": [
    "# Working with file garantex история обменов"
   ],
   "metadata": {
    "collapsed": false,
    "ExecuteTime": {
     "end_time": "2023-09-26T21:03:44.567164500Z",
     "start_time": "2023-09-26T21:03:44.551163700Z"
    }
   },
   "id": "c4a132ad872e5dbf"
  },
  {
   "cell_type": "code",
   "execution_count": 75,
   "outputs": [],
   "source": [
    "gara_history_swap = pd.read_excel('../docs/garantex/garantex история обменов.xlsx')"
   ],
   "metadata": {
    "collapsed": false,
    "ExecuteTime": {
     "end_time": "2023-09-26T21:03:44.590164900Z",
     "start_time": "2023-09-26T21:03:44.567164500Z"
    }
   },
   "id": "81049ee77fa8060f"
  },
  {
   "cell_type": "code",
   "execution_count": 76,
   "outputs": [],
   "source": [
    "gara_history_swap['Дата и время'] = pd.to_datetime(gara_history_swap['Дата и время'])\n",
    "filtered_data_gara_history_swap = gara_history_swap[(gara_history_swap['Дата и время'] >= '2023-11-09 19:00:00') & (\n",
    "            gara_history_swap['Дата и время'] <= '2023-12-09 07:00:00')]"
   ],
   "metadata": {
    "collapsed": false,
    "ExecuteTime": {
     "end_time": "2023-09-26T21:03:44.603163900Z",
     "start_time": "2023-09-26T21:03:44.583164400Z"
    }
   },
   "id": "8c6471bec9a069a0"
  },
  {
   "cell_type": "code",
   "execution_count": 77,
   "outputs": [
    {
     "data": {
      "text/plain": "          Дата и время      Отдал Валюта  Получил Валюта.1 Цена заявки  \\\n25 2023-11-09 19:57:00  850000.00    RUB  8812.43     USDT   96.31 RUB   \n26 2023-11-09 20:48:00  850000.00    RUB  8832.75     USDT   96.88 RUB   \n27 2023-12-09 02:27:00    6454.64    RUB    67.22     USDT   95.88 RUB   \n28 2023-12-09 02:30:00  843545.36    RUB  8779.38     USDT   95.90 RUB   \n29 2023-12-09 04:03:00    6084.56    RUB    63.45     USDT   95.74 RUB   \n30 2023-12-09 04:05:00   10057.15    RUB   104.85     USDT   95.77 RUB   \n\n    Средняя цена   Исполнен  \n25         96.45  Полностью  \n26         96.23  Полностью  \n27         96.02   Частично  \n28         96.08  Полностью  \n29         95.90   Частично  \n30         95.92   Частично  ",
      "text/html": "<div>\n<style scoped>\n    .dataframe tbody tr th:only-of-type {\n        vertical-align: middle;\n    }\n\n    .dataframe tbody tr th {\n        vertical-align: top;\n    }\n\n    .dataframe thead th {\n        text-align: right;\n    }\n</style>\n<table border=\"1\" class=\"dataframe\">\n  <thead>\n    <tr style=\"text-align: right;\">\n      <th></th>\n      <th>Дата и время</th>\n      <th>Отдал</th>\n      <th>Валюта</th>\n      <th>Получил</th>\n      <th>Валюта.1</th>\n      <th>Цена заявки</th>\n      <th>Средняя цена</th>\n      <th>Исполнен</th>\n    </tr>\n  </thead>\n  <tbody>\n    <tr>\n      <th>25</th>\n      <td>2023-11-09 19:57:00</td>\n      <td>850000.00</td>\n      <td>RUB</td>\n      <td>8812.43</td>\n      <td>USDT</td>\n      <td>96.31 RUB</td>\n      <td>96.45</td>\n      <td>Полностью</td>\n    </tr>\n    <tr>\n      <th>26</th>\n      <td>2023-11-09 20:48:00</td>\n      <td>850000.00</td>\n      <td>RUB</td>\n      <td>8832.75</td>\n      <td>USDT</td>\n      <td>96.88 RUB</td>\n      <td>96.23</td>\n      <td>Полностью</td>\n    </tr>\n    <tr>\n      <th>27</th>\n      <td>2023-12-09 02:27:00</td>\n      <td>6454.64</td>\n      <td>RUB</td>\n      <td>67.22</td>\n      <td>USDT</td>\n      <td>95.88 RUB</td>\n      <td>96.02</td>\n      <td>Частично</td>\n    </tr>\n    <tr>\n      <th>28</th>\n      <td>2023-12-09 02:30:00</td>\n      <td>843545.36</td>\n      <td>RUB</td>\n      <td>8779.38</td>\n      <td>USDT</td>\n      <td>95.90 RUB</td>\n      <td>96.08</td>\n      <td>Полностью</td>\n    </tr>\n    <tr>\n      <th>29</th>\n      <td>2023-12-09 04:03:00</td>\n      <td>6084.56</td>\n      <td>RUB</td>\n      <td>63.45</td>\n      <td>USDT</td>\n      <td>95.74 RUB</td>\n      <td>95.90</td>\n      <td>Частично</td>\n    </tr>\n    <tr>\n      <th>30</th>\n      <td>2023-12-09 04:05:00</td>\n      <td>10057.15</td>\n      <td>RUB</td>\n      <td>104.85</td>\n      <td>USDT</td>\n      <td>95.77 RUB</td>\n      <td>95.92</td>\n      <td>Частично</td>\n    </tr>\n  </tbody>\n</table>\n</div>"
     },
     "execution_count": 77,
     "metadata": {},
     "output_type": "execute_result"
    }
   ],
   "source": [
    "filtered_data_gara_history_swap"
   ],
   "metadata": {
    "collapsed": false,
    "ExecuteTime": {
     "end_time": "2023-09-26T21:03:44.624163900Z",
     "start_time": "2023-09-26T21:03:44.601164400Z"
    }
   },
   "id": "31f5f470799751b9"
  },
  {
   "cell_type": "code",
   "execution_count": 78,
   "outputs": [],
   "source": [
    "# Путь к существующему файлу Excel\n",
    "excel_file = '../docs/мой отчет p2p.xlsx'\n",
    "\n",
    "# Загрузка существующего файла Excel\n",
    "book = load_workbook(excel_file)\n",
    "\n",
    "# Выбор листа для записи данных\n",
    "sheet = book['11.09 ночная смена GarantexByBi']\n",
    "\n",
    "# Установка шрифта текста\n",
    "font = Font(name='Arial', size=12, bold=False, italic=False)\n",
    "\n",
    "# Установка выравнивания по центру\n",
    "alignment = Alignment(horizontal='center')\n",
    "\n",
    "# Координаты ячейки для начала записи данных\n",
    "cell_buy_gar_rub = (3, 5)\n",
    "cell_buy_gar_usdt = (3, 7)\n",
    "cell_buy_gar_course = (3, 6)\n",
    "cell_buy_gar_market = (3, 4)\n",
    "\n",
    "# Запись данных из DataFrame в Excel\n",
    "for index, (value_gave, value_get, value_course) in enumerate(zip(filtered_data_gara_history_swap['Отдал'], \n",
    "                                                                  filtered_data_gara_history_swap['Получил'], \n",
    "                                                                  filtered_data_gara_history_swap['Средняя цена'])):\n",
    "    cell_gave = sheet.cell(row=cell_buy_gar_rub[0]+index, column=cell_buy_gar_rub[1])\n",
    "    cell_gave.value = value_gave\n",
    "    cell_gave.font = font\n",
    "    cell_gave.alignment = alignment\n",
    "    \n",
    "    cell_get = sheet.cell(row=cell_buy_gar_usdt[0]+index, column=cell_buy_gar_usdt[1])\n",
    "    cell_get.value = value_get\n",
    "    cell_get.font = font\n",
    "    cell_get.alignment = alignment\n",
    "    \n",
    "    cell_course = sheet.cell(row=cell_buy_gar_course[0]+index, column=cell_buy_gar_course[1])\n",
    "    cell_course.value = value_course\n",
    "    cell_course.font = font\n",
    "    cell_course.alignment = alignment\n",
    "    \n",
    "    cell_market = sheet.cell(row=cell_buy_gar_market[0]+index, column=cell_buy_gar_market[1])\n",
    "    cell_market.value = 'Garantex'\n",
    "    cell_market.font = font\n",
    "    cell_market.alignment = alignment\n",
    "\n",
    "# Сохранение изменений в файле Excel\n",
    "book.save(excel_file)"
   ],
   "metadata": {
    "collapsed": false,
    "ExecuteTime": {
     "end_time": "2023-09-26T21:03:45.341389600Z",
     "start_time": "2023-09-26T21:03:44.618164200Z"
    }
   },
   "id": "f5909e35365a7d07"
  },
  {
   "cell_type": "code",
   "execution_count": 79,
   "outputs": [],
   "source": [
    "# Working with file garantex история счета"
   ],
   "metadata": {
    "collapsed": false,
    "ExecuteTime": {
     "end_time": "2023-09-26T21:03:45.357389600Z",
     "start_time": "2023-09-26T21:03:45.341389600Z"
    }
   },
   "id": "c2ae814463235fca"
  },
  {
   "cell_type": "code",
   "execution_count": 80,
   "outputs": [],
   "source": [
    "gara_history_account = pd.read_excel('../docs/garantex/garantex история счета.xlsx', sheet_name='Withdraws')"
   ],
   "metadata": {
    "collapsed": false,
    "ExecuteTime": {
     "end_time": "2023-09-26T21:03:45.385389400Z",
     "start_time": "2023-09-26T21:03:45.357389600Z"
    }
   },
   "id": "a08ee310962fef5c"
  },
  {
   "cell_type": "code",
   "execution_count": 81,
   "outputs": [],
   "source": [
    "gara_history_account['Дата и время'] = pd.to_datetime(gara_history_account['Дата и время'])\n",
    "filtered_data_gara_history_account = gara_history_account[(gara_history_account['Дата и время'] >= '2023-11-09 19:00:00') & (\n",
    "            gara_history_account['Дата и время'] <= '2023-12-09 07:00:00')]"
   ],
   "metadata": {
    "collapsed": false,
    "ExecuteTime": {
     "end_time": "2023-09-26T21:03:45.397389300Z",
     "start_time": "2023-09-26T21:03:45.373390200Z"
    }
   },
   "id": "bea334197a678a3d"
  },
  {
   "cell_type": "code",
   "execution_count": 82,
   "outputs": [
    {
     "data": {
      "text/plain": "         Дата и время Направление    Валюта    Сумма  Комиссия  \\\n4 2023-12-09 02:31:00       Вывод  USDT-BSC  8845.60         1   \n5 2023-11-09 20:51:00       Вывод  USDT-BSC  8831.75         1   \n6 2023-11-09 19:59:00       Вывод  USDT-BSC  8811.43         1   \n\n                                                Txid  \\\n4  0xbaf2ba5a16fb871a3dd3c816c955923a98789d828b04...   \n5  0x5fe004e1ea9a6c19e2c0f3320c0473263c2a5a439fbb...   \n6  0xca3f5259f78233f7e03263448c9054d49ac2597fa413...   \n\n                                        Адрес  \n4  0xb39369ee02b0bdf25d4ebf6a0d142e869adce076  \n5  0xb39369ee02b0bdf25d4ebf6a0d142e869adce076  \n6  0xb39369ee02b0bdf25d4ebf6a0d142e869adce076  ",
      "text/html": "<div>\n<style scoped>\n    .dataframe tbody tr th:only-of-type {\n        vertical-align: middle;\n    }\n\n    .dataframe tbody tr th {\n        vertical-align: top;\n    }\n\n    .dataframe thead th {\n        text-align: right;\n    }\n</style>\n<table border=\"1\" class=\"dataframe\">\n  <thead>\n    <tr style=\"text-align: right;\">\n      <th></th>\n      <th>Дата и время</th>\n      <th>Направление</th>\n      <th>Валюта</th>\n      <th>Сумма</th>\n      <th>Комиссия</th>\n      <th>Txid</th>\n      <th>Адрес</th>\n    </tr>\n  </thead>\n  <tbody>\n    <tr>\n      <th>4</th>\n      <td>2023-12-09 02:31:00</td>\n      <td>Вывод</td>\n      <td>USDT-BSC</td>\n      <td>8845.60</td>\n      <td>1</td>\n      <td>0xbaf2ba5a16fb871a3dd3c816c955923a98789d828b04...</td>\n      <td>0xb39369ee02b0bdf25d4ebf6a0d142e869adce076</td>\n    </tr>\n    <tr>\n      <th>5</th>\n      <td>2023-11-09 20:51:00</td>\n      <td>Вывод</td>\n      <td>USDT-BSC</td>\n      <td>8831.75</td>\n      <td>1</td>\n      <td>0x5fe004e1ea9a6c19e2c0f3320c0473263c2a5a439fbb...</td>\n      <td>0xb39369ee02b0bdf25d4ebf6a0d142e869adce076</td>\n    </tr>\n    <tr>\n      <th>6</th>\n      <td>2023-11-09 19:59:00</td>\n      <td>Вывод</td>\n      <td>USDT-BSC</td>\n      <td>8811.43</td>\n      <td>1</td>\n      <td>0xca3f5259f78233f7e03263448c9054d49ac2597fa413...</td>\n      <td>0xb39369ee02b0bdf25d4ebf6a0d142e869adce076</td>\n    </tr>\n  </tbody>\n</table>\n</div>"
     },
     "execution_count": 82,
     "metadata": {},
     "output_type": "execute_result"
    }
   ],
   "source": [
    "filtered_data_gara_history_account"
   ],
   "metadata": {
    "collapsed": false,
    "ExecuteTime": {
     "end_time": "2023-09-26T21:03:45.412389500Z",
     "start_time": "2023-09-26T21:03:45.388390700Z"
    }
   },
   "id": "dfe4f860e88669ea"
  },
  {
   "cell_type": "code",
   "execution_count": 83,
   "outputs": [
    {
     "data": {
      "text/plain": "         Дата и время Направление    Валюта    Сумма  Комиссия  \\\n4 2023-12-09 02:31:00       Вывод  USDT-BSC  8845.60         1   \n5 2023-11-09 20:51:00       Вывод  USDT-BSC  8831.75         1   \n6 2023-11-09 19:59:00       Вывод  USDT-BSC  8811.43         1   \n\n                                                Txid  \\\n4  0xbaf2ba5a16fb871a3dd3c816c955923a98789d828b04...   \n5  0x5fe004e1ea9a6c19e2c0f3320c0473263c2a5a439fbb...   \n6  0xca3f5259f78233f7e03263448c9054d49ac2597fa413...   \n\n                                        Адрес Средняя цена  \n4  0xb39369ee02b0bdf25d4ebf6a0d142e869adce076        96.08  \n5  0xb39369ee02b0bdf25d4ebf6a0d142e869adce076        96.23  \n6  0xb39369ee02b0bdf25d4ebf6a0d142e869adce076        96.45  ",
      "text/html": "<div>\n<style scoped>\n    .dataframe tbody tr th:only-of-type {\n        vertical-align: middle;\n    }\n\n    .dataframe tbody tr th {\n        vertical-align: top;\n    }\n\n    .dataframe thead th {\n        text-align: right;\n    }\n</style>\n<table border=\"1\" class=\"dataframe\">\n  <thead>\n    <tr style=\"text-align: right;\">\n      <th></th>\n      <th>Дата и время</th>\n      <th>Направление</th>\n      <th>Валюта</th>\n      <th>Сумма</th>\n      <th>Комиссия</th>\n      <th>Txid</th>\n      <th>Адрес</th>\n      <th>Средняя цена</th>\n    </tr>\n  </thead>\n  <tbody>\n    <tr>\n      <th>4</th>\n      <td>2023-12-09 02:31:00</td>\n      <td>Вывод</td>\n      <td>USDT-BSC</td>\n      <td>8845.60</td>\n      <td>1</td>\n      <td>0xbaf2ba5a16fb871a3dd3c816c955923a98789d828b04...</td>\n      <td>0xb39369ee02b0bdf25d4ebf6a0d142e869adce076</td>\n      <td>96.08</td>\n    </tr>\n    <tr>\n      <th>5</th>\n      <td>2023-11-09 20:51:00</td>\n      <td>Вывод</td>\n      <td>USDT-BSC</td>\n      <td>8831.75</td>\n      <td>1</td>\n      <td>0x5fe004e1ea9a6c19e2c0f3320c0473263c2a5a439fbb...</td>\n      <td>0xb39369ee02b0bdf25d4ebf6a0d142e869adce076</td>\n      <td>96.23</td>\n    </tr>\n    <tr>\n      <th>6</th>\n      <td>2023-11-09 19:59:00</td>\n      <td>Вывод</td>\n      <td>USDT-BSC</td>\n      <td>8811.43</td>\n      <td>1</td>\n      <td>0xca3f5259f78233f7e03263448c9054d49ac2597fa413...</td>\n      <td>0xb39369ee02b0bdf25d4ebf6a0d142e869adce076</td>\n      <td>96.45</td>\n    </tr>\n  </tbody>\n</table>\n</div>"
     },
     "metadata": {},
     "output_type": "display_data"
    }
   ],
   "source": [
    "# Finding the average price by approximate dates over time \n",
    "tolerance = pd.Timedelta(minutes=5)\n",
    "\n",
    "filtered_data_gara_history_account['Средняя цена'] = None\n",
    "\n",
    "for index, row in filtered_data_gara_history_account.iterrows():\n",
    "    target_time = row['Дата и время']\n",
    "    time_difference = abs(filtered_data_gara_history_swap['Дата и время'] - target_time)\n",
    "    matching_row_index = time_difference.idxmin()\n",
    "    if time_difference[matching_row_index] <= tolerance:\n",
    "        filtered_data_gara_history_account.at[index, 'Средняя цена'] = filtered_data_gara_history_swap.at[matching_row_index, 'Средняя цена']\n",
    "        \n",
    "display(filtered_data_gara_history_account)"
   ],
   "metadata": {
    "collapsed": false,
    "ExecuteTime": {
     "end_time": "2023-09-26T21:03:45.444390500Z",
     "start_time": "2023-09-26T21:03:45.413389300Z"
    }
   },
   "id": "79098245123aa9f6"
  },
  {
   "cell_type": "code",
   "execution_count": 84,
   "outputs": [],
   "source": [
    "# Путь к существующему файлу Excel\n",
    "excel_file = '../docs/мой отчет p2p.xlsx'\n",
    "\n",
    "# Загрузка существующего файла Excel\n",
    "book = load_workbook(excel_file)\n",
    "\n",
    "# Выбор листа для записи данных\n",
    "sheet = book['11.09 ночная смена GarantexByBi']\n",
    "\n",
    "# Установка шрифта текста\n",
    "font = Font(name='Arial', size=12, bold=False, italic=False)\n",
    "\n",
    "# Установка выравнивания по центру\n",
    "alignment = Alignment(horizontal='center')\n",
    "\n",
    "# Координаты ячейки для начала записи данных\n",
    "cell_gar_comm = (195 - filtered_data_gara_history_account.shape[0], 7)\n",
    "cell_gar_mean_price = (195 - filtered_data_gara_history_account.shape[0], 6)\n",
    "cell_gar_multi = (195 - filtered_data_gara_history_account.shape[0], 5)\n",
    "cell_gar_komsa_market = (195 - filtered_data_gara_history_account.shape[0], 4)\n",
    "cell_gar_komsa = (195 - filtered_data_gara_history_account.shape[0], 3)\n",
    "\n",
    "# Запись данных из DataFrame в Excel\n",
    "for index, (value_comm, value_mean_price) in enumerate(zip(filtered_data_gara_history_account['Комиссия'], \n",
    "                                                           filtered_data_gara_history_account['Средняя цена'])):\n",
    "    cell_comm = sheet.cell(row=cell_gar_comm[0]+index, column=cell_gar_comm[1])\n",
    "    cell_comm.value = value_comm * -1\n",
    "    cell_comm.font = font\n",
    "    cell_comm.alignment = alignment\n",
    "    \n",
    "    cell_mean_price = sheet.cell(row=cell_gar_mean_price[0]+index, column=cell_gar_mean_price[1])\n",
    "    cell_mean_price.value = value_mean_price\n",
    "    cell_mean_price.font = font\n",
    "    cell_mean_price.alignment = alignment\n",
    "    \n",
    "    cell_multi = sheet.cell(row=cell_gar_multi[0]+index, column=cell_gar_multi[1])\n",
    "    cell_multi.value = (value_comm * -1) * value_mean_price\n",
    "    cell_multi.font = font\n",
    "    cell_multi.alignment = alignment\n",
    "    \n",
    "    cell_komsa_market = sheet.cell(row=cell_gar_komsa_market[0]+index, column=cell_gar_komsa_market[1])\n",
    "    cell_komsa_market.value = 'Garantex'\n",
    "    cell_komsa_market.font = font\n",
    "    cell_komsa_market.alignment = alignment\n",
    "    \n",
    "    cell_komsa = sheet.cell(row=cell_gar_komsa[0]+index, column=cell_gar_komsa[1])\n",
    "    cell_komsa.value = 'komsa'\n",
    "    cell_komsa.font = font\n",
    "    cell_komsa.alignment = alignment\n",
    "    \n",
    "    \n",
    "\n",
    "# Сохранение изменений в файле Excel\n",
    "book.save(excel_file)"
   ],
   "metadata": {
    "collapsed": false,
    "ExecuteTime": {
     "end_time": "2023-09-26T21:03:46.217097200Z",
     "start_time": "2023-09-26T21:03:45.424390Z"
    }
   },
   "id": "2ec6a1a7b8b06f31"
  }
 ],
 "metadata": {
  "kernelspec": {
   "display_name": "Python 3",
   "language": "python",
   "name": "python3"
  },
  "language_info": {
   "codemirror_mode": {
    "name": "ipython",
    "version": 2
   },
   "file_extension": ".py",
   "mimetype": "text/x-python",
   "name": "python",
   "nbconvert_exporter": "python",
   "pygments_lexer": "ipython2",
   "version": "2.7.6"
  }
 },
 "nbformat": 4,
 "nbformat_minor": 5
}
