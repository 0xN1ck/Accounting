{
 "cells": [
  {
   "cell_type": "code",
   "execution_count": 48,
   "id": "initial_id",
   "metadata": {
    "collapsed": true,
    "ExecuteTime": {
     "end_time": "2023-09-15T23:44:52.864005Z",
     "start_time": "2023-09-15T23:44:52.854002300Z"
    }
   },
   "outputs": [],
   "source": [
    "import pandas as pd\n",
    "from IPython.display import display"
   ]
  },
  {
   "cell_type": "code",
   "execution_count": 49,
   "outputs": [],
   "source": [
    "gara_history_p2p = pd.read_excel('../docs/garantex/garantex история p2p сделок 1109-1309.xlsx')"
   ],
   "metadata": {
    "collapsed": false,
    "ExecuteTime": {
     "end_time": "2023-09-15T23:44:52.896002200Z",
     "start_time": "2023-09-15T23:44:52.863002200Z"
    }
   },
   "id": "a0a29998e53f9eb6"
  },
  {
   "cell_type": "code",
   "execution_count": 50,
   "outputs": [
    {
     "name": "stdout",
     "output_type": "stream",
     "text": [
      "         Дата и время Направление    Контрагент  Цена      Сумма  Комиссия  \\\n",
      "0    13.09.2023 01:56     Покупка  Albion Trade -0.27  373007.12    373.01   \n",
      "1    13.09.2023 01:53     Покупка        ch1000 -0.17  220374.64    220.37   \n",
      "2    13.09.2023 01:51     Покупка   crypto_mate -1.68    5085.44      5.09   \n",
      "3    13.09.2023 01:50     Покупка      CashCoin -0.17  100176.30    100.18   \n",
      "4    13.09.2023 01:49     Покупка      jitendra -0.39   14255.60     14.26   \n",
      "..                ...         ...           ...   ...        ...       ...   \n",
      "104  11.09.2023 11:22     Покупка       alnaz02 -0.07   60040.03     60.04   \n",
      "105  11.09.2023 11:16     Покупка     Daler.777 -0.01  334996.00    335.00   \n",
      "106  11.09.2023 10:22     Покупка  LionThePower -0.68  275000.00    275.00   \n",
      "107  11.09.2023 10:08     Покупка    Roza.obmen -0.11  500550.61    500.55   \n",
      "108  11.09.2023 09:35     Покупка        CatBit -0.12   33990.79     33.99   \n",
      "\n",
      "         Итого      Fiat Валюта  \n",
      "0    372634.11  372000.0    RUB  \n",
      "1    220154.27  220000.0    RUB  \n",
      "2      5080.35    5000.0    RUB  \n",
      "3    100076.12  100006.0    RUB  \n",
      "4     14241.34   14200.0    RUB  \n",
      "..         ...       ...    ...  \n",
      "104   59979.99   59998.0    RUB  \n",
      "105  334661.00  334962.5    RUB  \n",
      "106  274725.00  273130.0    RUB  \n",
      "107  500050.06  500000.0    RUB  \n",
      "108   33956.80   33950.0    RUB  \n",
      "\n",
      "[109 rows x 9 columns]\n"
     ]
    }
   ],
   "source": [
    "print(gara_history_p2p)"
   ],
   "metadata": {
    "collapsed": false,
    "ExecuteTime": {
     "end_time": "2023-09-15T23:44:52.909549100Z",
     "start_time": "2023-09-15T23:44:52.894003Z"
    }
   },
   "id": "a970ea797cac6128"
  },
  {
   "cell_type": "code",
   "execution_count": 51,
   "outputs": [],
   "source": [
    "gara_history_p2p['Дата и время'] = pd.to_datetime(gara_history_p2p['Дата и время'])"
   ],
   "metadata": {
    "collapsed": false,
    "ExecuteTime": {
     "end_time": "2023-09-15T23:44:52.944550400Z",
     "start_time": "2023-09-15T23:44:52.910550200Z"
    }
   },
   "id": "278f72a9148ba46"
  },
  {
   "cell_type": "code",
   "execution_count": 52,
   "outputs": [
    {
     "data": {
      "text/plain": "0     2023-09-13 01:56:00\n1     2023-09-13 01:53:00\n2     2023-09-13 01:51:00\n3     2023-09-13 01:50:00\n4     2023-09-13 01:49:00\n              ...        \n104   2023-11-09 11:22:00\n105   2023-11-09 11:16:00\n106   2023-11-09 10:22:00\n107   2023-11-09 10:08:00\n108   2023-11-09 09:35:00\nName: Дата и время, Length: 109, dtype: datetime64[ns]"
     },
     "execution_count": 52,
     "metadata": {},
     "output_type": "execute_result"
    }
   ],
   "source": [
    "gara_history_p2p['Дата и время']"
   ],
   "metadata": {
    "collapsed": false,
    "ExecuteTime": {
     "end_time": "2023-09-15T23:44:52.951550400Z",
     "start_time": "2023-09-15T23:44:52.926548Z"
    }
   },
   "id": "b0a2bc8562811832"
  },
  {
   "cell_type": "code",
   "execution_count": 53,
   "outputs": [],
   "source": [
    "filtered_data_gara_history_p2p = gara_history_p2p[(gara_history_p2p['Дата и время'] >= '2023-11-09 19:00:00') & (gara_history_p2p['Дата и время'] <= '2023-12-09 07:00:00')]"
   ],
   "metadata": {
    "collapsed": false,
    "ExecuteTime": {
     "end_time": "2023-09-15T23:44:52.957549900Z",
     "start_time": "2023-09-15T23:44:52.941548800Z"
    }
   },
   "id": "190f8c5f00cc8a37"
  },
  {
   "cell_type": "code",
   "execution_count": 54,
   "outputs": [
    {
     "data": {
      "text/plain": "          Дата и время Направление          Контрагент  Цена      Сумма  \\\n70 2023-11-09 19:49:00     Покупка           Daler.777  0.22  352588.00   \n69 2023-11-09 19:53:00     Покупка          BanchPikei  0.26   99241.97   \n68 2023-11-09 19:53:00     Покупка      Top_serviceBTC  0.24   33148.00   \n67 2023-11-09 19:54:00     Покупка            jitendra  0.24   57462.09   \n66 2023-11-09 19:56:00     Покупка             alnaz02  0.24   70430.97   \n65 2023-11-09 19:56:00     Покупка            CashCoin  0.24  253094.57   \n64 2023-11-09 19:57:00     Покупка            SiMaster  0.24  398044.69   \n63 2023-11-09 20:47:00     Покупка          glavmoscow  0.25  263341.65   \n62 2023-11-09 20:47:00     Покупка          glavmoscow  0.31  249227.40   \n61 2023-11-09 21:01:00     Покупка          BanchPikei  0.27   34905.75   \n59 2023-11-09 21:13:00     Покупка              CatBit  0.18   56897.58   \n60 2023-11-09 21:13:00     Покупка            jitendra  0.29   32904.58   \n58 2023-11-09 21:28:00     Продажа  mdk _production2.0  0.83  123375.98   \n57 2023-11-09 21:55:00     Покупка         crypto_mate  0.40   37848.61   \n56 2023-11-09 22:01:00     Покупка            CashCoin  0.40   94708.17   \n55 2023-11-09 22:05:00     Покупка          BanchPikei  0.36   49723.00   \n54 2023-11-09 22:20:00     Продажа         crypto_mate  1.39   88766.15   \n53 2023-11-09 22:46:00     Продажа            CashCoin  1.29  506367.85   \n52 2023-11-09 22:53:00     Покупка          BanchPikei  0.41   41828.50   \n51 2023-11-09 23:02:00     Покупка              CatBit  0.41   59755.00   \n50 2023-11-09 23:10:00     Покупка         gerasimmumu  0.41  185838.06   \n49 2023-11-09 23:20:00     Продажа            CashCoin  1.10  108803.17   \n48 2023-11-09 23:23:00     Продажа           XXL-Obmen  1.10   98615.23   \n47 2023-11-09 23:24:00     Продажа           XXL-Obmen  1.10   98615.23   \n46 2023-11-09 23:24:00     Продажа           XXL-Obmen  1.10   98615.23   \n45 2023-11-09 23:45:00     Покупка            CashCoin  0.37   51352.00   \n44 2023-11-09 23:58:00     Покупка             alnaz02  0.29   69797.59   \n43 2023-12-09 00:36:00     Покупка            CashCoin  0.11   40043.95   \n42 2023-12-09 01:16:00     Покупка          PrygDm1992 -1.65  431113.37   \n41 2023-12-09 01:22:00     Покупка         crypto_mate  0.32  269138.76   \n40 2023-12-09 01:25:00     Покупка         crypto_mate  0.32   99681.02   \n39 2023-12-09 01:27:00     Покупка         crypto_mate  0.32   84544.46   \n38 2023-12-09 01:30:00     Продажа           crpt.boss  0.89   59470.71   \n37 2023-12-09 02:23:00     Покупка         CryptoUnion  0.18  179676.58   \n36 2023-12-09 02:24:00     Покупка         ooooooooooo  0.18  100000.00   \n35 2023-12-09 02:25:00     Покупка            jitendra  0.18   65881.41   \n34 2023-12-09 03:25:00     Покупка           QtradeBit -0.29   88095.48   \n33 2023-12-09 03:55:00     Покупка         ChebObmen21 -0.05  959000.00   \n32 2023-12-09 03:58:00     Покупка         Grandm4ster -0.05  170085.04   \n\n    Комиссия      Итого       Fiat Валюта  \n70    352.59  352235.41  353363.69    RUB  \n69     99.24   99142.73   99500.00    RUB  \n68     33.15   33114.85   33227.56    RUB  \n67     57.46   57404.63   57600.00    RUB  \n66     70.43   70360.54   70600.00    RUB  \n65    253.09  252841.48  253702.00    RUB  \n64    398.04  397646.65  399000.00    RUB  \n63    263.34  263078.31  264000.00    RUB  \n62    249.23  248978.17  250000.00    RUB  \n61     34.91   34870.84   35000.00    RUB  \n59     56.90   56840.68   57000.00    RUB  \n60     32.90   32871.68   33000.00    RUB  \n58    123.38 -123499.36  124400.00    RUB  \n57     37.85   37810.76   38000.00    RUB  \n56     94.71   94613.46   95087.00    RUB  \n55     49.72   49673.28   49902.00    RUB  \n54     88.77  -88854.92   90000.00    RUB  \n53    506.37 -506874.22  512900.00    RUB  \n52     41.83   41786.67   42000.00    RUB  \n51     59.76   59695.24   60000.00    RUB  \n50    185.84  185652.22  186600.00    RUB  \n49    108.80 -108911.97  110000.00    RUB  \n48     98.62  -98713.85   99700.00    RUB  \n47     98.62  -98713.85   99700.00    RUB  \n46     98.62  -98713.85   99700.00    RUB  \n45     51.35   51300.65   51542.00    RUB  \n44     69.80   69727.79   70000.00    RUB  \n43     40.04   40003.91   40088.00    RUB  \n42    431.11  430682.26  424000.00    RUB  \n41    269.14  268869.62  270000.00    RUB  \n40     99.68   99581.34  100000.00    RUB  \n39     84.54   84459.92   84815.00    RUB  \n38     59.47  -59530.18   60000.00    RUB  \n37    179.68  179496.90  180000.00    RUB  \n36    100.00   99900.00  100180.00    RUB  \n35     65.88   65815.53   66000.00    RUB  \n34     88.10   88007.38   87840.00    RUB  \n33    959.00  958041.00  958520.50    RUB  \n32    170.09  169914.95  170000.00    RUB  ",
      "text/html": "<div>\n<style scoped>\n    .dataframe tbody tr th:only-of-type {\n        vertical-align: middle;\n    }\n\n    .dataframe tbody tr th {\n        vertical-align: top;\n    }\n\n    .dataframe thead th {\n        text-align: right;\n    }\n</style>\n<table border=\"1\" class=\"dataframe\">\n  <thead>\n    <tr style=\"text-align: right;\">\n      <th></th>\n      <th>Дата и время</th>\n      <th>Направление</th>\n      <th>Контрагент</th>\n      <th>Цена</th>\n      <th>Сумма</th>\n      <th>Комиссия</th>\n      <th>Итого</th>\n      <th>Fiat</th>\n      <th>Валюта</th>\n    </tr>\n  </thead>\n  <tbody>\n    <tr>\n      <th>70</th>\n      <td>2023-11-09 19:49:00</td>\n      <td>Покупка</td>\n      <td>Daler.777</td>\n      <td>0.22</td>\n      <td>352588.00</td>\n      <td>352.59</td>\n      <td>352235.41</td>\n      <td>353363.69</td>\n      <td>RUB</td>\n    </tr>\n    <tr>\n      <th>69</th>\n      <td>2023-11-09 19:53:00</td>\n      <td>Покупка</td>\n      <td>BanchPikei</td>\n      <td>0.26</td>\n      <td>99241.97</td>\n      <td>99.24</td>\n      <td>99142.73</td>\n      <td>99500.00</td>\n      <td>RUB</td>\n    </tr>\n    <tr>\n      <th>68</th>\n      <td>2023-11-09 19:53:00</td>\n      <td>Покупка</td>\n      <td>Top_serviceBTC</td>\n      <td>0.24</td>\n      <td>33148.00</td>\n      <td>33.15</td>\n      <td>33114.85</td>\n      <td>33227.56</td>\n      <td>RUB</td>\n    </tr>\n    <tr>\n      <th>67</th>\n      <td>2023-11-09 19:54:00</td>\n      <td>Покупка</td>\n      <td>jitendra</td>\n      <td>0.24</td>\n      <td>57462.09</td>\n      <td>57.46</td>\n      <td>57404.63</td>\n      <td>57600.00</td>\n      <td>RUB</td>\n    </tr>\n    <tr>\n      <th>66</th>\n      <td>2023-11-09 19:56:00</td>\n      <td>Покупка</td>\n      <td>alnaz02</td>\n      <td>0.24</td>\n      <td>70430.97</td>\n      <td>70.43</td>\n      <td>70360.54</td>\n      <td>70600.00</td>\n      <td>RUB</td>\n    </tr>\n    <tr>\n      <th>65</th>\n      <td>2023-11-09 19:56:00</td>\n      <td>Покупка</td>\n      <td>CashCoin</td>\n      <td>0.24</td>\n      <td>253094.57</td>\n      <td>253.09</td>\n      <td>252841.48</td>\n      <td>253702.00</td>\n      <td>RUB</td>\n    </tr>\n    <tr>\n      <th>64</th>\n      <td>2023-11-09 19:57:00</td>\n      <td>Покупка</td>\n      <td>SiMaster</td>\n      <td>0.24</td>\n      <td>398044.69</td>\n      <td>398.04</td>\n      <td>397646.65</td>\n      <td>399000.00</td>\n      <td>RUB</td>\n    </tr>\n    <tr>\n      <th>63</th>\n      <td>2023-11-09 20:47:00</td>\n      <td>Покупка</td>\n      <td>glavmoscow</td>\n      <td>0.25</td>\n      <td>263341.65</td>\n      <td>263.34</td>\n      <td>263078.31</td>\n      <td>264000.00</td>\n      <td>RUB</td>\n    </tr>\n    <tr>\n      <th>62</th>\n      <td>2023-11-09 20:47:00</td>\n      <td>Покупка</td>\n      <td>glavmoscow</td>\n      <td>0.31</td>\n      <td>249227.40</td>\n      <td>249.23</td>\n      <td>248978.17</td>\n      <td>250000.00</td>\n      <td>RUB</td>\n    </tr>\n    <tr>\n      <th>61</th>\n      <td>2023-11-09 21:01:00</td>\n      <td>Покупка</td>\n      <td>BanchPikei</td>\n      <td>0.27</td>\n      <td>34905.75</td>\n      <td>34.91</td>\n      <td>34870.84</td>\n      <td>35000.00</td>\n      <td>RUB</td>\n    </tr>\n    <tr>\n      <th>59</th>\n      <td>2023-11-09 21:13:00</td>\n      <td>Покупка</td>\n      <td>CatBit</td>\n      <td>0.18</td>\n      <td>56897.58</td>\n      <td>56.90</td>\n      <td>56840.68</td>\n      <td>57000.00</td>\n      <td>RUB</td>\n    </tr>\n    <tr>\n      <th>60</th>\n      <td>2023-11-09 21:13:00</td>\n      <td>Покупка</td>\n      <td>jitendra</td>\n      <td>0.29</td>\n      <td>32904.58</td>\n      <td>32.90</td>\n      <td>32871.68</td>\n      <td>33000.00</td>\n      <td>RUB</td>\n    </tr>\n    <tr>\n      <th>58</th>\n      <td>2023-11-09 21:28:00</td>\n      <td>Продажа</td>\n      <td>mdk _production2.0</td>\n      <td>0.83</td>\n      <td>123375.98</td>\n      <td>123.38</td>\n      <td>-123499.36</td>\n      <td>124400.00</td>\n      <td>RUB</td>\n    </tr>\n    <tr>\n      <th>57</th>\n      <td>2023-11-09 21:55:00</td>\n      <td>Покупка</td>\n      <td>crypto_mate</td>\n      <td>0.40</td>\n      <td>37848.61</td>\n      <td>37.85</td>\n      <td>37810.76</td>\n      <td>38000.00</td>\n      <td>RUB</td>\n    </tr>\n    <tr>\n      <th>56</th>\n      <td>2023-11-09 22:01:00</td>\n      <td>Покупка</td>\n      <td>CashCoin</td>\n      <td>0.40</td>\n      <td>94708.17</td>\n      <td>94.71</td>\n      <td>94613.46</td>\n      <td>95087.00</td>\n      <td>RUB</td>\n    </tr>\n    <tr>\n      <th>55</th>\n      <td>2023-11-09 22:05:00</td>\n      <td>Покупка</td>\n      <td>BanchPikei</td>\n      <td>0.36</td>\n      <td>49723.00</td>\n      <td>49.72</td>\n      <td>49673.28</td>\n      <td>49902.00</td>\n      <td>RUB</td>\n    </tr>\n    <tr>\n      <th>54</th>\n      <td>2023-11-09 22:20:00</td>\n      <td>Продажа</td>\n      <td>crypto_mate</td>\n      <td>1.39</td>\n      <td>88766.15</td>\n      <td>88.77</td>\n      <td>-88854.92</td>\n      <td>90000.00</td>\n      <td>RUB</td>\n    </tr>\n    <tr>\n      <th>53</th>\n      <td>2023-11-09 22:46:00</td>\n      <td>Продажа</td>\n      <td>CashCoin</td>\n      <td>1.29</td>\n      <td>506367.85</td>\n      <td>506.37</td>\n      <td>-506874.22</td>\n      <td>512900.00</td>\n      <td>RUB</td>\n    </tr>\n    <tr>\n      <th>52</th>\n      <td>2023-11-09 22:53:00</td>\n      <td>Покупка</td>\n      <td>BanchPikei</td>\n      <td>0.41</td>\n      <td>41828.50</td>\n      <td>41.83</td>\n      <td>41786.67</td>\n      <td>42000.00</td>\n      <td>RUB</td>\n    </tr>\n    <tr>\n      <th>51</th>\n      <td>2023-11-09 23:02:00</td>\n      <td>Покупка</td>\n      <td>CatBit</td>\n      <td>0.41</td>\n      <td>59755.00</td>\n      <td>59.76</td>\n      <td>59695.24</td>\n      <td>60000.00</td>\n      <td>RUB</td>\n    </tr>\n    <tr>\n      <th>50</th>\n      <td>2023-11-09 23:10:00</td>\n      <td>Покупка</td>\n      <td>gerasimmumu</td>\n      <td>0.41</td>\n      <td>185838.06</td>\n      <td>185.84</td>\n      <td>185652.22</td>\n      <td>186600.00</td>\n      <td>RUB</td>\n    </tr>\n    <tr>\n      <th>49</th>\n      <td>2023-11-09 23:20:00</td>\n      <td>Продажа</td>\n      <td>CashCoin</td>\n      <td>1.10</td>\n      <td>108803.17</td>\n      <td>108.80</td>\n      <td>-108911.97</td>\n      <td>110000.00</td>\n      <td>RUB</td>\n    </tr>\n    <tr>\n      <th>48</th>\n      <td>2023-11-09 23:23:00</td>\n      <td>Продажа</td>\n      <td>XXL-Obmen</td>\n      <td>1.10</td>\n      <td>98615.23</td>\n      <td>98.62</td>\n      <td>-98713.85</td>\n      <td>99700.00</td>\n      <td>RUB</td>\n    </tr>\n    <tr>\n      <th>47</th>\n      <td>2023-11-09 23:24:00</td>\n      <td>Продажа</td>\n      <td>XXL-Obmen</td>\n      <td>1.10</td>\n      <td>98615.23</td>\n      <td>98.62</td>\n      <td>-98713.85</td>\n      <td>99700.00</td>\n      <td>RUB</td>\n    </tr>\n    <tr>\n      <th>46</th>\n      <td>2023-11-09 23:24:00</td>\n      <td>Продажа</td>\n      <td>XXL-Obmen</td>\n      <td>1.10</td>\n      <td>98615.23</td>\n      <td>98.62</td>\n      <td>-98713.85</td>\n      <td>99700.00</td>\n      <td>RUB</td>\n    </tr>\n    <tr>\n      <th>45</th>\n      <td>2023-11-09 23:45:00</td>\n      <td>Покупка</td>\n      <td>CashCoin</td>\n      <td>0.37</td>\n      <td>51352.00</td>\n      <td>51.35</td>\n      <td>51300.65</td>\n      <td>51542.00</td>\n      <td>RUB</td>\n    </tr>\n    <tr>\n      <th>44</th>\n      <td>2023-11-09 23:58:00</td>\n      <td>Покупка</td>\n      <td>alnaz02</td>\n      <td>0.29</td>\n      <td>69797.59</td>\n      <td>69.80</td>\n      <td>69727.79</td>\n      <td>70000.00</td>\n      <td>RUB</td>\n    </tr>\n    <tr>\n      <th>43</th>\n      <td>2023-12-09 00:36:00</td>\n      <td>Покупка</td>\n      <td>CashCoin</td>\n      <td>0.11</td>\n      <td>40043.95</td>\n      <td>40.04</td>\n      <td>40003.91</td>\n      <td>40088.00</td>\n      <td>RUB</td>\n    </tr>\n    <tr>\n      <th>42</th>\n      <td>2023-12-09 01:16:00</td>\n      <td>Покупка</td>\n      <td>PrygDm1992</td>\n      <td>-1.65</td>\n      <td>431113.37</td>\n      <td>431.11</td>\n      <td>430682.26</td>\n      <td>424000.00</td>\n      <td>RUB</td>\n    </tr>\n    <tr>\n      <th>41</th>\n      <td>2023-12-09 01:22:00</td>\n      <td>Покупка</td>\n      <td>crypto_mate</td>\n      <td>0.32</td>\n      <td>269138.76</td>\n      <td>269.14</td>\n      <td>268869.62</td>\n      <td>270000.00</td>\n      <td>RUB</td>\n    </tr>\n    <tr>\n      <th>40</th>\n      <td>2023-12-09 01:25:00</td>\n      <td>Покупка</td>\n      <td>crypto_mate</td>\n      <td>0.32</td>\n      <td>99681.02</td>\n      <td>99.68</td>\n      <td>99581.34</td>\n      <td>100000.00</td>\n      <td>RUB</td>\n    </tr>\n    <tr>\n      <th>39</th>\n      <td>2023-12-09 01:27:00</td>\n      <td>Покупка</td>\n      <td>crypto_mate</td>\n      <td>0.32</td>\n      <td>84544.46</td>\n      <td>84.54</td>\n      <td>84459.92</td>\n      <td>84815.00</td>\n      <td>RUB</td>\n    </tr>\n    <tr>\n      <th>38</th>\n      <td>2023-12-09 01:30:00</td>\n      <td>Продажа</td>\n      <td>crpt.boss</td>\n      <td>0.89</td>\n      <td>59470.71</td>\n      <td>59.47</td>\n      <td>-59530.18</td>\n      <td>60000.00</td>\n      <td>RUB</td>\n    </tr>\n    <tr>\n      <th>37</th>\n      <td>2023-12-09 02:23:00</td>\n      <td>Покупка</td>\n      <td>CryptoUnion</td>\n      <td>0.18</td>\n      <td>179676.58</td>\n      <td>179.68</td>\n      <td>179496.90</td>\n      <td>180000.00</td>\n      <td>RUB</td>\n    </tr>\n    <tr>\n      <th>36</th>\n      <td>2023-12-09 02:24:00</td>\n      <td>Покупка</td>\n      <td>ooooooooooo</td>\n      <td>0.18</td>\n      <td>100000.00</td>\n      <td>100.00</td>\n      <td>99900.00</td>\n      <td>100180.00</td>\n      <td>RUB</td>\n    </tr>\n    <tr>\n      <th>35</th>\n      <td>2023-12-09 02:25:00</td>\n      <td>Покупка</td>\n      <td>jitendra</td>\n      <td>0.18</td>\n      <td>65881.41</td>\n      <td>65.88</td>\n      <td>65815.53</td>\n      <td>66000.00</td>\n      <td>RUB</td>\n    </tr>\n    <tr>\n      <th>34</th>\n      <td>2023-12-09 03:25:00</td>\n      <td>Покупка</td>\n      <td>QtradeBit</td>\n      <td>-0.29</td>\n      <td>88095.48</td>\n      <td>88.10</td>\n      <td>88007.38</td>\n      <td>87840.00</td>\n      <td>RUB</td>\n    </tr>\n    <tr>\n      <th>33</th>\n      <td>2023-12-09 03:55:00</td>\n      <td>Покупка</td>\n      <td>ChebObmen21</td>\n      <td>-0.05</td>\n      <td>959000.00</td>\n      <td>959.00</td>\n      <td>958041.00</td>\n      <td>958520.50</td>\n      <td>RUB</td>\n    </tr>\n    <tr>\n      <th>32</th>\n      <td>2023-12-09 03:58:00</td>\n      <td>Покупка</td>\n      <td>Grandm4ster</td>\n      <td>-0.05</td>\n      <td>170085.04</td>\n      <td>170.09</td>\n      <td>169914.95</td>\n      <td>170000.00</td>\n      <td>RUB</td>\n    </tr>\n  </tbody>\n</table>\n</div>"
     },
     "metadata": {},
     "output_type": "display_data"
    }
   ],
   "source": [
    "display(filtered_data_gara_history_p2p.sort_values('Дата и время'))"
   ],
   "metadata": {
    "collapsed": false,
    "ExecuteTime": {
     "end_time": "2023-09-15T23:44:52.981551800Z",
     "start_time": "2023-09-15T23:44:52.958550500Z"
    }
   },
   "id": "6f440fe9c92cae6d"
  },
  {
   "cell_type": "code",
   "execution_count": 55,
   "outputs": [
    {
     "name": "stdout",
     "output_type": "stream",
     "text": [
      "          Дата и время Направление          Контрагент  Цена      Сумма  \\\n",
      "32 2023-12-09 03:58:00     Покупка         Grandm4ster -0.05  170085.04   \n",
      "33 2023-12-09 03:55:00     Покупка         ChebObmen21 -0.05  959000.00   \n",
      "34 2023-12-09 03:25:00     Покупка           QtradeBit -0.29   88095.48   \n",
      "35 2023-12-09 02:25:00     Покупка            jitendra  0.18   65881.41   \n",
      "36 2023-12-09 02:24:00     Покупка         ooooooooooo  0.18  100000.00   \n",
      "37 2023-12-09 02:23:00     Покупка         CryptoUnion  0.18  179676.58   \n",
      "38 2023-12-09 01:30:00     Продажа           crpt.boss  0.89   59470.71   \n",
      "39 2023-12-09 01:27:00     Покупка         crypto_mate  0.32   84544.46   \n",
      "40 2023-12-09 01:25:00     Покупка         crypto_mate  0.32   99681.02   \n",
      "41 2023-12-09 01:22:00     Покупка         crypto_mate  0.32  269138.76   \n",
      "42 2023-12-09 01:16:00     Покупка          PrygDm1992 -1.65  431113.37   \n",
      "43 2023-12-09 00:36:00     Покупка            CashCoin  0.11   40043.95   \n",
      "44 2023-11-09 23:58:00     Покупка             alnaz02  0.29   69797.59   \n",
      "45 2023-11-09 23:45:00     Покупка            CashCoin  0.37   51352.00   \n",
      "46 2023-11-09 23:24:00     Продажа           XXL-Obmen  1.10   98615.23   \n",
      "47 2023-11-09 23:24:00     Продажа           XXL-Obmen  1.10   98615.23   \n",
      "48 2023-11-09 23:23:00     Продажа           XXL-Obmen  1.10   98615.23   \n",
      "49 2023-11-09 23:20:00     Продажа            CashCoin  1.10  108803.17   \n",
      "50 2023-11-09 23:10:00     Покупка         gerasimmumu  0.41  185838.06   \n",
      "51 2023-11-09 23:02:00     Покупка              CatBit  0.41   59755.00   \n",
      "52 2023-11-09 22:53:00     Покупка          BanchPikei  0.41   41828.50   \n",
      "53 2023-11-09 22:46:00     Продажа            CashCoin  1.29  506367.85   \n",
      "54 2023-11-09 22:20:00     Продажа         crypto_mate  1.39   88766.15   \n",
      "55 2023-11-09 22:05:00     Покупка          BanchPikei  0.36   49723.00   \n",
      "56 2023-11-09 22:01:00     Покупка            CashCoin  0.40   94708.17   \n",
      "57 2023-11-09 21:55:00     Покупка         crypto_mate  0.40   37848.61   \n",
      "58 2023-11-09 21:28:00     Продажа  mdk _production2.0  0.83  123375.98   \n",
      "59 2023-11-09 21:13:00     Покупка              CatBit  0.18   56897.58   \n",
      "60 2023-11-09 21:13:00     Покупка            jitendra  0.29   32904.58   \n",
      "61 2023-11-09 21:01:00     Покупка          BanchPikei  0.27   34905.75   \n",
      "62 2023-11-09 20:47:00     Покупка          glavmoscow  0.31  249227.40   \n",
      "63 2023-11-09 20:47:00     Покупка          glavmoscow  0.25  263341.65   \n",
      "64 2023-11-09 19:57:00     Покупка            SiMaster  0.24  398044.69   \n",
      "65 2023-11-09 19:56:00     Покупка            CashCoin  0.24  253094.57   \n",
      "66 2023-11-09 19:56:00     Покупка             alnaz02  0.24   70430.97   \n",
      "67 2023-11-09 19:54:00     Покупка            jitendra  0.24   57462.09   \n",
      "68 2023-11-09 19:53:00     Покупка      Top_serviceBTC  0.24   33148.00   \n",
      "69 2023-11-09 19:53:00     Покупка          BanchPikei  0.26   99241.97   \n",
      "70 2023-11-09 19:49:00     Покупка           Daler.777  0.22  352588.00   \n",
      "\n",
      "    Комиссия      Итого       Fiat Валюта  Результат  \n",
      "32    170.09  169914.95  170000.00    RUB     -85.05  \n",
      "33    959.00  958041.00  958520.50    RUB    -479.50  \n",
      "34     88.10   88007.38   87840.00    RUB     167.38  \n",
      "35     65.88   65815.53   66000.00    RUB    -184.47  \n",
      "36    100.00   99900.00  100180.00    RUB    -280.00  \n",
      "37    179.68  179496.90  180000.00    RUB    -503.10  \n",
      "38     59.47  -59530.18   60000.00    RUB     469.82  \n",
      "39     84.54   84459.92   84815.00    RUB    -355.08  \n",
      "40     99.68   99581.34  100000.00    RUB    -418.66  \n",
      "41    269.14  268869.62  270000.00    RUB   -1130.38  \n",
      "42    431.11  430682.26  424000.00    RUB    6682.26  \n",
      "43     40.04   40003.91   40088.00    RUB     -84.09  \n",
      "44     69.80   69727.79   70000.00    RUB    -272.21  \n",
      "45     51.35   51300.65   51542.00    RUB    -241.35  \n",
      "46     98.62  -98713.85   99700.00    RUB     986.15  \n",
      "47     98.62  -98713.85   99700.00    RUB     986.15  \n",
      "48     98.62  -98713.85   99700.00    RUB     986.15  \n",
      "49    108.80 -108911.97  110000.00    RUB    1088.03  \n",
      "50    185.84  185652.22  186600.00    RUB    -947.78  \n",
      "51     59.76   59695.24   60000.00    RUB    -304.76  \n",
      "52     41.83   41786.67   42000.00    RUB    -213.33  \n",
      "53    506.37 -506874.22  512900.00    RUB    6025.78  \n",
      "54     88.77  -88854.92   90000.00    RUB    1145.08  \n",
      "55     49.72   49673.28   49902.00    RUB    -228.72  \n",
      "56     94.71   94613.46   95087.00    RUB    -473.54  \n",
      "57     37.85   37810.76   38000.00    RUB    -189.24  \n",
      "58    123.38 -123499.36  124400.00    RUB     900.64  \n",
      "59     56.90   56840.68   57000.00    RUB    -159.32  \n",
      "60     32.90   32871.68   33000.00    RUB    -128.32  \n",
      "61     34.91   34870.84   35000.00    RUB    -129.16  \n",
      "62    249.23  248978.17  250000.00    RUB   -1021.83  \n",
      "63    263.34  263078.31  264000.00    RUB    -921.69  \n",
      "64    398.04  397646.65  399000.00    RUB   -1353.35  \n",
      "65    253.09  252841.48  253702.00    RUB    -860.52  \n",
      "66     70.43   70360.54   70600.00    RUB    -239.46  \n",
      "67     57.46   57404.63   57600.00    RUB    -195.37  \n",
      "68     33.15   33114.85   33227.56    RUB    -112.71  \n",
      "69     99.24   99142.73   99500.00    RUB    -357.27  \n",
      "70    352.59  352235.41  353363.69    RUB   -1128.28  \n"
     ]
    },
    {
     "name": "stderr",
     "output_type": "stream",
     "text": [
      "C:\\Users\\alex9\\AppData\\Local\\Temp\\ipykernel_16856\\3178458447.py:1: SettingWithCopyWarning: \n",
      "A value is trying to be set on a copy of a slice from a DataFrame.\n",
      "Try using .loc[row_indexer,col_indexer] = value instead\n",
      "\n",
      "See the caveats in the documentation: https://pandas.pydata.org/pandas-docs/stable/user_guide/indexing.html#returning-a-view-versus-a-copy\n",
      "  filtered_data_gara_history_p2p.loc[filtered_data_gara_history_p2p['Направление'] == 'Покупка', 'Результат'] = filtered_data_gara_history_p2p['Итого'] - filtered_data_gara_history_p2p['Fiat']\n"
     ]
    }
   ],
   "source": [
    "filtered_data_gara_history_p2p.loc[filtered_data_gara_history_p2p['Направление'] == 'Покупка', 'Результат'] = filtered_data_gara_history_p2p['Итого'] - filtered_data_gara_history_p2p['Fiat']\n",
    "filtered_data_gara_history_p2p.loc[filtered_data_gara_history_p2p['Направление'] == 'Продажа', 'Результат'] = filtered_data_gara_history_p2p['Итого'] + filtered_data_gara_history_p2p['Fiat']\n",
    "print(filtered_data_gara_history_p2p)"
   ],
   "metadata": {
    "collapsed": false,
    "ExecuteTime": {
     "end_time": "2023-09-15T23:44:53.040548200Z",
     "start_time": "2023-09-15T23:44:52.974549400Z"
    }
   },
   "id": "171da9eb4f1ef38d"
  },
  {
   "cell_type": "code",
   "execution_count": 66,
   "outputs": [],
   "source": [
    "from openpyxl import load_workbook\n",
    "from openpyxl.styles import Font, Alignment"
   ],
   "metadata": {
    "collapsed": false,
    "ExecuteTime": {
     "end_time": "2023-09-15T23:56:04.397633300Z",
     "start_time": "2023-09-15T23:56:04.382634600Z"
    }
   },
   "id": "330bbe78423d972d"
  },
  {
   "cell_type": "code",
   "execution_count": 67,
   "outputs": [],
   "source": [
    "# Путь к существующему файлу Excel\n",
    "excel_file = '../docs/мой отчет p2p.xlsx'\n",
    "\n",
    "# Загрузка существующего файла Excel\n",
    "book = load_workbook(excel_file)\n",
    "\n",
    "# Выбор листа для записи данных\n",
    "sheet = book['11.09 ночная смена GarantexByBi']\n",
    "\n",
    "# Установка шрифта текста\n",
    "font = Font(name='Arial', size=12, bold=False, italic=False)\n",
    "\n",
    "# Установка выравнивания по центру\n",
    "alignment = Alignment(horizontal='center')\n",
    "\n",
    "# Координаты ячейки для начала записи данных\n",
    "start_row = 3\n",
    "start_col = 2\n",
    "\n",
    "# Запись данных из DataFrame в Excel\n",
    "for index, value in enumerate(filtered_data_gara_history_p2p['Результат']):\n",
    "    cell = sheet.cell(row=start_row+index, column=start_col)\n",
    "    cell.value = value\n",
    "    cell.font = font\n",
    "    cell.alignment = alignment\n",
    "\n",
    "# Сохранение изменений в файле Excel\n",
    "book.save(excel_file)"
   ],
   "metadata": {
    "collapsed": false,
    "ExecuteTime": {
     "end_time": "2023-09-15T23:56:07.219226400Z",
     "start_time": "2023-09-15T23:56:06.782985700Z"
    }
   },
   "id": "1c726a150888fffb"
  }
 ],
 "metadata": {
  "kernelspec": {
   "display_name": "Python 3",
   "language": "python",
   "name": "python3"
  },
  "language_info": {
   "codemirror_mode": {
    "name": "ipython",
    "version": 2
   },
   "file_extension": ".py",
   "mimetype": "text/x-python",
   "name": "python",
   "nbconvert_exporter": "python",
   "pygments_lexer": "ipython2",
   "version": "2.7.6"
  }
 },
 "nbformat": 4,
 "nbformat_minor": 5
}
