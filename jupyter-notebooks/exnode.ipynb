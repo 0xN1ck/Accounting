{
 "cells": [
  {
   "cell_type": "code",
   "execution_count": 1,
   "id": "initial_id",
   "metadata": {
    "collapsed": true,
    "ExecuteTime": {
     "end_time": "2023-09-18T22:22:36.371742900Z",
     "start_time": "2023-09-18T22:22:36.075230200Z"
    }
   },
   "outputs": [],
   "source": [
    "import pandas as pd\n",
    "from IPython.display import display"
   ]
  },
  {
   "cell_type": "code",
   "execution_count": 2,
   "outputs": [],
   "source": [
    "# Working with file exnode история"
   ],
   "metadata": {
    "collapsed": false,
    "ExecuteTime": {
     "end_time": "2023-09-18T22:22:36.387744Z",
     "start_time": "2023-09-18T22:22:36.371742900Z"
    }
   },
   "id": "8dfd77d2922cfead"
  },
  {
   "cell_type": "code",
   "execution_count": 3,
   "outputs": [],
   "source": [
    "exnode_history = pd.read_excel('../docs/exnode/exnode история.xlsx')"
   ],
   "metadata": {
    "collapsed": false,
    "ExecuteTime": {
     "end_time": "2023-09-18T22:22:36.640306200Z",
     "start_time": "2023-09-18T22:22:36.387744Z"
    }
   },
   "id": "1138ed3f8639b358"
  },
  {
   "cell_type": "code",
   "execution_count": 4,
   "outputs": [
    {
     "data": {
      "text/plain": "                                         internal_id     rub     usdt  \\\n0  aeb453b84e541713fa5ef880be9d8cbca978f134dcb9cd...  170000  1762.75   \n1  cdcd1809f71e37f673c52580534b4246d7cfb3539df9ea...   75000   777.69   \n2  c2ec7392562823967ca1dcfbbf32159302473596a07671...   10450   108.37   \n3  3c685f5eff63908af3370367375698f6a2d948a5135a15...   20000   207.40   \n4  524e4bfc8306dee60f74fbe4f70e44038d8339ab36ef55...   15000   155.55   \n5  3f1c0b9df8d9701836e345d74f04d4c99a4c4e611e4ce3...       0  3009.76   \n\n  direction          create_time               complete_time  commission  \n0        IN  2023-11-09 23:55:56  2023-09-11 23:58:08.239441           0  \n1        IN  2023-11-09 23:56:07  2023-09-11 23:58:56.201385           0  \n2        IN  2023-12-09 00:14:08  2023-09-12 00:15:13.901706           0  \n3        IN  2023-12-09 00:18:58  2023-09-12 00:20:13.965612           0  \n4        IN  2023-12-09 00:19:42  2023-09-12 00:20:51.830282           0  \n5       OUT  2023-12-09 00:58:22  2023-09-12 00:58:31.262863           2  ",
      "text/html": "<div>\n<style scoped>\n    .dataframe tbody tr th:only-of-type {\n        vertical-align: middle;\n    }\n\n    .dataframe tbody tr th {\n        vertical-align: top;\n    }\n\n    .dataframe thead th {\n        text-align: right;\n    }\n</style>\n<table border=\"1\" class=\"dataframe\">\n  <thead>\n    <tr style=\"text-align: right;\">\n      <th></th>\n      <th>internal_id</th>\n      <th>rub</th>\n      <th>usdt</th>\n      <th>direction</th>\n      <th>create_time</th>\n      <th>complete_time</th>\n      <th>commission</th>\n    </tr>\n  </thead>\n  <tbody>\n    <tr>\n      <th>0</th>\n      <td>aeb453b84e541713fa5ef880be9d8cbca978f134dcb9cd...</td>\n      <td>170000</td>\n      <td>1762.75</td>\n      <td>IN</td>\n      <td>2023-11-09 23:55:56</td>\n      <td>2023-09-11 23:58:08.239441</td>\n      <td>0</td>\n    </tr>\n    <tr>\n      <th>1</th>\n      <td>cdcd1809f71e37f673c52580534b4246d7cfb3539df9ea...</td>\n      <td>75000</td>\n      <td>777.69</td>\n      <td>IN</td>\n      <td>2023-11-09 23:56:07</td>\n      <td>2023-09-11 23:58:56.201385</td>\n      <td>0</td>\n    </tr>\n    <tr>\n      <th>2</th>\n      <td>c2ec7392562823967ca1dcfbbf32159302473596a07671...</td>\n      <td>10450</td>\n      <td>108.37</td>\n      <td>IN</td>\n      <td>2023-12-09 00:14:08</td>\n      <td>2023-09-12 00:15:13.901706</td>\n      <td>0</td>\n    </tr>\n    <tr>\n      <th>3</th>\n      <td>3c685f5eff63908af3370367375698f6a2d948a5135a15...</td>\n      <td>20000</td>\n      <td>207.40</td>\n      <td>IN</td>\n      <td>2023-12-09 00:18:58</td>\n      <td>2023-09-12 00:20:13.965612</td>\n      <td>0</td>\n    </tr>\n    <tr>\n      <th>4</th>\n      <td>524e4bfc8306dee60f74fbe4f70e44038d8339ab36ef55...</td>\n      <td>15000</td>\n      <td>155.55</td>\n      <td>IN</td>\n      <td>2023-12-09 00:19:42</td>\n      <td>2023-09-12 00:20:51.830282</td>\n      <td>0</td>\n    </tr>\n    <tr>\n      <th>5</th>\n      <td>3f1c0b9df8d9701836e345d74f04d4c99a4c4e611e4ce3...</td>\n      <td>0</td>\n      <td>3009.76</td>\n      <td>OUT</td>\n      <td>2023-12-09 00:58:22</td>\n      <td>2023-09-12 00:58:31.262863</td>\n      <td>2</td>\n    </tr>\n  </tbody>\n</table>\n</div>"
     },
     "metadata": {},
     "output_type": "display_data"
    }
   ],
   "source": [
    "exnode_history['create_time'] = pd.to_datetime(exnode_history['create_time']).dt.strftime(\"%Y-%d-%m %H:%M:%S\")\n",
    "\n",
    "filtered_data_exnode_history = exnode_history[(exnode_history['create_time'] >= '2023-11-09 19:00:00') & (exnode_history['create_time'] <= '2023-12-09 07:00:00')]\n",
    "\n",
    "display(filtered_data_exnode_history)"
   ],
   "metadata": {
    "collapsed": false,
    "ExecuteTime": {
     "end_time": "2023-09-18T22:22:36.661304300Z",
     "start_time": "2023-09-18T22:22:36.646304800Z"
    }
   },
   "id": "902965d53a635f4b"
  },
  {
   "cell_type": "code",
   "execution_count": 5,
   "outputs": [],
   "source": [
    "from openpyxl import load_workbook\n",
    "from openpyxl.styles import Font, Alignment\n",
    "from openpyxl.utils import coordinate_to_tuple"
   ],
   "metadata": {
    "collapsed": false,
    "ExecuteTime": {
     "end_time": "2023-09-18T22:22:36.712305800Z",
     "start_time": "2023-09-18T22:22:36.658309200Z"
    }
   },
   "id": "d41a3eefcbd8d899"
  },
  {
   "cell_type": "code",
   "execution_count": 6,
   "outputs": [],
   "source": [
    "def find_empty_cell_top(column_index):\n",
    "    # Поиск первой пустой ячейки сверху вниз\n",
    "    empty_cell = None\n",
    "    row_index = 3\n",
    "    \n",
    "    while empty_cell is None:\n",
    "        cell_value = sheet.cell(row=row_index, column=column_index).value\n",
    "        if cell_value is None:\n",
    "            empty_cell = sheet.cell(row=row_index, column=column_index).coordinate\n",
    "        else:\n",
    "            row_index += 1\n",
    "            \n",
    "    return coordinate_to_tuple(empty_cell)"
   ],
   "metadata": {
    "collapsed": false,
    "ExecuteTime": {
     "end_time": "2023-09-18T22:22:36.717308200Z",
     "start_time": "2023-09-18T22:22:36.674306300Z"
    }
   },
   "id": "15c0ed5dd0996184"
  },
  {
   "cell_type": "code",
   "execution_count": 7,
   "outputs": [],
   "source": [
    "def find_empty_cell_bottom(column_index):\n",
    "    # Поиск первой пустой ячейки сверху вниз\n",
    "    empty_cell = None\n",
    "    row_index = 194\n",
    "    \n",
    "    while empty_cell is None:\n",
    "        cell_value = sheet.cell(row=row_index, column=column_index).value\n",
    "        if cell_value is None:\n",
    "            empty_cell = sheet.cell(row=row_index, column=column_index).coordinate\n",
    "        else:\n",
    "            row_index -= 1\n",
    "            \n",
    "    return coordinate_to_tuple(empty_cell)"
   ],
   "metadata": {
    "collapsed": false,
    "ExecuteTime": {
     "end_time": "2023-09-18T22:22:36.718306100Z",
     "start_time": "2023-09-18T22:22:36.690306100Z"
    }
   },
   "id": "659b9e44594b4964"
  },
  {
   "cell_type": "code",
   "execution_count": 8,
   "outputs": [],
   "source": [
    "# Путь к существующему файлу Excel\n",
    "excel_file = '../docs/мой отчет p2p.xlsx'\n",
    "\n",
    "# Загрузка существующего файла Excel\n",
    "book = load_workbook(excel_file)\n",
    "\n",
    "# Выбор листа для записи данных\n",
    "sheet = book['11.09 ночная смена GarantexByBi']\n",
    "\n",
    "# Установка шрифта текста\n",
    "font = Font(name='Arial', size=12, bold=False, italic=False)\n",
    "\n",
    "# Установка выравнивания по центру\n",
    "alignment = Alignment(horizontal='center')\n",
    "\n",
    "# Координаты ячейки для начала записи данных\n",
    "cell_exnode_buy_usdt = find_empty_cell_top(7)\n",
    "cell_exnode_buy_rub = find_empty_cell_top(5)\n",
    "cell_exnode_mean = find_empty_cell_top(6)\n",
    "cell_market = find_empty_cell_top(4)\n",
    "\n",
    "# Запись данных из DataFrame в Excel\n",
    "for index, (value_usdt, value_rub) in enumerate(\n",
    "        zip(filtered_data_exnode_history.loc[filtered_data_exnode_history['direction'] == 'IN', 'usdt'],\n",
    "            filtered_data_exnode_history.loc[filtered_data_exnode_history['direction'] == 'IN', 'rub'])):\n",
    "    cell_usdt = sheet.cell(row=cell_exnode_buy_usdt[0] + index, column=cell_exnode_buy_usdt[1])\n",
    "    cell_usdt.value = value_usdt\n",
    "    cell_usdt.font = font\n",
    "    cell_usdt.alignment = alignment\n",
    "\n",
    "    cell_rub = sheet.cell(row=cell_exnode_buy_rub[0] + index, column=cell_exnode_buy_rub[1])\n",
    "    cell_rub.value = value_rub\n",
    "    cell_rub.font = font\n",
    "    cell_rub.alignment = alignment\n",
    "    \n",
    "    cell_rub = sheet.cell(row=cell_exnode_mean[0] + index, column=cell_exnode_mean[1])\n",
    "    cell_rub.value = value_rub / value_usdt\n",
    "    cell_rub.font = font\n",
    "    cell_rub.alignment = alignment\n",
    "\n",
    "    cell_rub = sheet.cell(row=cell_market[0] + index, column=cell_market[1])\n",
    "    cell_rub.value = 'EXNODE'\n",
    "    cell_rub.font = font\n",
    "    cell_rub.alignment = alignment\n",
    "\n",
    "# Сохранение изменений в файле Excel\n",
    "book.save(excel_file)"
   ],
   "metadata": {
    "collapsed": false,
    "ExecuteTime": {
     "end_time": "2023-09-18T22:22:37.168878400Z",
     "start_time": "2023-09-18T22:22:36.705306600Z"
    }
   },
   "id": "9410969b2a0bcd99"
  },
  {
   "cell_type": "code",
   "execution_count": 9,
   "outputs": [],
   "source": [
    "excel_file = '../docs/мой отчет p2p.xlsx'\n",
    "\n",
    "# Загрузка существующего файла Excel\n",
    "book = load_workbook(excel_file)\n",
    "\n",
    "# Выбор листа для записи данных\n",
    "sheet = book['11.09 ночная смена GarantexByBi']\n",
    "\n",
    "# Установка шрифта текста\n",
    "font = Font(name='Arial', size=12, bold=False, italic=False)\n",
    "\n",
    "# Установка выравнивания по центру\n",
    "alignment = Alignment(horizontal='center')\n",
    "\n",
    "# Координаты ячейки для начала записи данных\n",
    "cell_exnode_buy_comm = find_empty_cell_bottom(7)\n",
    "cell_exnode_mean_price = find_empty_cell_bottom(6)\n",
    "cell_exnode_multi = find_empty_cell_bottom(5)\n",
    "cell_exnode_komsa_market = find_empty_cell_bottom(4)\n",
    "cell_exnode_komsa = find_empty_cell_bottom(3)\n",
    "\n",
    "value_mean_price = round(filtered_data_exnode_history[filtered_data_exnode_history['direction'] == 'IN'].rub.sum() /\n",
    "                         filtered_data_exnode_history[filtered_data_exnode_history['direction'] == 'IN'].usdt.sum(), 2)\n",
    "\n",
    "for index, (value_usdt, value_comm) in enumerate(\n",
    "        zip(filtered_data_exnode_history.loc[filtered_data_exnode_history['direction'] == 'OUT', 'usdt'],\n",
    "            filtered_data_exnode_history.loc[filtered_data_exnode_history['direction'] == 'OUT', 'commission'])):\n",
    "    cell_comm = sheet.cell(row=cell_exnode_buy_comm[0] + index, column=cell_exnode_buy_comm[1])\n",
    "    cell_comm.value = value_comm * -1\n",
    "    cell_comm.font = font\n",
    "    cell_comm.alignment = alignment\n",
    "\n",
    "    cell_exnode_mean_price = sheet.cell(row=cell_exnode_mean_price[0] + index, column=cell_exnode_mean_price[1])\n",
    "    cell_exnode_mean_price.value = value_mean_price\n",
    "    cell_exnode_mean_price.font = font\n",
    "    cell_exnode_mean_price.alignment = alignment\n",
    "\n",
    "    cell_multi = sheet.cell(row=cell_exnode_multi[0] + index, column=cell_exnode_multi[1])\n",
    "    cell_multi.value = value_mean_price * (value_comm * -1)\n",
    "    cell_multi.font = font\n",
    "    cell_multi.alignment = alignment\n",
    "\n",
    "    cell_komsa_market = sheet.cell(row=cell_exnode_komsa_market[0] + index, column=cell_exnode_komsa_market[1])\n",
    "    cell_komsa_market.value = 'EXNODE'\n",
    "    cell_komsa_market.font = font\n",
    "    cell_komsa_market.alignment = alignment\n",
    "\n",
    "    cell_komsa = sheet.cell(row=cell_exnode_komsa[0] + index, column=cell_exnode_komsa[1])\n",
    "    cell_komsa.value = 'komsa'\n",
    "    cell_komsa.font = font\n",
    "    cell_komsa.alignment = alignment\n",
    "\n",
    "# Сохранение изменений в файле Excel\n",
    "book.save(excel_file)"
   ],
   "metadata": {
    "collapsed": false,
    "ExecuteTime": {
     "end_time": "2023-09-18T22:22:37.579978900Z",
     "start_time": "2023-09-18T22:22:37.168878400Z"
    }
   },
   "id": "fbadfe86872c634b"
  }
 ],
 "metadata": {
  "kernelspec": {
   "display_name": "Python 3",
   "language": "python",
   "name": "python3"
  },
  "language_info": {
   "codemirror_mode": {
    "name": "ipython",
    "version": 2
   },
   "file_extension": ".py",
   "mimetype": "text/x-python",
   "name": "python",
   "nbconvert_exporter": "python",
   "pygments_lexer": "ipython2",
   "version": "2.7.6"
  }
 },
 "nbformat": 4,
 "nbformat_minor": 5
}
