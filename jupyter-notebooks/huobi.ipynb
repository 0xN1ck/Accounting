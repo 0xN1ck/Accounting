{
 "cells": [
  {
   "cell_type": "code",
   "execution_count": 26,
   "id": "initial_id",
   "metadata": {
    "collapsed": true,
    "ExecuteTime": {
     "end_time": "2023-09-26T20:59:42.175817200Z",
     "start_time": "2023-09-26T20:59:42.136817600Z"
    }
   },
   "outputs": [],
   "source": [
    "import pandas as pd\n",
    "from IPython.display import display\n",
    "from datetime import timedelta"
   ]
  },
  {
   "cell_type": "code",
   "execution_count": 27,
   "outputs": [],
   "source": [
    "huobi_history_p2p = pd.read_excel('../docs/huobi/huobi история p2p-ордеров.xlsx')"
   ],
   "metadata": {
    "collapsed": false,
    "ExecuteTime": {
     "end_time": "2023-09-26T20:59:42.210818500Z",
     "start_time": "2023-09-26T20:59:42.150817300Z"
    }
   },
   "id": "85786f36dadba017"
  },
  {
   "cell_type": "code",
   "execution_count": 28,
   "outputs": [
    {
     "data": {
      "text/plain": "                  Номер:      Тип Тип заказа Монета   Количество  Цена за ед.  \\\n0    1151365995502137344   Купить    Обычный   USDT   350.000000        96.23   \n1    1151365771509530624   Купить    Обычный   USDT  3249.236204        96.23   \n2    1151334081114312704   Купить    Обычный   USDT   220.230001        96.13   \n3    1151328318836867072   Купить    Обычный   USDT   207.856994        96.22   \n4    1151328131175309312   Купить    Обычный   USDT   272.390459        96.22   \n..                   ...      ...        ...    ...          ...          ...   \n141  1150922950289809408  Продать    Обычный   USDT   104.669061        97.45   \n142  1150921750857277440  Продать    Обычный   USDT  4104.669061        97.45   \n143  1150912410897248256  Продать    Обычный   USDT   400.000000        97.79   \n144  1150846170614882304  Продать    Обычный   USDT   914.355379        98.43   \n145  1150829094181429248  Продать    Обычный   USDT   507.665752        98.49   \n\n     Общая цена  Коммисия  Карта пополнения баланса Валюта  \\\n0      33680.50         0                         0    RUB   \n1     312674.00         0                         0    RUB   \n2      21170.71         0                         0    RUB   \n3      20000.00         0                         0    RUB   \n4      26209.41         0                         0    RUB   \n..          ...       ...                       ...    ...   \n141    10200.00         0                         0    RUB   \n142   400000.00         0                         0    RUB   \n143    39116.00         0                         0    RUB   \n144    90000.00         0                         0    RUB   \n145    50000.00         0                         0    RUB   \n\n                  Время     Статус Торговый партнер  \n0   2023-09-12 22:57:25  Завершено           cirbor  \n1   2023-09-12 22:56:31  Завершено          usdt644  \n2   2023-09-12 20:50:36  Завершено       rushis3248  \n3   2023-09-12 20:27:42  Завершено           V12AMG  \n4   2023-09-12 20:26:57  Завершено             Сйед  \n..                  ...        ...              ...  \n141 2023-09-11 17:36:54  Завершено        464812988  \n142 2023-09-11 17:32:09  Завершено        Archibald  \n143 2023-09-11 16:55:02  Завершено        452157919  \n144 2023-09-11 12:31:49  Завершено          Jump112  \n145 2023-09-11 11:23:57  Завершено        Anya-Mate  \n\n[146 rows x 13 columns]",
      "text/html": "<div>\n<style scoped>\n    .dataframe tbody tr th:only-of-type {\n        vertical-align: middle;\n    }\n\n    .dataframe tbody tr th {\n        vertical-align: top;\n    }\n\n    .dataframe thead th {\n        text-align: right;\n    }\n</style>\n<table border=\"1\" class=\"dataframe\">\n  <thead>\n    <tr style=\"text-align: right;\">\n      <th></th>\n      <th>Номер:</th>\n      <th>Тип</th>\n      <th>Тип заказа</th>\n      <th>Монета</th>\n      <th>Количество</th>\n      <th>Цена за ед.</th>\n      <th>Общая цена</th>\n      <th>Коммисия</th>\n      <th>Карта пополнения баланса</th>\n      <th>Валюта</th>\n      <th>Время</th>\n      <th>Статус</th>\n      <th>Торговый партнер</th>\n    </tr>\n  </thead>\n  <tbody>\n    <tr>\n      <th>0</th>\n      <td>1151365995502137344</td>\n      <td>Купить</td>\n      <td>Обычный</td>\n      <td>USDT</td>\n      <td>350.000000</td>\n      <td>96.23</td>\n      <td>33680.50</td>\n      <td>0</td>\n      <td>0</td>\n      <td>RUB</td>\n      <td>2023-09-12 22:57:25</td>\n      <td>Завершено</td>\n      <td>cirbor</td>\n    </tr>\n    <tr>\n      <th>1</th>\n      <td>1151365771509530624</td>\n      <td>Купить</td>\n      <td>Обычный</td>\n      <td>USDT</td>\n      <td>3249.236204</td>\n      <td>96.23</td>\n      <td>312674.00</td>\n      <td>0</td>\n      <td>0</td>\n      <td>RUB</td>\n      <td>2023-09-12 22:56:31</td>\n      <td>Завершено</td>\n      <td>usdt644</td>\n    </tr>\n    <tr>\n      <th>2</th>\n      <td>1151334081114312704</td>\n      <td>Купить</td>\n      <td>Обычный</td>\n      <td>USDT</td>\n      <td>220.230001</td>\n      <td>96.13</td>\n      <td>21170.71</td>\n      <td>0</td>\n      <td>0</td>\n      <td>RUB</td>\n      <td>2023-09-12 20:50:36</td>\n      <td>Завершено</td>\n      <td>rushis3248</td>\n    </tr>\n    <tr>\n      <th>3</th>\n      <td>1151328318836867072</td>\n      <td>Купить</td>\n      <td>Обычный</td>\n      <td>USDT</td>\n      <td>207.856994</td>\n      <td>96.22</td>\n      <td>20000.00</td>\n      <td>0</td>\n      <td>0</td>\n      <td>RUB</td>\n      <td>2023-09-12 20:27:42</td>\n      <td>Завершено</td>\n      <td>V12AMG</td>\n    </tr>\n    <tr>\n      <th>4</th>\n      <td>1151328131175309312</td>\n      <td>Купить</td>\n      <td>Обычный</td>\n      <td>USDT</td>\n      <td>272.390459</td>\n      <td>96.22</td>\n      <td>26209.41</td>\n      <td>0</td>\n      <td>0</td>\n      <td>RUB</td>\n      <td>2023-09-12 20:26:57</td>\n      <td>Завершено</td>\n      <td>Сйед</td>\n    </tr>\n    <tr>\n      <th>...</th>\n      <td>...</td>\n      <td>...</td>\n      <td>...</td>\n      <td>...</td>\n      <td>...</td>\n      <td>...</td>\n      <td>...</td>\n      <td>...</td>\n      <td>...</td>\n      <td>...</td>\n      <td>...</td>\n      <td>...</td>\n      <td>...</td>\n    </tr>\n    <tr>\n      <th>141</th>\n      <td>1150922950289809408</td>\n      <td>Продать</td>\n      <td>Обычный</td>\n      <td>USDT</td>\n      <td>104.669061</td>\n      <td>97.45</td>\n      <td>10200.00</td>\n      <td>0</td>\n      <td>0</td>\n      <td>RUB</td>\n      <td>2023-09-11 17:36:54</td>\n      <td>Завершено</td>\n      <td>464812988</td>\n    </tr>\n    <tr>\n      <th>142</th>\n      <td>1150921750857277440</td>\n      <td>Продать</td>\n      <td>Обычный</td>\n      <td>USDT</td>\n      <td>4104.669061</td>\n      <td>97.45</td>\n      <td>400000.00</td>\n      <td>0</td>\n      <td>0</td>\n      <td>RUB</td>\n      <td>2023-09-11 17:32:09</td>\n      <td>Завершено</td>\n      <td>Archibald</td>\n    </tr>\n    <tr>\n      <th>143</th>\n      <td>1150912410897248256</td>\n      <td>Продать</td>\n      <td>Обычный</td>\n      <td>USDT</td>\n      <td>400.000000</td>\n      <td>97.79</td>\n      <td>39116.00</td>\n      <td>0</td>\n      <td>0</td>\n      <td>RUB</td>\n      <td>2023-09-11 16:55:02</td>\n      <td>Завершено</td>\n      <td>452157919</td>\n    </tr>\n    <tr>\n      <th>144</th>\n      <td>1150846170614882304</td>\n      <td>Продать</td>\n      <td>Обычный</td>\n      <td>USDT</td>\n      <td>914.355379</td>\n      <td>98.43</td>\n      <td>90000.00</td>\n      <td>0</td>\n      <td>0</td>\n      <td>RUB</td>\n      <td>2023-09-11 12:31:49</td>\n      <td>Завершено</td>\n      <td>Jump112</td>\n    </tr>\n    <tr>\n      <th>145</th>\n      <td>1150829094181429248</td>\n      <td>Продать</td>\n      <td>Обычный</td>\n      <td>USDT</td>\n      <td>507.665752</td>\n      <td>98.49</td>\n      <td>50000.00</td>\n      <td>0</td>\n      <td>0</td>\n      <td>RUB</td>\n      <td>2023-09-11 11:23:57</td>\n      <td>Завершено</td>\n      <td>Anya-Mate</td>\n    </tr>\n  </tbody>\n</table>\n<p>146 rows × 13 columns</p>\n</div>"
     },
     "metadata": {},
     "output_type": "display_data"
    }
   ],
   "source": [
    "huobi_history_p2p['Время'] = pd.to_datetime(huobi_history_p2p['Время'])\n",
    "huobi_history_p2p['Время'] = huobi_history_p2p['Время'] - timedelta(hours=5)\n",
    "display(huobi_history_p2p)"
   ],
   "metadata": {
    "collapsed": false,
    "ExecuteTime": {
     "end_time": "2023-09-26T20:59:42.211819900Z",
     "start_time": "2023-09-26T20:59:42.180817900Z"
    }
   },
   "id": "867d54fc2501bcc2"
  },
  {
   "cell_type": "code",
   "execution_count": 29,
   "outputs": [
    {
     "data": {
      "text/plain": "                  Номер:      Тип Тип заказа Монета   Количество  Цена за ед.  \\\n36   1151060111408402432   Купить    Обычный   USDT   833.407492        96.10   \n37   1151012598026502144   Купить    Обычный   USDT  1347.000000        96.51   \n38   1151012006713520128   Купить    Обычный   USDT  2072.324111        96.51   \n39   1150996444801306624   Купить    Обычный    BTC     0.022886   2416315.00   \n125  1151095500236021760  Продать    Обычный   USDT   537.912485        96.67   \n126  1151085992587722752  Продать    Обычный   USDT   204.624514        97.74   \n127  1151082382692880384  Продать    Обычный   USDT   688.804359        97.27   \n128  1151077526305398784  Продать    Обычный   USDT   408.872533        97.83   \n129  1151069513540591616  Продать    Обычный   USDT   483.426823        98.05   \n130  1151058679544311808  Продать    Обычный   USDT  3100.855053        97.07   \n131  1150970903046025216  Продать    Обычный   USDT  1027.854866        97.29   \n132  1150970074310275072  Продать    Обычный   USDT   514.244574        97.23   \n133  1150968530458284032  Продать    Обычный   USDT  1440.032915        97.22   \n134  1150968071148437504  Продать    Обычный   USDT  1440.032915        97.22   \n135  1150967470624772096  Продать    Обычный   USDT   308.578481        97.22   \n136  1150966938929618944  Продать    Обычный   USDT   617.156963        97.22   \n137  1150961252720078848  Продать    Обычный   USDT   308.229733        97.33   \n138  1150949775770542080  Продать    Обычный   USDT  1027.115858        97.36   \n139  1150949439777443840  Продать    Обычный   USDT  1181.183237        97.36   \n\n     Общая цена  Коммисия  Карта пополнения баланса Валюта  \\\n36     80090.46         0                         0    RUB   \n37    129998.97         0                         0    RUB   \n38    200000.00         0                         0    RUB   \n39     55300.00         0                         0    RUB   \n125    52000.00         0                         0    RUB   \n126    20000.00         0                         0    RUB   \n127    67000.00         0                         0    RUB   \n128    40000.00         0                         0    RUB   \n129    47400.00         0                         0    RUB   \n130   301000.00         0                         0    RUB   \n131   100000.00         0                         0    RUB   \n132    50000.00         0                         0    RUB   \n133   140000.00         0                         0    RUB   \n134   140000.00         0                         0    RUB   \n135    30000.00         0                         0    RUB   \n136    60000.00         0                         0    RUB   \n137    30000.00         0                         0    RUB   \n138   100000.00         0                         0    RUB   \n139   115000.00         0                         0    RUB   \n\n                  Время     Статус Торговый партнер  \n36  2023-09-12 02:41:56  Завершено            Zm174  \n37  2023-09-11 23:33:08  Завершено     MascotTrader  \n38  2023-09-11 23:30:47  Завершено        ramzes920  \n39  2023-09-11 22:28:57  Завершено         wezowezo  \n125 2023-09-12 05:02:34  Завершено        463128815  \n126 2023-09-12 04:24:47  Завершено        219405738  \n127 2023-09-12 04:10:26  Завершено     Vito_Soprano  \n128 2023-09-12 03:51:08  Завершено       IUliia8A4D  \n129 2023-09-12 03:19:18  Завершено         Mdro1011  \n130 2023-09-12 02:36:15  Завершено          ALENA12  \n131 2023-09-11 20:47:27  Завершено              NaN  \n132 2023-09-11 20:44:10  Завершено       semidvorki  \n133 2023-09-11 20:38:02  Завершено       Pasha_3303  \n134 2023-09-11 20:36:12  Завершено       Pasha_3303  \n135 2023-09-11 20:33:49  Завершено         Bronvald  \n136 2023-09-11 20:31:42  Завершено       Sergei Mex  \n137 2023-09-11 20:09:06  Завершено         andreysh  \n138 2023-09-11 19:23:30  Завершено            LLleF  \n139 2023-09-11 19:22:10  Завершено        429589573  ",
      "text/html": "<div>\n<style scoped>\n    .dataframe tbody tr th:only-of-type {\n        vertical-align: middle;\n    }\n\n    .dataframe tbody tr th {\n        vertical-align: top;\n    }\n\n    .dataframe thead th {\n        text-align: right;\n    }\n</style>\n<table border=\"1\" class=\"dataframe\">\n  <thead>\n    <tr style=\"text-align: right;\">\n      <th></th>\n      <th>Номер:</th>\n      <th>Тип</th>\n      <th>Тип заказа</th>\n      <th>Монета</th>\n      <th>Количество</th>\n      <th>Цена за ед.</th>\n      <th>Общая цена</th>\n      <th>Коммисия</th>\n      <th>Карта пополнения баланса</th>\n      <th>Валюта</th>\n      <th>Время</th>\n      <th>Статус</th>\n      <th>Торговый партнер</th>\n    </tr>\n  </thead>\n  <tbody>\n    <tr>\n      <th>36</th>\n      <td>1151060111408402432</td>\n      <td>Купить</td>\n      <td>Обычный</td>\n      <td>USDT</td>\n      <td>833.407492</td>\n      <td>96.10</td>\n      <td>80090.46</td>\n      <td>0</td>\n      <td>0</td>\n      <td>RUB</td>\n      <td>2023-09-12 02:41:56</td>\n      <td>Завершено</td>\n      <td>Zm174</td>\n    </tr>\n    <tr>\n      <th>37</th>\n      <td>1151012598026502144</td>\n      <td>Купить</td>\n      <td>Обычный</td>\n      <td>USDT</td>\n      <td>1347.000000</td>\n      <td>96.51</td>\n      <td>129998.97</td>\n      <td>0</td>\n      <td>0</td>\n      <td>RUB</td>\n      <td>2023-09-11 23:33:08</td>\n      <td>Завершено</td>\n      <td>MascotTrader</td>\n    </tr>\n    <tr>\n      <th>38</th>\n      <td>1151012006713520128</td>\n      <td>Купить</td>\n      <td>Обычный</td>\n      <td>USDT</td>\n      <td>2072.324111</td>\n      <td>96.51</td>\n      <td>200000.00</td>\n      <td>0</td>\n      <td>0</td>\n      <td>RUB</td>\n      <td>2023-09-11 23:30:47</td>\n      <td>Завершено</td>\n      <td>ramzes920</td>\n    </tr>\n    <tr>\n      <th>39</th>\n      <td>1150996444801306624</td>\n      <td>Купить</td>\n      <td>Обычный</td>\n      <td>BTC</td>\n      <td>0.022886</td>\n      <td>2416315.00</td>\n      <td>55300.00</td>\n      <td>0</td>\n      <td>0</td>\n      <td>RUB</td>\n      <td>2023-09-11 22:28:57</td>\n      <td>Завершено</td>\n      <td>wezowezo</td>\n    </tr>\n    <tr>\n      <th>125</th>\n      <td>1151095500236021760</td>\n      <td>Продать</td>\n      <td>Обычный</td>\n      <td>USDT</td>\n      <td>537.912485</td>\n      <td>96.67</td>\n      <td>52000.00</td>\n      <td>0</td>\n      <td>0</td>\n      <td>RUB</td>\n      <td>2023-09-12 05:02:34</td>\n      <td>Завершено</td>\n      <td>463128815</td>\n    </tr>\n    <tr>\n      <th>126</th>\n      <td>1151085992587722752</td>\n      <td>Продать</td>\n      <td>Обычный</td>\n      <td>USDT</td>\n      <td>204.624514</td>\n      <td>97.74</td>\n      <td>20000.00</td>\n      <td>0</td>\n      <td>0</td>\n      <td>RUB</td>\n      <td>2023-09-12 04:24:47</td>\n      <td>Завершено</td>\n      <td>219405738</td>\n    </tr>\n    <tr>\n      <th>127</th>\n      <td>1151082382692880384</td>\n      <td>Продать</td>\n      <td>Обычный</td>\n      <td>USDT</td>\n      <td>688.804359</td>\n      <td>97.27</td>\n      <td>67000.00</td>\n      <td>0</td>\n      <td>0</td>\n      <td>RUB</td>\n      <td>2023-09-12 04:10:26</td>\n      <td>Завершено</td>\n      <td>Vito_Soprano</td>\n    </tr>\n    <tr>\n      <th>128</th>\n      <td>1151077526305398784</td>\n      <td>Продать</td>\n      <td>Обычный</td>\n      <td>USDT</td>\n      <td>408.872533</td>\n      <td>97.83</td>\n      <td>40000.00</td>\n      <td>0</td>\n      <td>0</td>\n      <td>RUB</td>\n      <td>2023-09-12 03:51:08</td>\n      <td>Завершено</td>\n      <td>IUliia8A4D</td>\n    </tr>\n    <tr>\n      <th>129</th>\n      <td>1151069513540591616</td>\n      <td>Продать</td>\n      <td>Обычный</td>\n      <td>USDT</td>\n      <td>483.426823</td>\n      <td>98.05</td>\n      <td>47400.00</td>\n      <td>0</td>\n      <td>0</td>\n      <td>RUB</td>\n      <td>2023-09-12 03:19:18</td>\n      <td>Завершено</td>\n      <td>Mdro1011</td>\n    </tr>\n    <tr>\n      <th>130</th>\n      <td>1151058679544311808</td>\n      <td>Продать</td>\n      <td>Обычный</td>\n      <td>USDT</td>\n      <td>3100.855053</td>\n      <td>97.07</td>\n      <td>301000.00</td>\n      <td>0</td>\n      <td>0</td>\n      <td>RUB</td>\n      <td>2023-09-12 02:36:15</td>\n      <td>Завершено</td>\n      <td>ALENA12</td>\n    </tr>\n    <tr>\n      <th>131</th>\n      <td>1150970903046025216</td>\n      <td>Продать</td>\n      <td>Обычный</td>\n      <td>USDT</td>\n      <td>1027.854866</td>\n      <td>97.29</td>\n      <td>100000.00</td>\n      <td>0</td>\n      <td>0</td>\n      <td>RUB</td>\n      <td>2023-09-11 20:47:27</td>\n      <td>Завершено</td>\n      <td>NaN</td>\n    </tr>\n    <tr>\n      <th>132</th>\n      <td>1150970074310275072</td>\n      <td>Продать</td>\n      <td>Обычный</td>\n      <td>USDT</td>\n      <td>514.244574</td>\n      <td>97.23</td>\n      <td>50000.00</td>\n      <td>0</td>\n      <td>0</td>\n      <td>RUB</td>\n      <td>2023-09-11 20:44:10</td>\n      <td>Завершено</td>\n      <td>semidvorki</td>\n    </tr>\n    <tr>\n      <th>133</th>\n      <td>1150968530458284032</td>\n      <td>Продать</td>\n      <td>Обычный</td>\n      <td>USDT</td>\n      <td>1440.032915</td>\n      <td>97.22</td>\n      <td>140000.00</td>\n      <td>0</td>\n      <td>0</td>\n      <td>RUB</td>\n      <td>2023-09-11 20:38:02</td>\n      <td>Завершено</td>\n      <td>Pasha_3303</td>\n    </tr>\n    <tr>\n      <th>134</th>\n      <td>1150968071148437504</td>\n      <td>Продать</td>\n      <td>Обычный</td>\n      <td>USDT</td>\n      <td>1440.032915</td>\n      <td>97.22</td>\n      <td>140000.00</td>\n      <td>0</td>\n      <td>0</td>\n      <td>RUB</td>\n      <td>2023-09-11 20:36:12</td>\n      <td>Завершено</td>\n      <td>Pasha_3303</td>\n    </tr>\n    <tr>\n      <th>135</th>\n      <td>1150967470624772096</td>\n      <td>Продать</td>\n      <td>Обычный</td>\n      <td>USDT</td>\n      <td>308.578481</td>\n      <td>97.22</td>\n      <td>30000.00</td>\n      <td>0</td>\n      <td>0</td>\n      <td>RUB</td>\n      <td>2023-09-11 20:33:49</td>\n      <td>Завершено</td>\n      <td>Bronvald</td>\n    </tr>\n    <tr>\n      <th>136</th>\n      <td>1150966938929618944</td>\n      <td>Продать</td>\n      <td>Обычный</td>\n      <td>USDT</td>\n      <td>617.156963</td>\n      <td>97.22</td>\n      <td>60000.00</td>\n      <td>0</td>\n      <td>0</td>\n      <td>RUB</td>\n      <td>2023-09-11 20:31:42</td>\n      <td>Завершено</td>\n      <td>Sergei Mex</td>\n    </tr>\n    <tr>\n      <th>137</th>\n      <td>1150961252720078848</td>\n      <td>Продать</td>\n      <td>Обычный</td>\n      <td>USDT</td>\n      <td>308.229733</td>\n      <td>97.33</td>\n      <td>30000.00</td>\n      <td>0</td>\n      <td>0</td>\n      <td>RUB</td>\n      <td>2023-09-11 20:09:06</td>\n      <td>Завершено</td>\n      <td>andreysh</td>\n    </tr>\n    <tr>\n      <th>138</th>\n      <td>1150949775770542080</td>\n      <td>Продать</td>\n      <td>Обычный</td>\n      <td>USDT</td>\n      <td>1027.115858</td>\n      <td>97.36</td>\n      <td>100000.00</td>\n      <td>0</td>\n      <td>0</td>\n      <td>RUB</td>\n      <td>2023-09-11 19:23:30</td>\n      <td>Завершено</td>\n      <td>LLleF</td>\n    </tr>\n    <tr>\n      <th>139</th>\n      <td>1150949439777443840</td>\n      <td>Продать</td>\n      <td>Обычный</td>\n      <td>USDT</td>\n      <td>1181.183237</td>\n      <td>97.36</td>\n      <td>115000.00</td>\n      <td>0</td>\n      <td>0</td>\n      <td>RUB</td>\n      <td>2023-09-11 19:22:10</td>\n      <td>Завершено</td>\n      <td>429589573</td>\n    </tr>\n  </tbody>\n</table>\n</div>"
     },
     "metadata": {},
     "output_type": "display_data"
    }
   ],
   "source": [
    "filtered_data_huobi_history_p2p = huobi_history_p2p[(huobi_history_p2p['Время'] >= '2023-09-11 19:00:00') & (huobi_history_p2p['Время'] <= '2023-09-12 07:00:00')]\n",
    "display(filtered_data_huobi_history_p2p)"
   ],
   "metadata": {
    "collapsed": false,
    "ExecuteTime": {
     "end_time": "2023-09-26T20:59:42.212818700Z",
     "start_time": "2023-09-26T20:59:42.195817700Z"
    }
   },
   "id": "4d187e24aa27cab2"
  },
  {
   "cell_type": "code",
   "execution_count": 30,
   "outputs": [
    {
     "data": {
      "text/plain": "         Количество  Общая цена\nМонета                         \nBTC        0.022886    55300.00\nUSDT    4252.731603   410089.43",
      "text/html": "<div>\n<style scoped>\n    .dataframe tbody tr th:only-of-type {\n        vertical-align: middle;\n    }\n\n    .dataframe tbody tr th {\n        vertical-align: top;\n    }\n\n    .dataframe thead th {\n        text-align: right;\n    }\n</style>\n<table border=\"1\" class=\"dataframe\">\n  <thead>\n    <tr style=\"text-align: right;\">\n      <th></th>\n      <th>Количество</th>\n      <th>Общая цена</th>\n    </tr>\n    <tr>\n      <th>Монета</th>\n      <th></th>\n      <th></th>\n    </tr>\n  </thead>\n  <tbody>\n    <tr>\n      <th>BTC</th>\n      <td>0.022886</td>\n      <td>55300.00</td>\n    </tr>\n    <tr>\n      <th>USDT</th>\n      <td>4252.731603</td>\n      <td>410089.43</td>\n    </tr>\n  </tbody>\n</table>\n</div>"
     },
     "metadata": {},
     "output_type": "display_data"
    }
   ],
   "source": [
    "filtered_data_huobi_history_p2p_buy = filtered_data_huobi_history_p2p[filtered_data_huobi_history_p2p['Тип'] == 'Купить']\n",
    "# display(filtered_data_huobi_history_p2p_buy)\n",
    "huobi_history_p2p_buy_sum_by_coin = filtered_data_huobi_history_p2p_buy.groupby('Монета').agg({'Количество': 'sum', 'Общая цена': 'sum'})\n",
    "display(huobi_history_p2p_buy_sum_by_coin)"
   ],
   "metadata": {
    "collapsed": false,
    "ExecuteTime": {
     "end_time": "2023-09-26T20:59:42.229818500Z",
     "start_time": "2023-09-26T20:59:42.211819900Z"
    }
   },
   "id": "d0ba9900b130609a"
  },
  {
   "cell_type": "code",
   "execution_count": 31,
   "outputs": [
    {
     "data": {
      "text/plain": "                   Дата    Тип      Пара Направление      Цена     Объем  \\\n0   2023-09-15 20:49:04  Торги  BTC/USDT     Продать  26376.24  0.038754   \n1   2023-09-15 12:09:26  Торги  ETH/USDT     Продать   1634.55  0.631900   \n2   2023-09-15 12:09:26  Торги  ETH/USDT     Продать   1634.55  0.008100   \n3   2023-09-15 05:08:42  Торги  BTC/USDT     Продать  26598.74  0.005057   \n4   2023-09-15 04:27:00  Торги  ETH/USDT     Продать   1631.68  0.158000   \n5   2023-09-15 04:26:50  Торги  BTC/USDT     Продать  26605.99  0.013263   \n6   2023-09-15 04:26:50  Торги  BTC/USDT     Продать  26605.99  0.007646   \n7   2023-09-15 03:24:08  Торги  BTC/USDT     Продать  26621.98  0.046169   \n8   2023-09-15 00:49:56  Торги  BTC/USDT     Продать  26573.00  0.040823   \n9   2023-09-15 00:49:56  Торги  BTC/USDT     Продать  26573.00  0.001200   \n10  2023-09-14 20:33:04  Торги  BTC/USDT     Продать  26388.34  0.046799   \n11  2023-09-14 20:33:04  Торги  BTC/USDT     Продать  26388.34  0.018019   \n12  2023-09-14 20:00:03  Торги  BTC/USDT     Продать  26460.97  0.039029   \n13  2023-09-14 17:36:50  Торги  BTC/USDT     Продать  26275.48  0.025537   \n14  2023-09-14 17:36:50  Торги  BTC/USDT     Продать  26275.48  0.011417   \n15  2023-09-14 17:36:50  Торги  BTC/USDT     Продать  26275.48  0.001500   \n16  2023-09-14 14:29:31  Торги  BTC/USDT     Продать  26263.90  0.001976   \n17  2023-09-13 05:06:29  Торги  BTC/USDT     Продать  26090.24  0.005131   \n18  2023-09-12 23:33:56  Торги  BTC/USDT     Продать  26186.33  0.005569   \n19  2023-09-12 22:35:55  Торги  BTC/USDT     Продать  26178.77  0.002000   \n20  2023-09-12 21:09:32  Торги  BTC/USDT     Продать  26114.00  0.001600   \n21  2023-09-12 21:09:32  Торги  BTC/USDT     Продать  26114.00  0.001110   \n22  2023-09-12 21:09:32  Торги  BTC/USDT     Продать  26114.00  0.001700   \n23  2023-09-12 03:31:55  Торги  BTC/USDT     Продать  25124.48  0.008270   \n24  2023-09-12 03:31:55  Торги  BTC/USDT     Продать  25124.48  0.026381   \n\n          Сумма        Комиссия  Unnamed: 8  \n0   1022.184805  1.73771416USDT         NaN  \n1   1032.872145  1.75588264USDT         NaN  \n2     13.239855  0.02250775USDT         NaN  \n3    134.509828  0.22866670USDT         NaN  \n4    257.805440  0.43826924USDT         NaN  \n5    352.875245  0.59988791USDT         NaN  \n6    203.429400  0.34582997USDT         NaN  \n7   1229.110195  2.08948733USDT         NaN  \n8   1084.789579  1.84414228USDT         NaN  \n9     31.887600  0.05420892USDT         NaN  \n10  1234.947924  2.09941147USDT         NaN  \n11   475.491498  0.80833554USDT         NaN  \n12  1032.745198  1.75566683USDT         NaN  \n13   670.996933  1.14069478USDT         NaN  \n14   299.987155  0.50997816USDT         NaN  \n15    39.413220  0.06700247USDT         NaN  \n16    51.897466  0.08822569USDT         NaN  \n17   133.869021  0.22757733USDT         NaN  \n18   145.831672  0.24791384USDT         NaN  \n19    52.357540  0.08900781USDT         NaN  \n20    41.782400  0.07103008USDT         NaN  \n21    28.986540  0.04927711USDT         NaN  \n22    44.393800  0.07546946USDT         NaN  \n23   207.779450  0.35322506USDT         NaN  \n24   662.808907  1.12677514USDT         NaN  ",
      "text/html": "<div>\n<style scoped>\n    .dataframe tbody tr th:only-of-type {\n        vertical-align: middle;\n    }\n\n    .dataframe tbody tr th {\n        vertical-align: top;\n    }\n\n    .dataframe thead th {\n        text-align: right;\n    }\n</style>\n<table border=\"1\" class=\"dataframe\">\n  <thead>\n    <tr style=\"text-align: right;\">\n      <th></th>\n      <th>Дата</th>\n      <th>Тип</th>\n      <th>Пара</th>\n      <th>Направление</th>\n      <th>Цена</th>\n      <th>Объем</th>\n      <th>Сумма</th>\n      <th>Комиссия</th>\n      <th>Unnamed: 8</th>\n    </tr>\n  </thead>\n  <tbody>\n    <tr>\n      <th>0</th>\n      <td>2023-09-15 20:49:04</td>\n      <td>Торги</td>\n      <td>BTC/USDT</td>\n      <td>Продать</td>\n      <td>26376.24</td>\n      <td>0.038754</td>\n      <td>1022.184805</td>\n      <td>1.73771416USDT</td>\n      <td>NaN</td>\n    </tr>\n    <tr>\n      <th>1</th>\n      <td>2023-09-15 12:09:26</td>\n      <td>Торги</td>\n      <td>ETH/USDT</td>\n      <td>Продать</td>\n      <td>1634.55</td>\n      <td>0.631900</td>\n      <td>1032.872145</td>\n      <td>1.75588264USDT</td>\n      <td>NaN</td>\n    </tr>\n    <tr>\n      <th>2</th>\n      <td>2023-09-15 12:09:26</td>\n      <td>Торги</td>\n      <td>ETH/USDT</td>\n      <td>Продать</td>\n      <td>1634.55</td>\n      <td>0.008100</td>\n      <td>13.239855</td>\n      <td>0.02250775USDT</td>\n      <td>NaN</td>\n    </tr>\n    <tr>\n      <th>3</th>\n      <td>2023-09-15 05:08:42</td>\n      <td>Торги</td>\n      <td>BTC/USDT</td>\n      <td>Продать</td>\n      <td>26598.74</td>\n      <td>0.005057</td>\n      <td>134.509828</td>\n      <td>0.22866670USDT</td>\n      <td>NaN</td>\n    </tr>\n    <tr>\n      <th>4</th>\n      <td>2023-09-15 04:27:00</td>\n      <td>Торги</td>\n      <td>ETH/USDT</td>\n      <td>Продать</td>\n      <td>1631.68</td>\n      <td>0.158000</td>\n      <td>257.805440</td>\n      <td>0.43826924USDT</td>\n      <td>NaN</td>\n    </tr>\n    <tr>\n      <th>5</th>\n      <td>2023-09-15 04:26:50</td>\n      <td>Торги</td>\n      <td>BTC/USDT</td>\n      <td>Продать</td>\n      <td>26605.99</td>\n      <td>0.013263</td>\n      <td>352.875245</td>\n      <td>0.59988791USDT</td>\n      <td>NaN</td>\n    </tr>\n    <tr>\n      <th>6</th>\n      <td>2023-09-15 04:26:50</td>\n      <td>Торги</td>\n      <td>BTC/USDT</td>\n      <td>Продать</td>\n      <td>26605.99</td>\n      <td>0.007646</td>\n      <td>203.429400</td>\n      <td>0.34582997USDT</td>\n      <td>NaN</td>\n    </tr>\n    <tr>\n      <th>7</th>\n      <td>2023-09-15 03:24:08</td>\n      <td>Торги</td>\n      <td>BTC/USDT</td>\n      <td>Продать</td>\n      <td>26621.98</td>\n      <td>0.046169</td>\n      <td>1229.110195</td>\n      <td>2.08948733USDT</td>\n      <td>NaN</td>\n    </tr>\n    <tr>\n      <th>8</th>\n      <td>2023-09-15 00:49:56</td>\n      <td>Торги</td>\n      <td>BTC/USDT</td>\n      <td>Продать</td>\n      <td>26573.00</td>\n      <td>0.040823</td>\n      <td>1084.789579</td>\n      <td>1.84414228USDT</td>\n      <td>NaN</td>\n    </tr>\n    <tr>\n      <th>9</th>\n      <td>2023-09-15 00:49:56</td>\n      <td>Торги</td>\n      <td>BTC/USDT</td>\n      <td>Продать</td>\n      <td>26573.00</td>\n      <td>0.001200</td>\n      <td>31.887600</td>\n      <td>0.05420892USDT</td>\n      <td>NaN</td>\n    </tr>\n    <tr>\n      <th>10</th>\n      <td>2023-09-14 20:33:04</td>\n      <td>Торги</td>\n      <td>BTC/USDT</td>\n      <td>Продать</td>\n      <td>26388.34</td>\n      <td>0.046799</td>\n      <td>1234.947924</td>\n      <td>2.09941147USDT</td>\n      <td>NaN</td>\n    </tr>\n    <tr>\n      <th>11</th>\n      <td>2023-09-14 20:33:04</td>\n      <td>Торги</td>\n      <td>BTC/USDT</td>\n      <td>Продать</td>\n      <td>26388.34</td>\n      <td>0.018019</td>\n      <td>475.491498</td>\n      <td>0.80833554USDT</td>\n      <td>NaN</td>\n    </tr>\n    <tr>\n      <th>12</th>\n      <td>2023-09-14 20:00:03</td>\n      <td>Торги</td>\n      <td>BTC/USDT</td>\n      <td>Продать</td>\n      <td>26460.97</td>\n      <td>0.039029</td>\n      <td>1032.745198</td>\n      <td>1.75566683USDT</td>\n      <td>NaN</td>\n    </tr>\n    <tr>\n      <th>13</th>\n      <td>2023-09-14 17:36:50</td>\n      <td>Торги</td>\n      <td>BTC/USDT</td>\n      <td>Продать</td>\n      <td>26275.48</td>\n      <td>0.025537</td>\n      <td>670.996933</td>\n      <td>1.14069478USDT</td>\n      <td>NaN</td>\n    </tr>\n    <tr>\n      <th>14</th>\n      <td>2023-09-14 17:36:50</td>\n      <td>Торги</td>\n      <td>BTC/USDT</td>\n      <td>Продать</td>\n      <td>26275.48</td>\n      <td>0.011417</td>\n      <td>299.987155</td>\n      <td>0.50997816USDT</td>\n      <td>NaN</td>\n    </tr>\n    <tr>\n      <th>15</th>\n      <td>2023-09-14 17:36:50</td>\n      <td>Торги</td>\n      <td>BTC/USDT</td>\n      <td>Продать</td>\n      <td>26275.48</td>\n      <td>0.001500</td>\n      <td>39.413220</td>\n      <td>0.06700247USDT</td>\n      <td>NaN</td>\n    </tr>\n    <tr>\n      <th>16</th>\n      <td>2023-09-14 14:29:31</td>\n      <td>Торги</td>\n      <td>BTC/USDT</td>\n      <td>Продать</td>\n      <td>26263.90</td>\n      <td>0.001976</td>\n      <td>51.897466</td>\n      <td>0.08822569USDT</td>\n      <td>NaN</td>\n    </tr>\n    <tr>\n      <th>17</th>\n      <td>2023-09-13 05:06:29</td>\n      <td>Торги</td>\n      <td>BTC/USDT</td>\n      <td>Продать</td>\n      <td>26090.24</td>\n      <td>0.005131</td>\n      <td>133.869021</td>\n      <td>0.22757733USDT</td>\n      <td>NaN</td>\n    </tr>\n    <tr>\n      <th>18</th>\n      <td>2023-09-12 23:33:56</td>\n      <td>Торги</td>\n      <td>BTC/USDT</td>\n      <td>Продать</td>\n      <td>26186.33</td>\n      <td>0.005569</td>\n      <td>145.831672</td>\n      <td>0.24791384USDT</td>\n      <td>NaN</td>\n    </tr>\n    <tr>\n      <th>19</th>\n      <td>2023-09-12 22:35:55</td>\n      <td>Торги</td>\n      <td>BTC/USDT</td>\n      <td>Продать</td>\n      <td>26178.77</td>\n      <td>0.002000</td>\n      <td>52.357540</td>\n      <td>0.08900781USDT</td>\n      <td>NaN</td>\n    </tr>\n    <tr>\n      <th>20</th>\n      <td>2023-09-12 21:09:32</td>\n      <td>Торги</td>\n      <td>BTC/USDT</td>\n      <td>Продать</td>\n      <td>26114.00</td>\n      <td>0.001600</td>\n      <td>41.782400</td>\n      <td>0.07103008USDT</td>\n      <td>NaN</td>\n    </tr>\n    <tr>\n      <th>21</th>\n      <td>2023-09-12 21:09:32</td>\n      <td>Торги</td>\n      <td>BTC/USDT</td>\n      <td>Продать</td>\n      <td>26114.00</td>\n      <td>0.001110</td>\n      <td>28.986540</td>\n      <td>0.04927711USDT</td>\n      <td>NaN</td>\n    </tr>\n    <tr>\n      <th>22</th>\n      <td>2023-09-12 21:09:32</td>\n      <td>Торги</td>\n      <td>BTC/USDT</td>\n      <td>Продать</td>\n      <td>26114.00</td>\n      <td>0.001700</td>\n      <td>44.393800</td>\n      <td>0.07546946USDT</td>\n      <td>NaN</td>\n    </tr>\n    <tr>\n      <th>23</th>\n      <td>2023-09-12 03:31:55</td>\n      <td>Торги</td>\n      <td>BTC/USDT</td>\n      <td>Продать</td>\n      <td>25124.48</td>\n      <td>0.008270</td>\n      <td>207.779450</td>\n      <td>0.35322506USDT</td>\n      <td>NaN</td>\n    </tr>\n    <tr>\n      <th>24</th>\n      <td>2023-09-12 03:31:55</td>\n      <td>Торги</td>\n      <td>BTC/USDT</td>\n      <td>Продать</td>\n      <td>25124.48</td>\n      <td>0.026381</td>\n      <td>662.808907</td>\n      <td>1.12677514USDT</td>\n      <td>NaN</td>\n    </tr>\n  </tbody>\n</table>\n</div>"
     },
     "metadata": {},
     "output_type": "display_data"
    }
   ],
   "source": [
    "huobi_history_spot = pd.read_csv('../docs/huobi/huobi история спотовой торговли.csv')\n",
    "display(huobi_history_spot)"
   ],
   "metadata": {
    "collapsed": false,
    "ExecuteTime": {
     "end_time": "2023-09-26T20:59:42.254817700Z",
     "start_time": "2023-09-26T20:59:42.226817200Z"
    }
   },
   "id": "281bf069a9d57a78"
  },
  {
   "cell_type": "code",
   "execution_count": 32,
   "outputs": [
    {
     "data": {
      "text/plain": "                  Дата    Тип      Пара Направление      Цена     Объем  \\\n0  2023-09-15 15:49:04  Торги  BTC/USDT     Продать  26376.24  0.038754   \n1  2023-09-15 07:09:26  Торги  ETH/USDT     Продать   1634.55  0.631900   \n2  2023-09-15 07:09:26  Торги  ETH/USDT     Продать   1634.55  0.008100   \n3  2023-09-15 00:08:42  Торги  BTC/USDT     Продать  26598.74  0.005057   \n4  2023-09-14 23:27:00  Торги  ETH/USDT     Продать   1631.68  0.158000   \n5  2023-09-14 23:26:50  Торги  BTC/USDT     Продать  26605.99  0.013263   \n6  2023-09-14 23:26:50  Торги  BTC/USDT     Продать  26605.99  0.007646   \n7  2023-09-14 22:24:08  Торги  BTC/USDT     Продать  26621.98  0.046169   \n8  2023-09-14 19:49:56  Торги  BTC/USDT     Продать  26573.00  0.040823   \n9  2023-09-14 19:49:56  Торги  BTC/USDT     Продать  26573.00  0.001200   \n10 2023-09-14 15:33:04  Торги  BTC/USDT     Продать  26388.34  0.046799   \n11 2023-09-14 15:33:04  Торги  BTC/USDT     Продать  26388.34  0.018019   \n12 2023-09-14 15:00:03  Торги  BTC/USDT     Продать  26460.97  0.039029   \n13 2023-09-14 12:36:50  Торги  BTC/USDT     Продать  26275.48  0.025537   \n14 2023-09-14 12:36:50  Торги  BTC/USDT     Продать  26275.48  0.011417   \n15 2023-09-14 12:36:50  Торги  BTC/USDT     Продать  26275.48  0.001500   \n16 2023-09-14 09:29:31  Торги  BTC/USDT     Продать  26263.90  0.001976   \n17 2023-09-13 00:06:29  Торги  BTC/USDT     Продать  26090.24  0.005131   \n18 2023-09-12 18:33:56  Торги  BTC/USDT     Продать  26186.33  0.005569   \n19 2023-09-12 17:35:55  Торги  BTC/USDT     Продать  26178.77  0.002000   \n20 2023-09-12 16:09:32  Торги  BTC/USDT     Продать  26114.00  0.001600   \n21 2023-09-12 16:09:32  Торги  BTC/USDT     Продать  26114.00  0.001110   \n22 2023-09-12 16:09:32  Торги  BTC/USDT     Продать  26114.00  0.001700   \n23 2023-09-11 22:31:55  Торги  BTC/USDT     Продать  25124.48  0.008270   \n24 2023-09-11 22:31:55  Торги  BTC/USDT     Продать  25124.48  0.026381   \n\n          Сумма        Комиссия  Unnamed: 8  \n0   1022.184805  1.73771416USDT         NaN  \n1   1032.872145  1.75588264USDT         NaN  \n2     13.239855  0.02250775USDT         NaN  \n3    134.509828  0.22866670USDT         NaN  \n4    257.805440  0.43826924USDT         NaN  \n5    352.875245  0.59988791USDT         NaN  \n6    203.429400  0.34582997USDT         NaN  \n7   1229.110195  2.08948733USDT         NaN  \n8   1084.789579  1.84414228USDT         NaN  \n9     31.887600  0.05420892USDT         NaN  \n10  1234.947924  2.09941147USDT         NaN  \n11   475.491498  0.80833554USDT         NaN  \n12  1032.745198  1.75566683USDT         NaN  \n13   670.996933  1.14069478USDT         NaN  \n14   299.987155  0.50997816USDT         NaN  \n15    39.413220  0.06700247USDT         NaN  \n16    51.897466  0.08822569USDT         NaN  \n17   133.869021  0.22757733USDT         NaN  \n18   145.831672  0.24791384USDT         NaN  \n19    52.357540  0.08900781USDT         NaN  \n20    41.782400  0.07103008USDT         NaN  \n21    28.986540  0.04927711USDT         NaN  \n22    44.393800  0.07546946USDT         NaN  \n23   207.779450  0.35322506USDT         NaN  \n24   662.808907  1.12677514USDT         NaN  ",
      "text/html": "<div>\n<style scoped>\n    .dataframe tbody tr th:only-of-type {\n        vertical-align: middle;\n    }\n\n    .dataframe tbody tr th {\n        vertical-align: top;\n    }\n\n    .dataframe thead th {\n        text-align: right;\n    }\n</style>\n<table border=\"1\" class=\"dataframe\">\n  <thead>\n    <tr style=\"text-align: right;\">\n      <th></th>\n      <th>Дата</th>\n      <th>Тип</th>\n      <th>Пара</th>\n      <th>Направление</th>\n      <th>Цена</th>\n      <th>Объем</th>\n      <th>Сумма</th>\n      <th>Комиссия</th>\n      <th>Unnamed: 8</th>\n    </tr>\n  </thead>\n  <tbody>\n    <tr>\n      <th>0</th>\n      <td>2023-09-15 15:49:04</td>\n      <td>Торги</td>\n      <td>BTC/USDT</td>\n      <td>Продать</td>\n      <td>26376.24</td>\n      <td>0.038754</td>\n      <td>1022.184805</td>\n      <td>1.73771416USDT</td>\n      <td>NaN</td>\n    </tr>\n    <tr>\n      <th>1</th>\n      <td>2023-09-15 07:09:26</td>\n      <td>Торги</td>\n      <td>ETH/USDT</td>\n      <td>Продать</td>\n      <td>1634.55</td>\n      <td>0.631900</td>\n      <td>1032.872145</td>\n      <td>1.75588264USDT</td>\n      <td>NaN</td>\n    </tr>\n    <tr>\n      <th>2</th>\n      <td>2023-09-15 07:09:26</td>\n      <td>Торги</td>\n      <td>ETH/USDT</td>\n      <td>Продать</td>\n      <td>1634.55</td>\n      <td>0.008100</td>\n      <td>13.239855</td>\n      <td>0.02250775USDT</td>\n      <td>NaN</td>\n    </tr>\n    <tr>\n      <th>3</th>\n      <td>2023-09-15 00:08:42</td>\n      <td>Торги</td>\n      <td>BTC/USDT</td>\n      <td>Продать</td>\n      <td>26598.74</td>\n      <td>0.005057</td>\n      <td>134.509828</td>\n      <td>0.22866670USDT</td>\n      <td>NaN</td>\n    </tr>\n    <tr>\n      <th>4</th>\n      <td>2023-09-14 23:27:00</td>\n      <td>Торги</td>\n      <td>ETH/USDT</td>\n      <td>Продать</td>\n      <td>1631.68</td>\n      <td>0.158000</td>\n      <td>257.805440</td>\n      <td>0.43826924USDT</td>\n      <td>NaN</td>\n    </tr>\n    <tr>\n      <th>5</th>\n      <td>2023-09-14 23:26:50</td>\n      <td>Торги</td>\n      <td>BTC/USDT</td>\n      <td>Продать</td>\n      <td>26605.99</td>\n      <td>0.013263</td>\n      <td>352.875245</td>\n      <td>0.59988791USDT</td>\n      <td>NaN</td>\n    </tr>\n    <tr>\n      <th>6</th>\n      <td>2023-09-14 23:26:50</td>\n      <td>Торги</td>\n      <td>BTC/USDT</td>\n      <td>Продать</td>\n      <td>26605.99</td>\n      <td>0.007646</td>\n      <td>203.429400</td>\n      <td>0.34582997USDT</td>\n      <td>NaN</td>\n    </tr>\n    <tr>\n      <th>7</th>\n      <td>2023-09-14 22:24:08</td>\n      <td>Торги</td>\n      <td>BTC/USDT</td>\n      <td>Продать</td>\n      <td>26621.98</td>\n      <td>0.046169</td>\n      <td>1229.110195</td>\n      <td>2.08948733USDT</td>\n      <td>NaN</td>\n    </tr>\n    <tr>\n      <th>8</th>\n      <td>2023-09-14 19:49:56</td>\n      <td>Торги</td>\n      <td>BTC/USDT</td>\n      <td>Продать</td>\n      <td>26573.00</td>\n      <td>0.040823</td>\n      <td>1084.789579</td>\n      <td>1.84414228USDT</td>\n      <td>NaN</td>\n    </tr>\n    <tr>\n      <th>9</th>\n      <td>2023-09-14 19:49:56</td>\n      <td>Торги</td>\n      <td>BTC/USDT</td>\n      <td>Продать</td>\n      <td>26573.00</td>\n      <td>0.001200</td>\n      <td>31.887600</td>\n      <td>0.05420892USDT</td>\n      <td>NaN</td>\n    </tr>\n    <tr>\n      <th>10</th>\n      <td>2023-09-14 15:33:04</td>\n      <td>Торги</td>\n      <td>BTC/USDT</td>\n      <td>Продать</td>\n      <td>26388.34</td>\n      <td>0.046799</td>\n      <td>1234.947924</td>\n      <td>2.09941147USDT</td>\n      <td>NaN</td>\n    </tr>\n    <tr>\n      <th>11</th>\n      <td>2023-09-14 15:33:04</td>\n      <td>Торги</td>\n      <td>BTC/USDT</td>\n      <td>Продать</td>\n      <td>26388.34</td>\n      <td>0.018019</td>\n      <td>475.491498</td>\n      <td>0.80833554USDT</td>\n      <td>NaN</td>\n    </tr>\n    <tr>\n      <th>12</th>\n      <td>2023-09-14 15:00:03</td>\n      <td>Торги</td>\n      <td>BTC/USDT</td>\n      <td>Продать</td>\n      <td>26460.97</td>\n      <td>0.039029</td>\n      <td>1032.745198</td>\n      <td>1.75566683USDT</td>\n      <td>NaN</td>\n    </tr>\n    <tr>\n      <th>13</th>\n      <td>2023-09-14 12:36:50</td>\n      <td>Торги</td>\n      <td>BTC/USDT</td>\n      <td>Продать</td>\n      <td>26275.48</td>\n      <td>0.025537</td>\n      <td>670.996933</td>\n      <td>1.14069478USDT</td>\n      <td>NaN</td>\n    </tr>\n    <tr>\n      <th>14</th>\n      <td>2023-09-14 12:36:50</td>\n      <td>Торги</td>\n      <td>BTC/USDT</td>\n      <td>Продать</td>\n      <td>26275.48</td>\n      <td>0.011417</td>\n      <td>299.987155</td>\n      <td>0.50997816USDT</td>\n      <td>NaN</td>\n    </tr>\n    <tr>\n      <th>15</th>\n      <td>2023-09-14 12:36:50</td>\n      <td>Торги</td>\n      <td>BTC/USDT</td>\n      <td>Продать</td>\n      <td>26275.48</td>\n      <td>0.001500</td>\n      <td>39.413220</td>\n      <td>0.06700247USDT</td>\n      <td>NaN</td>\n    </tr>\n    <tr>\n      <th>16</th>\n      <td>2023-09-14 09:29:31</td>\n      <td>Торги</td>\n      <td>BTC/USDT</td>\n      <td>Продать</td>\n      <td>26263.90</td>\n      <td>0.001976</td>\n      <td>51.897466</td>\n      <td>0.08822569USDT</td>\n      <td>NaN</td>\n    </tr>\n    <tr>\n      <th>17</th>\n      <td>2023-09-13 00:06:29</td>\n      <td>Торги</td>\n      <td>BTC/USDT</td>\n      <td>Продать</td>\n      <td>26090.24</td>\n      <td>0.005131</td>\n      <td>133.869021</td>\n      <td>0.22757733USDT</td>\n      <td>NaN</td>\n    </tr>\n    <tr>\n      <th>18</th>\n      <td>2023-09-12 18:33:56</td>\n      <td>Торги</td>\n      <td>BTC/USDT</td>\n      <td>Продать</td>\n      <td>26186.33</td>\n      <td>0.005569</td>\n      <td>145.831672</td>\n      <td>0.24791384USDT</td>\n      <td>NaN</td>\n    </tr>\n    <tr>\n      <th>19</th>\n      <td>2023-09-12 17:35:55</td>\n      <td>Торги</td>\n      <td>BTC/USDT</td>\n      <td>Продать</td>\n      <td>26178.77</td>\n      <td>0.002000</td>\n      <td>52.357540</td>\n      <td>0.08900781USDT</td>\n      <td>NaN</td>\n    </tr>\n    <tr>\n      <th>20</th>\n      <td>2023-09-12 16:09:32</td>\n      <td>Торги</td>\n      <td>BTC/USDT</td>\n      <td>Продать</td>\n      <td>26114.00</td>\n      <td>0.001600</td>\n      <td>41.782400</td>\n      <td>0.07103008USDT</td>\n      <td>NaN</td>\n    </tr>\n    <tr>\n      <th>21</th>\n      <td>2023-09-12 16:09:32</td>\n      <td>Торги</td>\n      <td>BTC/USDT</td>\n      <td>Продать</td>\n      <td>26114.00</td>\n      <td>0.001110</td>\n      <td>28.986540</td>\n      <td>0.04927711USDT</td>\n      <td>NaN</td>\n    </tr>\n    <tr>\n      <th>22</th>\n      <td>2023-09-12 16:09:32</td>\n      <td>Торги</td>\n      <td>BTC/USDT</td>\n      <td>Продать</td>\n      <td>26114.00</td>\n      <td>0.001700</td>\n      <td>44.393800</td>\n      <td>0.07546946USDT</td>\n      <td>NaN</td>\n    </tr>\n    <tr>\n      <th>23</th>\n      <td>2023-09-11 22:31:55</td>\n      <td>Торги</td>\n      <td>BTC/USDT</td>\n      <td>Продать</td>\n      <td>25124.48</td>\n      <td>0.008270</td>\n      <td>207.779450</td>\n      <td>0.35322506USDT</td>\n      <td>NaN</td>\n    </tr>\n    <tr>\n      <th>24</th>\n      <td>2023-09-11 22:31:55</td>\n      <td>Торги</td>\n      <td>BTC/USDT</td>\n      <td>Продать</td>\n      <td>25124.48</td>\n      <td>0.026381</td>\n      <td>662.808907</td>\n      <td>1.12677514USDT</td>\n      <td>NaN</td>\n    </tr>\n  </tbody>\n</table>\n</div>"
     },
     "metadata": {},
     "output_type": "display_data"
    }
   ],
   "source": [
    "huobi_history_spot['Дата'] = pd.to_datetime(huobi_history_spot['Дата'])\n",
    "huobi_history_spot['Дата'] = huobi_history_spot['Дата'] - timedelta(hours=5)\n",
    "display(huobi_history_spot)"
   ],
   "metadata": {
    "collapsed": false,
    "ExecuteTime": {
     "end_time": "2023-09-26T20:59:42.373369100Z",
     "start_time": "2023-09-26T20:59:42.243818Z"
    }
   },
   "id": "ce9b8d287f97c2d0"
  },
  {
   "cell_type": "code",
   "execution_count": 33,
   "outputs": [
    {
     "data": {
      "text/plain": "                  Дата    Тип      Пара Направление      Цена     Объем  \\\n23 2023-09-11 22:31:55  Торги  BTC/USDT     Продать  25124.48  0.008270   \n24 2023-09-11 22:31:55  Торги  BTC/USDT     Продать  25124.48  0.026381   \n\n         Сумма        Комиссия  Unnamed: 8  \n23  207.779450  0.35322506USDT         NaN  \n24  662.808907  1.12677514USDT         NaN  ",
      "text/html": "<div>\n<style scoped>\n    .dataframe tbody tr th:only-of-type {\n        vertical-align: middle;\n    }\n\n    .dataframe tbody tr th {\n        vertical-align: top;\n    }\n\n    .dataframe thead th {\n        text-align: right;\n    }\n</style>\n<table border=\"1\" class=\"dataframe\">\n  <thead>\n    <tr style=\"text-align: right;\">\n      <th></th>\n      <th>Дата</th>\n      <th>Тип</th>\n      <th>Пара</th>\n      <th>Направление</th>\n      <th>Цена</th>\n      <th>Объем</th>\n      <th>Сумма</th>\n      <th>Комиссия</th>\n      <th>Unnamed: 8</th>\n    </tr>\n  </thead>\n  <tbody>\n    <tr>\n      <th>23</th>\n      <td>2023-09-11 22:31:55</td>\n      <td>Торги</td>\n      <td>BTC/USDT</td>\n      <td>Продать</td>\n      <td>25124.48</td>\n      <td>0.008270</td>\n      <td>207.779450</td>\n      <td>0.35322506USDT</td>\n      <td>NaN</td>\n    </tr>\n    <tr>\n      <th>24</th>\n      <td>2023-09-11 22:31:55</td>\n      <td>Торги</td>\n      <td>BTC/USDT</td>\n      <td>Продать</td>\n      <td>25124.48</td>\n      <td>0.026381</td>\n      <td>662.808907</td>\n      <td>1.12677514USDT</td>\n      <td>NaN</td>\n    </tr>\n  </tbody>\n</table>\n</div>"
     },
     "metadata": {},
     "output_type": "display_data"
    }
   ],
   "source": [
    "tolerance = timedelta(minutes=5)\n",
    "huobi_history_spot['Дата'] = pd.to_datetime(huobi_history_spot['Дата'])\n",
    "filtered_data_huobi_history_p2p_copy = filtered_data_huobi_history_p2p.copy()\n",
    "filtered_data_huobi_history_p2p_copy['Время'] = pd.to_datetime(filtered_data_huobi_history_p2p_copy['Время'])\n",
    "filtered_time_huobi_spot = huobi_history_spot[huobi_history_spot['Дата'].apply(lambda x: any(abs(x - filtered_data_huobi_history_p2p_copy['Время']) < tolerance))]\n",
    "display(filtered_time_huobi_spot)"
   ],
   "metadata": {
    "collapsed": false,
    "ExecuteTime": {
     "end_time": "2023-09-26T20:59:42.482577800Z",
     "start_time": "2023-09-26T20:59:42.257818500Z"
    }
   },
   "id": "63cda8a3d09e0bab"
  },
  {
   "cell_type": "code",
   "execution_count": 34,
   "outputs": [
    {
     "data": {
      "text/plain": "       Пара      Цена  Комиссия\n0  BTC/USDT  25124.48      1.48",
      "text/html": "<div>\n<style scoped>\n    .dataframe tbody tr th:only-of-type {\n        vertical-align: middle;\n    }\n\n    .dataframe tbody tr th {\n        vertical-align: top;\n    }\n\n    .dataframe thead th {\n        text-align: right;\n    }\n</style>\n<table border=\"1\" class=\"dataframe\">\n  <thead>\n    <tr style=\"text-align: right;\">\n      <th></th>\n      <th>Пара</th>\n      <th>Цена</th>\n      <th>Комиссия</th>\n    </tr>\n  </thead>\n  <tbody>\n    <tr>\n      <th>0</th>\n      <td>BTC/USDT</td>\n      <td>25124.48</td>\n      <td>1.48</td>\n    </tr>\n  </tbody>\n</table>\n</div>"
     },
     "metadata": {},
     "output_type": "display_data"
    }
   ],
   "source": [
    "filtered_time_huobi_spot = filtered_time_huobi_spot.copy()\n",
    "filtered_time_huobi_spot['Комиссия'] = filtered_time_huobi_spot['Комиссия'].astype(str).str.replace(r'[^\\d.]', '', regex=True)\n",
    "filtered_time_huobi_spot['Комиссия'] = pd.to_numeric(filtered_time_huobi_spot['Комиссия'])\n",
    "\n",
    "huobi_spot_mean_sum = filtered_time_huobi_spot.groupby('Пара').agg({'Цена': 'mean', 'Комиссия': 'sum'})\n",
    "huobi_spot_mean_sum.reset_index(inplace=True)\n",
    "display(huobi_spot_mean_sum)\n",
    "# filtered_df = huobi_spot_mean_sum[huobi_spot_mean_sum['Пара'].str.contains('BTC')]\n",
    "# display(filtered_df)"
   ],
   "metadata": {
    "collapsed": false,
    "ExecuteTime": {
     "end_time": "2023-09-26T20:59:42.483577800Z",
     "start_time": "2023-09-26T20:59:42.289369300Z"
    }
   },
   "id": "c2037668df84eaf8"
  },
  {
   "cell_type": "code",
   "execution_count": 35,
   "outputs": [],
   "source": [
    "from openpyxl import load_workbook\n",
    "from openpyxl.styles import Font, Alignment\n",
    "from openpyxl.utils import coordinate_to_tuple\n",
    "import re"
   ],
   "metadata": {
    "collapsed": false,
    "ExecuteTime": {
     "end_time": "2023-09-26T20:59:42.539172400Z",
     "start_time": "2023-09-26T20:59:42.304370100Z"
    }
   },
   "id": "e71f007ab430ff5a"
  },
  {
   "cell_type": "code",
   "execution_count": 36,
   "outputs": [],
   "source": [
    "def find_empty_cell_top(column_index, sheet):\n",
    "    # Поиск первой пустой ячейки сверху вниз\n",
    "    empty_cell = None\n",
    "    row_index = 3\n",
    "    \n",
    "    while empty_cell is None:\n",
    "        cell_value = sheet.cell(row=row_index, column=column_index).value\n",
    "        if cell_value is None:\n",
    "            empty_cell = sheet.cell(row=row_index, column=column_index).coordinate\n",
    "        else:\n",
    "            row_index += 1\n",
    "            \n",
    "    return coordinate_to_tuple(empty_cell)\n",
    "\n",
    "def find_empty_cell_bottom(column_index, sheet):\n",
    "    # Поиск первой пустой ячейки сверху вниз\n",
    "    empty_cell = None\n",
    "    row_index = 194\n",
    "    \n",
    "    while empty_cell is None:\n",
    "        cell_value = sheet.cell(row=row_index, column=column_index).value\n",
    "        if cell_value is None:\n",
    "            empty_cell = sheet.cell(row=row_index, column=column_index).coordinate\n",
    "        else:\n",
    "            row_index -= 1\n",
    "            \n",
    "    return coordinate_to_tuple(empty_cell)"
   ],
   "metadata": {
    "collapsed": false,
    "ExecuteTime": {
     "end_time": "2023-09-26T20:59:42.586174Z",
     "start_time": "2023-09-26T20:59:42.323370100Z"
    }
   },
   "id": "251e431f39d1782a"
  },
  {
   "cell_type": "code",
   "execution_count": 37,
   "outputs": [
    {
     "data": {
      "text/plain": "       Пара      Цена  Комиссия   usdt/rub\n0  BTC/USDT  25124.48      1.48  96.174106",
      "text/html": "<div>\n<style scoped>\n    .dataframe tbody tr th:only-of-type {\n        vertical-align: middle;\n    }\n\n    .dataframe tbody tr th {\n        vertical-align: top;\n    }\n\n    .dataframe thead th {\n        text-align: right;\n    }\n</style>\n<table border=\"1\" class=\"dataframe\">\n  <thead>\n    <tr style=\"text-align: right;\">\n      <th></th>\n      <th>Пара</th>\n      <th>Цена</th>\n      <th>Комиссия</th>\n      <th>usdt/rub</th>\n    </tr>\n  </thead>\n  <tbody>\n    <tr>\n      <th>0</th>\n      <td>BTC/USDT</td>\n      <td>25124.48</td>\n      <td>1.48</td>\n      <td>96.174106</td>\n    </tr>\n  </tbody>\n</table>\n</div>"
     },
     "metadata": {},
     "output_type": "display_data"
    }
   ],
   "source": [
    "# Путь к существующему файлу Excel\n",
    "excel_file = '../docs/мой отчет p2p.xlsx'\n",
    "\n",
    "# Загрузка существующего файла Excel\n",
    "book = load_workbook(excel_file)\n",
    "\n",
    "# Выбор листа для записи данных\n",
    "sheet = book['11.09 ночная смена GarantexByBi']\n",
    "\n",
    "# Установка шрифта текста\n",
    "font = Font(name='Arial', size=12, bold=False, italic=False)\n",
    "\n",
    "# Установка выравнивания по центру\n",
    "alignment = Alignment(horizontal='center')\n",
    "\n",
    "# Координаты ячейки для начала записи данных\n",
    "cell_huobi_buy_usdt = find_empty_cell_top(7, sheet)\n",
    "cell_huobi_buy_mean = find_empty_cell_top(6, sheet)\n",
    "cell_huobi_buy_rub = find_empty_cell_top(5, sheet)\n",
    "cell_huobi_buy_market = find_empty_cell_top(4, sheet)\n",
    "\n",
    "\n",
    "for index, name_coin in enumerate(huobi_history_p2p_buy_sum_by_coin.index):\n",
    "    value_rub = huobi_history_p2p_buy_sum_by_coin.loc[name_coin]['Общая цена']\n",
    "    if not name_coin == 'USDT':\n",
    "        value_usdt = (huobi_spot_mean_sum[huobi_spot_mean_sum['Пара'].str.contains(name_coin)]['Цена'] * huobi_history_p2p_buy_sum_by_coin.loc[name_coin]['Количество']).values[0]\n",
    "        huobi_spot_mean_sum.loc[huobi_spot_mean_sum['Пара'].str.contains(name_coin), 'usdt/rub'] = value_rub / value_usdt\n",
    "        cell_coin = (cell_huobi_buy_market[0], 3)\n",
    "        cell_market = sheet.cell(row=cell_coin[0] + index, column=cell_coin[1])\n",
    "        cell_market.value = name_coin\n",
    "        cell_market.font = font\n",
    "        cell_market.alignment = alignment\n",
    "    else: \n",
    "        value_usdt = huobi_history_p2p_buy_sum_by_coin.loc[name_coin]['Количество']\n",
    "        \n",
    "    value_mean = value_rub / value_usdt\n",
    "    huobi_history_p2p_buy_sum_by_coin.loc[name_coin, 'usdt/rub'] = value_mean\n",
    "    \n",
    "    cell_usdt = sheet.cell(row=cell_huobi_buy_usdt[0] + index, column=cell_huobi_buy_usdt[1])\n",
    "    cell_usdt.value = value_usdt\n",
    "    cell_usdt.font = font\n",
    "    cell_usdt.alignment = alignment\n",
    "\n",
    "    cell_rub = sheet.cell(row=cell_huobi_buy_rub[0] + index, column=cell_huobi_buy_rub[1])\n",
    "    cell_rub.value = value_rub\n",
    "    cell_rub.font = font\n",
    "    cell_rub.alignment = alignment\n",
    "\n",
    "    cell_mean = sheet.cell(row=cell_huobi_buy_mean[0] + index, column=cell_huobi_buy_mean[1])\n",
    "    cell_mean.value = value_mean\n",
    "    cell_mean.font = font\n",
    "    cell_mean.alignment = alignment\n",
    "\n",
    "    cell_market = sheet.cell(row=cell_huobi_buy_market[0] + index, column=cell_huobi_buy_market[1])\n",
    "    cell_market.value = 'huobi'\n",
    "    cell_market.font = font\n",
    "    cell_market.alignment = alignment\n",
    "\n",
    "    value_rub, value_usdt = 0, 0\n",
    "\n",
    "display(huobi_spot_mean_sum)\n",
    "book.save(excel_file)"
   ],
   "metadata": {
    "collapsed": false,
    "ExecuteTime": {
     "end_time": "2023-09-26T20:59:43.161948800Z",
     "start_time": "2023-09-26T20:59:42.342369700Z"
    }
   },
   "id": "64f5fb4023f4cd81"
  },
  {
   "cell_type": "code",
   "execution_count": 38,
   "outputs": [],
   "source": [
    "# Путь к существующему файлу Excel\n",
    "excel_file = '../docs/мой отчет p2p.xlsx'\n",
    "\n",
    "# Загрузка существующего файла Excel\n",
    "book = load_workbook(excel_file)\n",
    "\n",
    "# Выбор листа для записи данных\n",
    "sheet = book['11.09 ночная смена GarantexByBi']\n",
    "\n",
    "# Установка шрифта текста\n",
    "font = Font(name='Arial', size=12, bold=False, italic=False)\n",
    "\n",
    "# Установка выравнивания по центру\n",
    "alignment = Alignment(horizontal='center')\n",
    "\n",
    "# Координаты ячейки для начала записи данных\n",
    "cell_huobi_komsa = find_empty_cell_bottom(7, sheet)\n",
    "cell_huobi_komsa_mean = find_empty_cell_bottom(6, sheet)\n",
    "cell_huobi_komsa_rub = find_empty_cell_bottom(5, sheet)\n",
    "cell_huobi_komsa_market = find_empty_cell_bottom(4, sheet)\n",
    "cell_huobi_komsa_name = find_empty_cell_bottom(3, sheet)\n",
    "\n",
    "huobi_spot_mean_sum.set_index('Пара', inplace=True)\n",
    "for index, value in enumerate(huobi_spot_mean_sum.index):\n",
    "    cell_komsa = sheet.cell(row=cell_huobi_komsa[0] + index, column=cell_huobi_komsa[1])\n",
    "    cell_komsa.value = huobi_spot_mean_sum.loc[value]['Комиссия'] * -1\n",
    "    cell_komsa.font = font\n",
    "    cell_komsa.alignment = alignment\n",
    "\n",
    "    cell_komsa_mean = sheet.cell(row=cell_huobi_komsa_mean[0] + index, column=cell_huobi_komsa_mean[1])\n",
    "    cell_komsa_mean.value = huobi_spot_mean_sum.loc[value]['usdt/rub']\n",
    "    cell_komsa_mean.font = font\n",
    "    cell_komsa_mean.alignment = alignment\n",
    "\n",
    "    cell_komsa_rub = sheet.cell(row=cell_huobi_komsa_rub[0] + index, column=cell_huobi_komsa_rub[1])\n",
    "    cell_komsa_rub.value = cell_komsa.value * cell_komsa_mean.value\n",
    "    cell_komsa_rub.font = font\n",
    "    cell_komsa_rub.alignment = alignment\n",
    "\n",
    "    cell_market = sheet.cell(row=cell_huobi_komsa_market[0] + index, column=cell_huobi_komsa_market[1])\n",
    "    cell_market.value = 'huobi'\n",
    "    cell_market.font = font\n",
    "    cell_market.alignment = alignment\n",
    "    \n",
    "    cell_komsa_name = sheet.cell(row=cell_huobi_komsa_name[0] + index, column=cell_huobi_komsa_name[1])\n",
    "    cell_komsa_name.value = 'komsa spot'\n",
    "    cell_komsa_name.font = font\n",
    "    cell_komsa_name.alignment = alignment\n",
    "\n",
    "book.save(excel_file)"
   ],
   "metadata": {
    "collapsed": false,
    "ExecuteTime": {
     "end_time": "2023-09-26T20:59:44.078801100Z",
     "start_time": "2023-09-26T20:59:43.165949800Z"
    }
   },
   "id": "1d616e591501c5ef"
  }
 ],
 "metadata": {
  "kernelspec": {
   "display_name": "Python 3",
   "language": "python",
   "name": "python3"
  },
  "language_info": {
   "codemirror_mode": {
    "name": "ipython",
    "version": 2
   },
   "file_extension": ".py",
   "mimetype": "text/x-python",
   "name": "python",
   "nbconvert_exporter": "python",
   "pygments_lexer": "ipython2",
   "version": "2.7.6"
  }
 },
 "nbformat": 4,
 "nbformat_minor": 5
}
