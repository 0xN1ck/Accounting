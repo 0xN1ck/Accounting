{
 "cells": [
  {
   "cell_type": "code",
   "execution_count": 8,
   "id": "initial_id",
   "metadata": {
    "collapsed": true,
    "ExecuteTime": {
     "end_time": "2023-09-19T20:13:11.062751800Z",
     "start_time": "2023-09-19T20:13:11.032751400Z"
    }
   },
   "outputs": [],
   "source": [
    "import pandas as pd\n",
    "from IPython.display import display\n",
    "from datetime import timedelta"
   ]
  },
  {
   "cell_type": "code",
   "execution_count": 5,
   "outputs": [],
   "source": [
    "huobi_history_p2p = pd.read_excel('../docs/huobi/huobi история p2p-ордеров 1109-1309.xlsx')"
   ],
   "metadata": {
    "collapsed": false,
    "ExecuteTime": {
     "end_time": "2023-09-19T20:10:45.181439700Z",
     "start_time": "2023-09-19T20:10:45.149441200Z"
    }
   },
   "id": "85786f36dadba017"
  },
  {
   "cell_type": "code",
   "execution_count": 9,
   "outputs": [
    {
     "data": {
      "text/plain": "                  Номер:      Тип Тип заказа Монета   Количество  Цена за ед.  \\\n0    1151365995502137344   Купить    Обычный   USDT   350.000000        96.23   \n1    1151365771509530624   Купить    Обычный   USDT  3249.236204        96.23   \n2    1151334081114312704   Купить    Обычный   USDT   220.230001        96.13   \n3    1151328318836867072   Купить    Обычный   USDT   207.856994        96.22   \n4    1151328131175309312   Купить    Обычный   USDT   272.390459        96.22   \n..                   ...      ...        ...    ...          ...          ...   \n141  1150922950289809408  Продать    Обычный   USDT   104.669061        97.45   \n142  1150921750857277440  Продать    Обычный   USDT  4104.669061        97.45   \n143  1150912410897248256  Продать    Обычный   USDT   400.000000        97.79   \n144  1150846170614882304  Продать    Обычный   USDT   914.355379        98.43   \n145  1150829094181429248  Продать    Обычный   USDT   507.665752        98.49   \n\n     Общая цена  Коммисия  Карта пополнения баланса Валюта  \\\n0      33680.50         0                         0    RUB   \n1     312674.00         0                         0    RUB   \n2      21170.71         0                         0    RUB   \n3      20000.00         0                         0    RUB   \n4      26209.41         0                         0    RUB   \n..          ...       ...                       ...    ...   \n141    10200.00         0                         0    RUB   \n142   400000.00         0                         0    RUB   \n143    39116.00         0                         0    RUB   \n144    90000.00         0                         0    RUB   \n145    50000.00         0                         0    RUB   \n\n                  Время     Статус Торговый партнер  \n0   2023-09-12 22:57:25  Завершено           cirbor  \n1   2023-09-12 22:56:31  Завершено          usdt644  \n2   2023-09-12 20:50:36  Завершено       rushis3248  \n3   2023-09-12 20:27:42  Завершено           V12AMG  \n4   2023-09-12 20:26:57  Завершено             Сйед  \n..                  ...        ...              ...  \n141 2023-09-11 17:36:54  Завершено        464812988  \n142 2023-09-11 17:32:09  Завершено        Archibald  \n143 2023-09-11 16:55:02  Завершено        452157919  \n144 2023-09-11 12:31:49  Завершено          Jump112  \n145 2023-09-11 11:23:57  Завершено        Anya-Mate  \n\n[146 rows x 13 columns]",
      "text/html": "<div>\n<style scoped>\n    .dataframe tbody tr th:only-of-type {\n        vertical-align: middle;\n    }\n\n    .dataframe tbody tr th {\n        vertical-align: top;\n    }\n\n    .dataframe thead th {\n        text-align: right;\n    }\n</style>\n<table border=\"1\" class=\"dataframe\">\n  <thead>\n    <tr style=\"text-align: right;\">\n      <th></th>\n      <th>Номер:</th>\n      <th>Тип</th>\n      <th>Тип заказа</th>\n      <th>Монета</th>\n      <th>Количество</th>\n      <th>Цена за ед.</th>\n      <th>Общая цена</th>\n      <th>Коммисия</th>\n      <th>Карта пополнения баланса</th>\n      <th>Валюта</th>\n      <th>Время</th>\n      <th>Статус</th>\n      <th>Торговый партнер</th>\n    </tr>\n  </thead>\n  <tbody>\n    <tr>\n      <th>0</th>\n      <td>1151365995502137344</td>\n      <td>Купить</td>\n      <td>Обычный</td>\n      <td>USDT</td>\n      <td>350.000000</td>\n      <td>96.23</td>\n      <td>33680.50</td>\n      <td>0</td>\n      <td>0</td>\n      <td>RUB</td>\n      <td>2023-09-12 22:57:25</td>\n      <td>Завершено</td>\n      <td>cirbor</td>\n    </tr>\n    <tr>\n      <th>1</th>\n      <td>1151365771509530624</td>\n      <td>Купить</td>\n      <td>Обычный</td>\n      <td>USDT</td>\n      <td>3249.236204</td>\n      <td>96.23</td>\n      <td>312674.00</td>\n      <td>0</td>\n      <td>0</td>\n      <td>RUB</td>\n      <td>2023-09-12 22:56:31</td>\n      <td>Завершено</td>\n      <td>usdt644</td>\n    </tr>\n    <tr>\n      <th>2</th>\n      <td>1151334081114312704</td>\n      <td>Купить</td>\n      <td>Обычный</td>\n      <td>USDT</td>\n      <td>220.230001</td>\n      <td>96.13</td>\n      <td>21170.71</td>\n      <td>0</td>\n      <td>0</td>\n      <td>RUB</td>\n      <td>2023-09-12 20:50:36</td>\n      <td>Завершено</td>\n      <td>rushis3248</td>\n    </tr>\n    <tr>\n      <th>3</th>\n      <td>1151328318836867072</td>\n      <td>Купить</td>\n      <td>Обычный</td>\n      <td>USDT</td>\n      <td>207.856994</td>\n      <td>96.22</td>\n      <td>20000.00</td>\n      <td>0</td>\n      <td>0</td>\n      <td>RUB</td>\n      <td>2023-09-12 20:27:42</td>\n      <td>Завершено</td>\n      <td>V12AMG</td>\n    </tr>\n    <tr>\n      <th>4</th>\n      <td>1151328131175309312</td>\n      <td>Купить</td>\n      <td>Обычный</td>\n      <td>USDT</td>\n      <td>272.390459</td>\n      <td>96.22</td>\n      <td>26209.41</td>\n      <td>0</td>\n      <td>0</td>\n      <td>RUB</td>\n      <td>2023-09-12 20:26:57</td>\n      <td>Завершено</td>\n      <td>Сйед</td>\n    </tr>\n    <tr>\n      <th>...</th>\n      <td>...</td>\n      <td>...</td>\n      <td>...</td>\n      <td>...</td>\n      <td>...</td>\n      <td>...</td>\n      <td>...</td>\n      <td>...</td>\n      <td>...</td>\n      <td>...</td>\n      <td>...</td>\n      <td>...</td>\n      <td>...</td>\n    </tr>\n    <tr>\n      <th>141</th>\n      <td>1150922950289809408</td>\n      <td>Продать</td>\n      <td>Обычный</td>\n      <td>USDT</td>\n      <td>104.669061</td>\n      <td>97.45</td>\n      <td>10200.00</td>\n      <td>0</td>\n      <td>0</td>\n      <td>RUB</td>\n      <td>2023-09-11 17:36:54</td>\n      <td>Завершено</td>\n      <td>464812988</td>\n    </tr>\n    <tr>\n      <th>142</th>\n      <td>1150921750857277440</td>\n      <td>Продать</td>\n      <td>Обычный</td>\n      <td>USDT</td>\n      <td>4104.669061</td>\n      <td>97.45</td>\n      <td>400000.00</td>\n      <td>0</td>\n      <td>0</td>\n      <td>RUB</td>\n      <td>2023-09-11 17:32:09</td>\n      <td>Завершено</td>\n      <td>Archibald</td>\n    </tr>\n    <tr>\n      <th>143</th>\n      <td>1150912410897248256</td>\n      <td>Продать</td>\n      <td>Обычный</td>\n      <td>USDT</td>\n      <td>400.000000</td>\n      <td>97.79</td>\n      <td>39116.00</td>\n      <td>0</td>\n      <td>0</td>\n      <td>RUB</td>\n      <td>2023-09-11 16:55:02</td>\n      <td>Завершено</td>\n      <td>452157919</td>\n    </tr>\n    <tr>\n      <th>144</th>\n      <td>1150846170614882304</td>\n      <td>Продать</td>\n      <td>Обычный</td>\n      <td>USDT</td>\n      <td>914.355379</td>\n      <td>98.43</td>\n      <td>90000.00</td>\n      <td>0</td>\n      <td>0</td>\n      <td>RUB</td>\n      <td>2023-09-11 12:31:49</td>\n      <td>Завершено</td>\n      <td>Jump112</td>\n    </tr>\n    <tr>\n      <th>145</th>\n      <td>1150829094181429248</td>\n      <td>Продать</td>\n      <td>Обычный</td>\n      <td>USDT</td>\n      <td>507.665752</td>\n      <td>98.49</td>\n      <td>50000.00</td>\n      <td>0</td>\n      <td>0</td>\n      <td>RUB</td>\n      <td>2023-09-11 11:23:57</td>\n      <td>Завершено</td>\n      <td>Anya-Mate</td>\n    </tr>\n  </tbody>\n</table>\n<p>146 rows × 13 columns</p>\n</div>"
     },
     "metadata": {},
     "output_type": "display_data"
    }
   ],
   "source": [
    "huobi_history_p2p['Время'] = pd.to_datetime(huobi_history_p2p['Время'])\n",
    "huobi_history_p2p['Время'] = huobi_history_p2p['Время'] - timedelta(hours=5)\n",
    "display(huobi_history_p2p)"
   ],
   "metadata": {
    "collapsed": false,
    "ExecuteTime": {
     "end_time": "2023-09-19T20:13:26.276645200Z",
     "start_time": "2023-09-19T20:13:26.246068400Z"
    }
   },
   "id": "867d54fc2501bcc2"
  },
  {
   "cell_type": "code",
   "execution_count": 10,
   "outputs": [
    {
     "data": {
      "text/plain": "                  Номер:      Тип Тип заказа Монета   Количество  Цена за ед.  \\\n36   1151060111408402432   Купить    Обычный   USDT   833.407492        96.10   \n37   1151012598026502144   Купить    Обычный   USDT  1347.000000        96.51   \n38   1151012006713520128   Купить    Обычный   USDT  2072.324111        96.51   \n39   1150996444801306624   Купить    Обычный    BTC     0.022886   2416315.00   \n125  1151095500236021760  Продать    Обычный   USDT   537.912485        96.67   \n126  1151085992587722752  Продать    Обычный   USDT   204.624514        97.74   \n127  1151082382692880384  Продать    Обычный   USDT   688.804359        97.27   \n128  1151077526305398784  Продать    Обычный   USDT   408.872533        97.83   \n129  1151069513540591616  Продать    Обычный   USDT   483.426823        98.05   \n130  1151058679544311808  Продать    Обычный   USDT  3100.855053        97.07   \n131  1150970903046025216  Продать    Обычный   USDT  1027.854866        97.29   \n132  1150970074310275072  Продать    Обычный   USDT   514.244574        97.23   \n133  1150968530458284032  Продать    Обычный   USDT  1440.032915        97.22   \n134  1150968071148437504  Продать    Обычный   USDT  1440.032915        97.22   \n135  1150967470624772096  Продать    Обычный   USDT   308.578481        97.22   \n136  1150966938929618944  Продать    Обычный   USDT   617.156963        97.22   \n137  1150961252720078848  Продать    Обычный   USDT   308.229733        97.33   \n138  1150949775770542080  Продать    Обычный   USDT  1027.115858        97.36   \n139  1150949439777443840  Продать    Обычный   USDT  1181.183237        97.36   \n\n     Общая цена  Коммисия  Карта пополнения баланса Валюта  \\\n36     80090.46         0                         0    RUB   \n37    129998.97         0                         0    RUB   \n38    200000.00         0                         0    RUB   \n39     55300.00         0                         0    RUB   \n125    52000.00         0                         0    RUB   \n126    20000.00         0                         0    RUB   \n127    67000.00         0                         0    RUB   \n128    40000.00         0                         0    RUB   \n129    47400.00         0                         0    RUB   \n130   301000.00         0                         0    RUB   \n131   100000.00         0                         0    RUB   \n132    50000.00         0                         0    RUB   \n133   140000.00         0                         0    RUB   \n134   140000.00         0                         0    RUB   \n135    30000.00         0                         0    RUB   \n136    60000.00         0                         0    RUB   \n137    30000.00         0                         0    RUB   \n138   100000.00         0                         0    RUB   \n139   115000.00         0                         0    RUB   \n\n                  Время     Статус Торговый партнер  \n36  2023-09-12 02:41:56  Завершено            Zm174  \n37  2023-09-11 23:33:08  Завершено     MascotTrader  \n38  2023-09-11 23:30:47  Завершено        ramzes920  \n39  2023-09-11 22:28:57  Завершено         wezowezo  \n125 2023-09-12 05:02:34  Завершено        463128815  \n126 2023-09-12 04:24:47  Завершено        219405738  \n127 2023-09-12 04:10:26  Завершено     Vito_Soprano  \n128 2023-09-12 03:51:08  Завершено       IUliia8A4D  \n129 2023-09-12 03:19:18  Завершено         Mdro1011  \n130 2023-09-12 02:36:15  Завершено          ALENA12  \n131 2023-09-11 20:47:27  Завершено              NaN  \n132 2023-09-11 20:44:10  Завершено       semidvorki  \n133 2023-09-11 20:38:02  Завершено       Pasha_3303  \n134 2023-09-11 20:36:12  Завершено       Pasha_3303  \n135 2023-09-11 20:33:49  Завершено         Bronvald  \n136 2023-09-11 20:31:42  Завершено       Sergei Mex  \n137 2023-09-11 20:09:06  Завершено         andreysh  \n138 2023-09-11 19:23:30  Завершено            LLleF  \n139 2023-09-11 19:22:10  Завершено        429589573  ",
      "text/html": "<div>\n<style scoped>\n    .dataframe tbody tr th:only-of-type {\n        vertical-align: middle;\n    }\n\n    .dataframe tbody tr th {\n        vertical-align: top;\n    }\n\n    .dataframe thead th {\n        text-align: right;\n    }\n</style>\n<table border=\"1\" class=\"dataframe\">\n  <thead>\n    <tr style=\"text-align: right;\">\n      <th></th>\n      <th>Номер:</th>\n      <th>Тип</th>\n      <th>Тип заказа</th>\n      <th>Монета</th>\n      <th>Количество</th>\n      <th>Цена за ед.</th>\n      <th>Общая цена</th>\n      <th>Коммисия</th>\n      <th>Карта пополнения баланса</th>\n      <th>Валюта</th>\n      <th>Время</th>\n      <th>Статус</th>\n      <th>Торговый партнер</th>\n    </tr>\n  </thead>\n  <tbody>\n    <tr>\n      <th>36</th>\n      <td>1151060111408402432</td>\n      <td>Купить</td>\n      <td>Обычный</td>\n      <td>USDT</td>\n      <td>833.407492</td>\n      <td>96.10</td>\n      <td>80090.46</td>\n      <td>0</td>\n      <td>0</td>\n      <td>RUB</td>\n      <td>2023-09-12 02:41:56</td>\n      <td>Завершено</td>\n      <td>Zm174</td>\n    </tr>\n    <tr>\n      <th>37</th>\n      <td>1151012598026502144</td>\n      <td>Купить</td>\n      <td>Обычный</td>\n      <td>USDT</td>\n      <td>1347.000000</td>\n      <td>96.51</td>\n      <td>129998.97</td>\n      <td>0</td>\n      <td>0</td>\n      <td>RUB</td>\n      <td>2023-09-11 23:33:08</td>\n      <td>Завершено</td>\n      <td>MascotTrader</td>\n    </tr>\n    <tr>\n      <th>38</th>\n      <td>1151012006713520128</td>\n      <td>Купить</td>\n      <td>Обычный</td>\n      <td>USDT</td>\n      <td>2072.324111</td>\n      <td>96.51</td>\n      <td>200000.00</td>\n      <td>0</td>\n      <td>0</td>\n      <td>RUB</td>\n      <td>2023-09-11 23:30:47</td>\n      <td>Завершено</td>\n      <td>ramzes920</td>\n    </tr>\n    <tr>\n      <th>39</th>\n      <td>1150996444801306624</td>\n      <td>Купить</td>\n      <td>Обычный</td>\n      <td>BTC</td>\n      <td>0.022886</td>\n      <td>2416315.00</td>\n      <td>55300.00</td>\n      <td>0</td>\n      <td>0</td>\n      <td>RUB</td>\n      <td>2023-09-11 22:28:57</td>\n      <td>Завершено</td>\n      <td>wezowezo</td>\n    </tr>\n    <tr>\n      <th>125</th>\n      <td>1151095500236021760</td>\n      <td>Продать</td>\n      <td>Обычный</td>\n      <td>USDT</td>\n      <td>537.912485</td>\n      <td>96.67</td>\n      <td>52000.00</td>\n      <td>0</td>\n      <td>0</td>\n      <td>RUB</td>\n      <td>2023-09-12 05:02:34</td>\n      <td>Завершено</td>\n      <td>463128815</td>\n    </tr>\n    <tr>\n      <th>126</th>\n      <td>1151085992587722752</td>\n      <td>Продать</td>\n      <td>Обычный</td>\n      <td>USDT</td>\n      <td>204.624514</td>\n      <td>97.74</td>\n      <td>20000.00</td>\n      <td>0</td>\n      <td>0</td>\n      <td>RUB</td>\n      <td>2023-09-12 04:24:47</td>\n      <td>Завершено</td>\n      <td>219405738</td>\n    </tr>\n    <tr>\n      <th>127</th>\n      <td>1151082382692880384</td>\n      <td>Продать</td>\n      <td>Обычный</td>\n      <td>USDT</td>\n      <td>688.804359</td>\n      <td>97.27</td>\n      <td>67000.00</td>\n      <td>0</td>\n      <td>0</td>\n      <td>RUB</td>\n      <td>2023-09-12 04:10:26</td>\n      <td>Завершено</td>\n      <td>Vito_Soprano</td>\n    </tr>\n    <tr>\n      <th>128</th>\n      <td>1151077526305398784</td>\n      <td>Продать</td>\n      <td>Обычный</td>\n      <td>USDT</td>\n      <td>408.872533</td>\n      <td>97.83</td>\n      <td>40000.00</td>\n      <td>0</td>\n      <td>0</td>\n      <td>RUB</td>\n      <td>2023-09-12 03:51:08</td>\n      <td>Завершено</td>\n      <td>IUliia8A4D</td>\n    </tr>\n    <tr>\n      <th>129</th>\n      <td>1151069513540591616</td>\n      <td>Продать</td>\n      <td>Обычный</td>\n      <td>USDT</td>\n      <td>483.426823</td>\n      <td>98.05</td>\n      <td>47400.00</td>\n      <td>0</td>\n      <td>0</td>\n      <td>RUB</td>\n      <td>2023-09-12 03:19:18</td>\n      <td>Завершено</td>\n      <td>Mdro1011</td>\n    </tr>\n    <tr>\n      <th>130</th>\n      <td>1151058679544311808</td>\n      <td>Продать</td>\n      <td>Обычный</td>\n      <td>USDT</td>\n      <td>3100.855053</td>\n      <td>97.07</td>\n      <td>301000.00</td>\n      <td>0</td>\n      <td>0</td>\n      <td>RUB</td>\n      <td>2023-09-12 02:36:15</td>\n      <td>Завершено</td>\n      <td>ALENA12</td>\n    </tr>\n    <tr>\n      <th>131</th>\n      <td>1150970903046025216</td>\n      <td>Продать</td>\n      <td>Обычный</td>\n      <td>USDT</td>\n      <td>1027.854866</td>\n      <td>97.29</td>\n      <td>100000.00</td>\n      <td>0</td>\n      <td>0</td>\n      <td>RUB</td>\n      <td>2023-09-11 20:47:27</td>\n      <td>Завершено</td>\n      <td>NaN</td>\n    </tr>\n    <tr>\n      <th>132</th>\n      <td>1150970074310275072</td>\n      <td>Продать</td>\n      <td>Обычный</td>\n      <td>USDT</td>\n      <td>514.244574</td>\n      <td>97.23</td>\n      <td>50000.00</td>\n      <td>0</td>\n      <td>0</td>\n      <td>RUB</td>\n      <td>2023-09-11 20:44:10</td>\n      <td>Завершено</td>\n      <td>semidvorki</td>\n    </tr>\n    <tr>\n      <th>133</th>\n      <td>1150968530458284032</td>\n      <td>Продать</td>\n      <td>Обычный</td>\n      <td>USDT</td>\n      <td>1440.032915</td>\n      <td>97.22</td>\n      <td>140000.00</td>\n      <td>0</td>\n      <td>0</td>\n      <td>RUB</td>\n      <td>2023-09-11 20:38:02</td>\n      <td>Завершено</td>\n      <td>Pasha_3303</td>\n    </tr>\n    <tr>\n      <th>134</th>\n      <td>1150968071148437504</td>\n      <td>Продать</td>\n      <td>Обычный</td>\n      <td>USDT</td>\n      <td>1440.032915</td>\n      <td>97.22</td>\n      <td>140000.00</td>\n      <td>0</td>\n      <td>0</td>\n      <td>RUB</td>\n      <td>2023-09-11 20:36:12</td>\n      <td>Завершено</td>\n      <td>Pasha_3303</td>\n    </tr>\n    <tr>\n      <th>135</th>\n      <td>1150967470624772096</td>\n      <td>Продать</td>\n      <td>Обычный</td>\n      <td>USDT</td>\n      <td>308.578481</td>\n      <td>97.22</td>\n      <td>30000.00</td>\n      <td>0</td>\n      <td>0</td>\n      <td>RUB</td>\n      <td>2023-09-11 20:33:49</td>\n      <td>Завершено</td>\n      <td>Bronvald</td>\n    </tr>\n    <tr>\n      <th>136</th>\n      <td>1150966938929618944</td>\n      <td>Продать</td>\n      <td>Обычный</td>\n      <td>USDT</td>\n      <td>617.156963</td>\n      <td>97.22</td>\n      <td>60000.00</td>\n      <td>0</td>\n      <td>0</td>\n      <td>RUB</td>\n      <td>2023-09-11 20:31:42</td>\n      <td>Завершено</td>\n      <td>Sergei Mex</td>\n    </tr>\n    <tr>\n      <th>137</th>\n      <td>1150961252720078848</td>\n      <td>Продать</td>\n      <td>Обычный</td>\n      <td>USDT</td>\n      <td>308.229733</td>\n      <td>97.33</td>\n      <td>30000.00</td>\n      <td>0</td>\n      <td>0</td>\n      <td>RUB</td>\n      <td>2023-09-11 20:09:06</td>\n      <td>Завершено</td>\n      <td>andreysh</td>\n    </tr>\n    <tr>\n      <th>138</th>\n      <td>1150949775770542080</td>\n      <td>Продать</td>\n      <td>Обычный</td>\n      <td>USDT</td>\n      <td>1027.115858</td>\n      <td>97.36</td>\n      <td>100000.00</td>\n      <td>0</td>\n      <td>0</td>\n      <td>RUB</td>\n      <td>2023-09-11 19:23:30</td>\n      <td>Завершено</td>\n      <td>LLleF</td>\n    </tr>\n    <tr>\n      <th>139</th>\n      <td>1150949439777443840</td>\n      <td>Продать</td>\n      <td>Обычный</td>\n      <td>USDT</td>\n      <td>1181.183237</td>\n      <td>97.36</td>\n      <td>115000.00</td>\n      <td>0</td>\n      <td>0</td>\n      <td>RUB</td>\n      <td>2023-09-11 19:22:10</td>\n      <td>Завершено</td>\n      <td>429589573</td>\n    </tr>\n  </tbody>\n</table>\n</div>"
     },
     "metadata": {},
     "output_type": "display_data"
    }
   ],
   "source": [
    "filtered_data_huobi_history_p2p = huobi_history_p2p[(huobi_history_p2p['Время'] >= '2023-09-11 19:00:00') & (huobi_history_p2p['Время'] <= '2023-09-12 07:00:00')]\n",
    "display(filtered_data_huobi_history_p2p)"
   ],
   "metadata": {
    "collapsed": false,
    "ExecuteTime": {
     "end_time": "2023-09-19T20:13:30.108550700Z",
     "start_time": "2023-09-19T20:13:30.075552500Z"
    }
   },
   "id": "4d187e24aa27cab2"
  },
  {
   "cell_type": "code",
   "execution_count": 11,
   "outputs": [],
   "source": [
    "from openpyxl import load_workbook\n",
    "from openpyxl.styles import Font, Alignment\n",
    "from openpyxl.utils import coordinate_to_tuple\n",
    "import re"
   ],
   "metadata": {
    "collapsed": false,
    "ExecuteTime": {
     "end_time": "2023-09-19T20:15:10.926364200Z",
     "start_time": "2023-09-19T20:15:10.903363800Z"
    }
   },
   "id": "e71f007ab430ff5a"
  },
  {
   "cell_type": "code",
   "execution_count": 12,
   "outputs": [],
   "source": [
    "def find_empty_cell_top(column_index, sheet):\n",
    "    # Поиск первой пустой ячейки сверху вниз\n",
    "    empty_cell = None\n",
    "    row_index = 3\n",
    "    \n",
    "    while empty_cell is None:\n",
    "        cell_value = sheet.cell(row=row_index, column=column_index).value\n",
    "        if cell_value is None:\n",
    "            empty_cell = sheet.cell(row=row_index, column=column_index).coordinate\n",
    "        else:\n",
    "            row_index += 1\n",
    "            \n",
    "    return coordinate_to_tuple(empty_cell)\n",
    "\n",
    "def find_empty_cell_bottom(column_index, sheet):\n",
    "    # Поиск первой пустой ячейки сверху вниз\n",
    "    empty_cell = None\n",
    "    row_index = 194\n",
    "    \n",
    "    while empty_cell is None:\n",
    "        cell_value = sheet.cell(row=row_index, column=column_index).value\n",
    "        if cell_value is None:\n",
    "            empty_cell = sheet.cell(row=row_index, column=column_index).coordinate\n",
    "        else:\n",
    "            row_index -= 1\n",
    "            \n",
    "    return coordinate_to_tuple(empty_cell)"
   ],
   "metadata": {
    "collapsed": false,
    "ExecuteTime": {
     "end_time": "2023-09-19T20:15:29.763139400Z",
     "start_time": "2023-09-19T20:15:29.742574600Z"
    }
   },
   "id": "251e431f39d1782a"
  },
  {
   "cell_type": "code",
   "execution_count": 18,
   "outputs": [
    {
     "name": "stdout",
     "output_type": "stream",
     "text": [
      "80090.46\n",
      "129998.97\n",
      "200000.0\n",
      "55300.0\n"
     ]
    }
   ],
   "source": [
    "# Путь к существующему файлу Excel\n",
    "excel_file = '../docs/мой отчет p2p.xlsx'\n",
    "\n",
    "# Загрузка существующего файла Excel\n",
    "book = load_workbook(excel_file)\n",
    "\n",
    "# Выбор листа для записи данных\n",
    "sheet = book['11.09 ночная смена GarantexByBi']\n",
    "\n",
    "# Установка шрифта текста\n",
    "font = Font(name='Arial', size=12, bold=False, italic=False)\n",
    "\n",
    "# Установка выравнивания по центру\n",
    "alignment = Alignment(horizontal='center')\n",
    "\n",
    "# Координаты ячейки для начала записи данных\n",
    "cell_huobi_buy_usdt = find_empty_cell_top(7, sheet)\n",
    "\n",
    "for index, (value_rub, value) in enumerate(zip(filtered_data_huobi_history_p2p.loc[filtered_data_huobi_history_p2p['Тип'] == 'Купить', 'Общая цена'],\n",
    "                                               filtered_data_huobi_history_p2p.loc[filtered_data_huobi_history_p2p['Тип'] == 'Купить', 'Общая цена'])):\n",
    "    cell_rub = sheet.cell(row=cell_huobi_buy_usdt[0], column=cell_huobi_buy_usdt[1])\n",
    "    print(value)\n",
    "    # cell_rub.value = value['']\n",
    "    # cell_rub.font = font\n",
    "    # cell_rub.alignment = alignment\n",
    "\n",
    "\n",
    "# Сохранение изменений в файле Excel\n",
    "# book.save(excel_file)"
   ],
   "metadata": {
    "collapsed": false,
    "ExecuteTime": {
     "end_time": "2023-09-19T20:24:10.939770300Z",
     "start_time": "2023-09-19T20:24:10.750772100Z"
    }
   },
   "id": "64f5fb4023f4cd81"
  }
 ],
 "metadata": {
  "kernelspec": {
   "display_name": "Python 3",
   "language": "python",
   "name": "python3"
  },
  "language_info": {
   "codemirror_mode": {
    "name": "ipython",
    "version": 2
   },
   "file_extension": ".py",
   "mimetype": "text/x-python",
   "name": "python",
   "nbconvert_exporter": "python",
   "pygments_lexer": "ipython2",
   "version": "2.7.6"
  }
 },
 "nbformat": 4,
 "nbformat_minor": 5
}
